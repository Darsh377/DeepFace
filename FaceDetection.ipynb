{
 "cells": [
  {
   "cell_type": "markdown",
   "metadata": {},
   "source": [
    "# 1. Setup and Get Data"
   ]
  },
  {
   "cell_type": "markdown",
   "metadata": {},
   "source": [
    "### 1.1 Install Dependencies and Setup"
   ]
  },
  {
   "cell_type": "code",
   "execution_count": 1,
   "metadata": {
    "tags": []
   },
   "outputs": [
    {
     "name": "stdout",
     "output_type": "stream",
     "text": [
      "Collecting labelme\n",
      "  Downloading labelme-5.4.1.tar.gz (1.4 MB)\n",
      "     ---------------------------------------- 0.0/1.4 MB ? eta -:--:--\n",
      "      --------------------------------------- 0.0/1.4 MB 330.3 kB/s eta 0:00:05\n",
      "     - -------------------------------------- 0.0/1.4 MB 393.8 kB/s eta 0:00:04\n",
      "     - -------------------------------------- 0.1/1.4 MB 409.6 kB/s eta 0:00:04\n",
      "     --- ------------------------------------ 0.1/1.4 MB 654.9 kB/s eta 0:00:02\n",
      "     ----- ---------------------------------- 0.2/1.4 MB 794.9 kB/s eta 0:00:02\n",
      "     ------ --------------------------------- 0.2/1.4 MB 860.2 kB/s eta 0:00:02\n",
      "     --------- ------------------------------ 0.3/1.4 MB 1.1 MB/s eta 0:00:02\n",
      "     ---------- ----------------------------- 0.4/1.4 MB 1.0 MB/s eta 0:00:02\n",
      "     ----------- ---------------------------- 0.4/1.4 MB 970.6 kB/s eta 0:00:02\n",
      "     -------------- ------------------------- 0.5/1.4 MB 1.1 MB/s eta 0:00:01\n",
      "     ----------------- ---------------------- 0.6/1.4 MB 1.2 MB/s eta 0:00:01\n",
      "     ------------------ --------------------- 0.7/1.4 MB 1.2 MB/s eta 0:00:01\n",
      "     ---------------------- ----------------- 0.8/1.4 MB 1.3 MB/s eta 0:00:01\n",
      "     -------------------------- ------------- 0.9/1.4 MB 1.5 MB/s eta 0:00:01\n",
      "     ------------------------------- -------- 1.1/1.4 MB 1.6 MB/s eta 0:00:01\n",
      "     ----------------------------------- ---- 1.3/1.4 MB 1.7 MB/s eta 0:00:01\n",
      "     -------------------------------------- - 1.4/1.4 MB 1.7 MB/s eta 0:00:01\n",
      "     -------------------------------------- - 1.4/1.4 MB 1.6 MB/s eta 0:00:01\n",
      "     ---------------------------------------- 1.4/1.4 MB 1.6 MB/s eta 0:00:00\n",
      "  Preparing metadata (setup.py): started\n",
      "  Preparing metadata (setup.py): finished with status 'done'\n",
      "Requirement already satisfied: tensorflow in c:\\users\\darshan patel\\anaconda3\\envs\\myenv\\lib\\site-packages (2.10.1)\n",
      "Requirement already satisfied: tensorflow-gpu in c:\\users\\darshan patel\\anaconda3\\envs\\myenv\\lib\\site-packages (2.4.1)\n",
      "Requirement already satisfied: opencv-python in c:\\users\\darshan patel\\anaconda3\\envs\\myenv\\lib\\site-packages (4.9.0.80)\n",
      "Requirement already satisfied: matplotlib in c:\\users\\darshan patel\\anaconda3\\envs\\myenv\\lib\\site-packages (3.6.3)\n",
      "Collecting albumentations\n",
      "  Downloading albumentations-1.4.2-py3-none-any.whl.metadata (36 kB)\n",
      "Collecting gdown (from labelme)\n",
      "  Downloading gdown-5.1.0-py3-none-any.whl.metadata (5.7 kB)\n",
      "Collecting imgviz>=1.7.5 (from labelme)\n",
      "  Downloading imgviz-1.7.5.tar.gz (7.7 MB)\n",
      "     ---------------------------------------- 0.0/7.7 MB ? eta -:--:--\n",
      "     ---------------------------------------- 0.1/7.7 MB ? eta -:--:--\n",
      "     - -------------------------------------- 0.2/7.7 MB 3.0 MB/s eta 0:00:03\n",
      "     - -------------------------------------- 0.3/7.7 MB 3.4 MB/s eta 0:00:03\n",
      "     - -------------------------------------- 0.3/7.7 MB 2.4 MB/s eta 0:00:04\n",
      "     -- ------------------------------------- 0.5/7.7 MB 2.8 MB/s eta 0:00:03\n",
      "     -- ------------------------------------- 0.6/7.7 MB 2.4 MB/s eta 0:00:03\n",
      "     --- ------------------------------------ 0.7/7.7 MB 2.2 MB/s eta 0:00:04\n",
      "     ---- ----------------------------------- 0.8/7.7 MB 2.4 MB/s eta 0:00:03\n",
      "     ---- ----------------------------------- 1.0/7.7 MB 2.5 MB/s eta 0:00:03\n",
      "     ----- ---------------------------------- 1.1/7.7 MB 2.4 MB/s eta 0:00:03\n",
      "     ------ --------------------------------- 1.2/7.7 MB 2.5 MB/s eta 0:00:03\n",
      "     ------ --------------------------------- 1.3/7.7 MB 2.4 MB/s eta 0:00:03\n",
      "     ------- -------------------------------- 1.4/7.7 MB 2.4 MB/s eta 0:00:03\n",
      "     -------- ------------------------------- 1.6/7.7 MB 2.5 MB/s eta 0:00:03\n",
      "     -------- ------------------------------- 1.6/7.7 MB 2.4 MB/s eta 0:00:03\n",
      "     --------- ------------------------------ 1.7/7.7 MB 2.5 MB/s eta 0:00:03\n",
      "     --------- ------------------------------ 1.9/7.7 MB 2.4 MB/s eta 0:00:03\n",
      "     ---------- ----------------------------- 2.0/7.7 MB 2.5 MB/s eta 0:00:03\n",
      "     ---------- ----------------------------- 2.0/7.7 MB 2.4 MB/s eta 0:00:03\n",
      "     ----------- ---------------------------- 2.2/7.7 MB 2.5 MB/s eta 0:00:03\n",
      "     ------------ --------------------------- 2.3/7.7 MB 2.5 MB/s eta 0:00:03\n",
      "     ------------- -------------------------- 2.6/7.7 MB 2.6 MB/s eta 0:00:02\n",
      "     -------------- ------------------------- 2.8/7.7 MB 2.7 MB/s eta 0:00:02\n",
      "     ---------------- ----------------------- 3.1/7.7 MB 2.8 MB/s eta 0:00:02\n",
      "     ----------------- ---------------------- 3.3/7.7 MB 2.9 MB/s eta 0:00:02\n",
      "     ------------------ --------------------- 3.5/7.7 MB 2.9 MB/s eta 0:00:02\n",
      "     ------------------- -------------------- 3.8/7.7 MB 3.0 MB/s eta 0:00:02\n",
      "     --------------------- ------------------ 4.0/7.7 MB 3.0 MB/s eta 0:00:02\n",
      "     ---------------------- ----------------- 4.3/7.7 MB 3.2 MB/s eta 0:00:02\n",
      "     ----------------------- ---------------- 4.6/7.7 MB 3.3 MB/s eta 0:00:01\n",
      "     ------------------------ --------------- 4.8/7.7 MB 3.3 MB/s eta 0:00:01\n",
      "     ------------------------- -------------- 4.9/7.7 MB 3.2 MB/s eta 0:00:01\n",
      "     -------------------------- ------------- 5.0/7.7 MB 3.2 MB/s eta 0:00:01\n",
      "     ---------------------------- ----------- 5.4/7.7 MB 3.3 MB/s eta 0:00:01\n",
      "     ---------------------------- ----------- 5.5/7.7 MB 3.3 MB/s eta 0:00:01\n",
      "     ------------------------------ --------- 5.8/7.7 MB 3.3 MB/s eta 0:00:01\n",
      "     ------------------------------- -------- 6.1/7.7 MB 3.4 MB/s eta 0:00:01\n",
      "     --------------------------------- ------ 6.4/7.7 MB 3.5 MB/s eta 0:00:01\n",
      "     ---------------------------------- ----- 6.7/7.7 MB 3.5 MB/s eta 0:00:01\n",
      "     ------------------------------------ --- 7.0/7.7 MB 3.6 MB/s eta 0:00:01\n",
      "     ------------------------------------- -- 7.3/7.7 MB 3.6 MB/s eta 0:00:01\n",
      "     ---------------------------------------  7.6/7.7 MB 3.6 MB/s eta 0:00:01\n",
      "     ---------------------------------------- 7.7/7.7 MB 3.6 MB/s eta 0:00:00\n",
      "  Preparing metadata (setup.py): started\n",
      "  Preparing metadata (setup.py): finished with status 'done'\n",
      "Collecting natsort>=7.1.0 (from labelme)\n",
      "  Downloading natsort-8.4.0-py3-none-any.whl.metadata (21 kB)\n",
      "Requirement already satisfied: numpy in c:\\users\\darshan patel\\anaconda3\\envs\\myenv\\lib\\site-packages (from labelme) (1.19.5)\n",
      "Collecting onnxruntime!=1.16.0,>=1.14.1 (from labelme)\n",
      "  Downloading onnxruntime-1.17.1-cp38-cp38-win_amd64.whl.metadata (4.4 kB)\n",
      "Requirement already satisfied: Pillow>=2.8 in c:\\users\\darshan patel\\anaconda3\\envs\\myenv\\lib\\site-packages (from labelme) (10.2.0)\n",
      "Requirement already satisfied: PyYAML in c:\\users\\darshan patel\\anaconda3\\envs\\myenv\\lib\\site-packages (from labelme) (6.0.1)\n",
      "Requirement already satisfied: qtpy!=1.11.2 in c:\\users\\darshan patel\\anaconda3\\envs\\myenv\\lib\\site-packages (from labelme) (2.4.1)\n",
      "Collecting scikit-image (from labelme)\n",
      "  Downloading scikit_image-0.21.0-cp38-cp38-win_amd64.whl.metadata (14 kB)\n",
      "Requirement already satisfied: termcolor in c:\\users\\darshan patel\\anaconda3\\envs\\myenv\\lib\\site-packages (from labelme) (1.1.0)\n",
      "Collecting PyQt5!=5.15.3,!=5.15.4 (from labelme)\n",
      "  Downloading PyQt5-5.15.10-cp37-abi3-win_amd64.whl.metadata (2.2 kB)\n",
      "Requirement already satisfied: colorama in c:\\users\\darshan patel\\anaconda3\\envs\\myenv\\lib\\site-packages (from labelme) (0.4.6)\n",
      "Collecting absl-py>=1.0.0 (from tensorflow)\n",
      "  Using cached absl_py-2.1.0-py3-none-any.whl.metadata (2.3 kB)\n",
      "Requirement already satisfied: astunparse>=1.6.0 in c:\\users\\darshan patel\\anaconda3\\envs\\myenv\\lib\\site-packages (from tensorflow) (1.6.3)\n",
      "Collecting flatbuffers>=2.0 (from tensorflow)\n",
      "  Downloading flatbuffers-24.3.25-py2.py3-none-any.whl.metadata (850 bytes)\n",
      "Requirement already satisfied: gast<=0.4.0,>=0.2.1 in c:\\users\\darshan patel\\anaconda3\\envs\\myenv\\lib\\site-packages (from tensorflow) (0.3.3)\n",
      "Requirement already satisfied: google-pasta>=0.1.1 in c:\\users\\darshan patel\\anaconda3\\envs\\myenv\\lib\\site-packages (from tensorflow) (0.2.0)\n",
      "Requirement already satisfied: h5py>=2.9.0 in c:\\users\\darshan patel\\anaconda3\\envs\\myenv\\lib\\site-packages (from tensorflow) (2.10.0)\n",
      "Requirement already satisfied: keras-preprocessing>=1.1.1 in c:\\users\\darshan patel\\anaconda3\\envs\\myenv\\lib\\site-packages (from tensorflow) (1.1.2)\n",
      "Requirement already satisfied: libclang>=13.0.0 in c:\\users\\darshan patel\\anaconda3\\envs\\myenv\\lib\\site-packages (from tensorflow) (18.1.1)\n",
      "Collecting numpy (from labelme)\n",
      "  Using cached numpy-1.24.4-cp38-cp38-win_amd64.whl.metadata (5.6 kB)\n",
      "Requirement already satisfied: opt-einsum>=2.3.2 in c:\\users\\darshan patel\\anaconda3\\envs\\myenv\\lib\\site-packages (from tensorflow) (3.3.0)\n",
      "Requirement already satisfied: packaging in c:\\users\\darshan patel\\anaconda3\\envs\\myenv\\lib\\site-packages (from tensorflow) (24.0)\n",
      "Requirement already satisfied: protobuf<3.20,>=3.9.2 in c:\\users\\darshan patel\\anaconda3\\envs\\myenv\\lib\\site-packages (from tensorflow) (3.19.6)\n",
      "Requirement already satisfied: setuptools in c:\\users\\darshan patel\\anaconda3\\envs\\myenv\\lib\\site-packages (from tensorflow) (68.2.2)\n",
      "Requirement already satisfied: six>=1.12.0 in c:\\users\\darshan patel\\anaconda3\\envs\\myenv\\lib\\site-packages (from tensorflow) (1.15.0)\n",
      "Requirement already satisfied: typing-extensions>=3.6.6 in c:\\users\\darshan patel\\anaconda3\\envs\\myenv\\lib\\site-packages (from tensorflow) (4.10.0)\n",
      "Requirement already satisfied: wrapt>=1.11.0 in c:\\users\\darshan patel\\anaconda3\\envs\\myenv\\lib\\site-packages (from tensorflow) (1.12.1)\n",
      "Requirement already satisfied: tensorflow-io-gcs-filesystem>=0.23.1 in c:\\users\\darshan patel\\anaconda3\\envs\\myenv\\lib\\site-packages (from tensorflow) (0.31.0)\n",
      "Requirement already satisfied: grpcio<2.0,>=1.24.3 in c:\\users\\darshan patel\\anaconda3\\envs\\myenv\\lib\\site-packages (from tensorflow) (1.32.0)\n",
      "Requirement already satisfied: tensorboard<2.11,>=2.10 in c:\\users\\darshan patel\\anaconda3\\envs\\myenv\\lib\\site-packages (from tensorflow) (2.10.1)\n",
      "Collecting tensorflow-estimator<2.11,>=2.10.0 (from tensorflow)\n",
      "  Using cached tensorflow_estimator-2.10.0-py2.py3-none-any.whl.metadata (1.3 kB)\n",
      "Requirement already satisfied: keras<2.11,>=2.10.0 in c:\\users\\darshan patel\\anaconda3\\envs\\myenv\\lib\\site-packages (from tensorflow) (2.10.0)\n",
      "INFO: pip is looking at multiple versions of tensorflow-gpu to determine which version is compatible with other requirements. This could take a while.\n",
      "Collecting tensorflow-gpu\n",
      "  Downloading tensorflow-gpu-2.12.0.tar.gz (2.6 kB)\n",
      "  Preparing metadata (setup.py): started\n",
      "  Preparing metadata (setup.py): finished with status 'error'\n"
     ]
    },
    {
     "name": "stderr",
     "output_type": "stream",
     "text": [
      "  error: subprocess-exited-with-error\n",
      "  \n",
      "  python setup.py egg_info did not run successfully.\n",
      "  exit code: 1\n",
      "  \n",
      "  [39 lines of output]\n",
      "  Traceback (most recent call last):\n",
      "    File \"C:\\Users\\Darshan Patel\\anaconda3\\envs\\myenv\\lib\\site-packages\\setuptools\\_vendor\\packaging\\requirements.py\", line 35, in __init__\n",
      "      parsed = _parse_requirement(requirement_string)\n",
      "    File \"C:\\Users\\Darshan Patel\\anaconda3\\envs\\myenv\\lib\\site-packages\\setuptools\\_vendor\\packaging\\_parser.py\", line 64, in parse_requirement\n",
      "      return _parse_requirement(Tokenizer(source, rules=DEFAULT_RULES))\n",
      "    File \"C:\\Users\\Darshan Patel\\anaconda3\\envs\\myenv\\lib\\site-packages\\setuptools\\_vendor\\packaging\\_parser.py\", line 82, in _parse_requirement\n",
      "      url, specifier, marker = _parse_requirement_details(tokenizer)\n",
      "    File \"C:\\Users\\Darshan Patel\\anaconda3\\envs\\myenv\\lib\\site-packages\\setuptools\\_vendor\\packaging\\_parser.py\", line 126, in _parse_requirement_details\n",
      "      marker = _parse_requirement_marker(\n",
      "    File \"C:\\Users\\Darshan Patel\\anaconda3\\envs\\myenv\\lib\\site-packages\\setuptools\\_vendor\\packaging\\_parser.py\", line 147, in _parse_requirement_marker\n",
      "      tokenizer.raise_syntax_error(\n",
      "    File \"C:\\Users\\Darshan Patel\\anaconda3\\envs\\myenv\\lib\\site-packages\\setuptools\\_vendor\\packaging\\_tokenizer.py\", line 165, in raise_syntax_error\n",
      "      raise ParserSyntaxError(\n",
      "  setuptools.extern.packaging._tokenizer.ParserSyntaxError: Expected end or semicolon (after name and no valid version specifier)\n",
      "      python_version>\"3.7\"\n",
      "                    ^\n",
      "  \n",
      "  The above exception was the direct cause of the following exception:\n",
      "  \n",
      "  Traceback (most recent call last):\n",
      "    File \"<string>\", line 2, in <module>\n",
      "    File \"<pip-setuptools-caller>\", line 34, in <module>\n",
      "    File \"C:\\Users\\Darshan Patel\\AppData\\Local\\Temp\\pip-install-vromsczw\\tensorflow-gpu_710190578df546da8bf81d16b46be681\\setup.py\", line 40, in <module>\n",
      "      setuptools.setup()\n",
      "    File \"C:\\Users\\Darshan Patel\\anaconda3\\envs\\myenv\\lib\\site-packages\\setuptools\\__init__.py\", line 102, in setup\n",
      "      _install_setup_requires(attrs)\n",
      "    File \"C:\\Users\\Darshan Patel\\anaconda3\\envs\\myenv\\lib\\site-packages\\setuptools\\__init__.py\", line 73, in _install_setup_requires\n",
      "      dist.parse_config_files(ignore_option_errors=True)\n",
      "    File \"C:\\Users\\Darshan Patel\\anaconda3\\envs\\myenv\\lib\\site-packages\\setuptools\\dist.py\", line 655, in parse_config_files\n",
      "      self._finalize_requires()\n",
      "    File \"C:\\Users\\Darshan Patel\\anaconda3\\envs\\myenv\\lib\\site-packages\\setuptools\\dist.py\", line 390, in _finalize_requires\n",
      "      self._normalize_requires()\n",
      "    File \"C:\\Users\\Darshan Patel\\anaconda3\\envs\\myenv\\lib\\site-packages\\setuptools\\dist.py\", line 405, in _normalize_requires\n",
      "      self.install_requires = list(map(str, _reqs.parse(install_requires)))\n",
      "    File \"C:\\Users\\Darshan Patel\\anaconda3\\envs\\myenv\\lib\\site-packages\\setuptools\\_vendor\\packaging\\requirements.py\", line 37, in __init__\n",
      "      raise InvalidRequirement(str(e)) from e\n",
      "  setuptools.extern.packaging.requirements.InvalidRequirement: Expected end or semicolon (after name and no valid version specifier)\n",
      "      python_version>\"3.7\"\n",
      "                    ^\n",
      "  [end of output]\n",
      "  \n",
      "  note: This error originates from a subprocess, and is likely not a problem with pip.\n",
      "error: metadata-generation-failed\n",
      "\n",
      "Encountered error while generating package metadata.\n",
      "\n",
      "See above for output.\n",
      "\n",
      "note: This is an issue with the package mentioned above, not pip.\n",
      "hint: See above for details.\n"
     ]
    }
   ],
   "source": [
    "!pip install labelme tensorflow tensorflow-gpu opencv-python matplotlib albumentations"
   ]
  },
  {
   "cell_type": "markdown",
   "metadata": {},
   "source": [
    "### 1.2 Collect Images Using OpenCV"
   ]
  },
  {
   "cell_type": "code",
   "execution_count": 12,
   "metadata": {
    "tags": []
   },
   "outputs": [],
   "source": [
    "import os\n",
    "import time\n",
    "import uuid\n",
    "import cv2"
   ]
  },
  {
   "cell_type": "code",
   "execution_count": 13,
   "metadata": {
    "tags": []
   },
   "outputs": [],
   "source": [
    "IMAGES_PATH = os.path.join('data','images')\n",
    "number_images = 30"
   ]
  },
  {
   "cell_type": "code",
   "execution_count": 18,
   "metadata": {
    "tags": []
   },
   "outputs": [
    {
     "name": "stdout",
     "output_type": "stream",
     "text": [
      "Collecting image 0\n",
      "Collecting image 1\n",
      "Collecting image 2\n",
      "Collecting image 3\n",
      "Collecting image 4\n",
      "Collecting image 5\n",
      "Collecting image 6\n",
      "Collecting image 7\n",
      "Collecting image 8\n",
      "Collecting image 9\n",
      "Collecting image 10\n",
      "Collecting image 11\n",
      "Collecting image 12\n",
      "Collecting image 13\n",
      "Collecting image 14\n",
      "Collecting image 15\n",
      "Collecting image 16\n",
      "Collecting image 17\n",
      "Collecting image 18\n",
      "Collecting image 19\n",
      "Collecting image 20\n",
      "Collecting image 21\n",
      "Collecting image 22\n",
      "Collecting image 23\n",
      "Collecting image 24\n",
      "Collecting image 25\n",
      "Collecting image 26\n",
      "Collecting image 27\n",
      "Collecting image 28\n",
      "Collecting image 29\n"
     ]
    }
   ],
   "source": [
    "cap = cv2.VideoCapture(0)\n",
    "for imgnum in range(number_images):\n",
    "    print('Collecting image {}'.format(imgnum))\n",
    "    ret, frame = cap.read()\n",
    "    imgname = os.path.join(IMAGES_PATH,f'{str(uuid.uuid1())}.jpg')\n",
    "    cv2.imwrite(imgname, frame)\n",
    "    cv2.imshow('frame', frame)\n",
    "    time.sleep(0.5)\n",
    "\n",
    "    if cv2.waitKey(1) & 0xFF == ord('q'):\n",
    "        break\n",
    "cap.release()\n",
    "cv2.destroyAllWindows()"
   ]
  },
  {
   "cell_type": "code",
   "execution_count": 20,
   "metadata": {
    "tags": []
   },
   "outputs": [
    {
     "name": "stdout",
     "output_type": "stream",
     "text": [
      "Collecting image 0\n",
      "Collecting image 1\n",
      "Collecting image 2\n",
      "Collecting image 3\n",
      "Collecting image 4\n",
      "Collecting image 5\n",
      "Collecting image 6\n",
      "Collecting image 7\n",
      "Collecting image 8\n",
      "Collecting image 9\n",
      "Collecting image 10\n",
      "Collecting image 11\n",
      "Collecting image 12\n",
      "Collecting image 13\n",
      "Collecting image 14\n",
      "Collecting image 15\n",
      "Collecting image 16\n",
      "Collecting image 17\n",
      "Collecting image 18\n",
      "Collecting image 19\n",
      "Collecting image 20\n",
      "Collecting image 21\n",
      "Collecting image 22\n",
      "Collecting image 23\n",
      "Collecting image 24\n",
      "Collecting image 25\n",
      "Collecting image 26\n",
      "Collecting image 27\n",
      "Collecting image 28\n",
      "Collecting image 29\n"
     ]
    }
   ],
   "source": [
    "cap = cv2.VideoCapture(0)\n",
    "for imgnum in range(number_images):\n",
    "    print('Collecting image {}'.format(imgnum))\n",
    "    ret, frame = cap.read()\n",
    "    imgname = os.path.join(IMAGES_PATH,f'{str(uuid.uuid1())}.jpg')\n",
    "    cv2.imwrite(imgname, frame)\n",
    "    cv2.imshow('frame', frame)\n",
    "    time.sleep(0.5)\n",
    "\n",
    "    if cv2.waitKey(1) & 0xFF == ord('q'):\n",
    "        break\n",
    "cap.release()\n",
    "cv2.destroyAllWindows()"
   ]
  },
  {
   "cell_type": "markdown",
   "metadata": {},
   "source": [
    "### 1.3 Annotate Images with LabelMe"
   ]
  },
  {
   "cell_type": "code",
   "execution_count": 22,
   "metadata": {},
   "outputs": [
    {
     "name": "stdout",
     "output_type": "stream",
     "text": [
      "Collecting labelme\n",
      "  Using cached labelme-5.4.1.tar.gz (1.4 MB)\n",
      "  Preparing metadata (setup.py): started\n",
      "  Preparing metadata (setup.py): finished with status 'done'\n",
      "Collecting gdown (from labelme)\n",
      "  Using cached gdown-5.1.0-py3-none-any.whl.metadata (5.7 kB)\n",
      "Collecting imgviz>=1.7.5 (from labelme)\n",
      "  Using cached imgviz-1.7.5.tar.gz (7.7 MB)\n",
      "  Preparing metadata (setup.py): started\n",
      "  Preparing metadata (setup.py): finished with status 'done'\n",
      "Requirement already satisfied: matplotlib in c:\\users\\darshan patel\\anaconda3\\envs\\myenv\\lib\\site-packages (from labelme) (3.6.3)\n",
      "Collecting natsort>=7.1.0 (from labelme)\n",
      "  Using cached natsort-8.4.0-py3-none-any.whl.metadata (21 kB)\n",
      "Requirement already satisfied: numpy in c:\\users\\darshan patel\\anaconda3\\envs\\myenv\\lib\\site-packages (from labelme) (1.19.5)\n",
      "Collecting onnxruntime!=1.16.0,>=1.14.1 (from labelme)\n",
      "  Using cached onnxruntime-1.17.1-cp38-cp38-win_amd64.whl.metadata (4.4 kB)\n",
      "Requirement already satisfied: Pillow>=2.8 in c:\\users\\darshan patel\\anaconda3\\envs\\myenv\\lib\\site-packages (from labelme) (10.2.0)\n",
      "Requirement already satisfied: PyYAML in c:\\users\\darshan patel\\anaconda3\\envs\\myenv\\lib\\site-packages (from labelme) (6.0.1)\n",
      "Requirement already satisfied: qtpy!=1.11.2 in c:\\users\\darshan patel\\anaconda3\\envs\\myenv\\lib\\site-packages (from labelme) (2.4.1)\n",
      "Collecting scikit-image (from labelme)\n",
      "  Using cached scikit_image-0.21.0-cp38-cp38-win_amd64.whl.metadata (14 kB)\n",
      "Requirement already satisfied: termcolor in c:\\users\\darshan patel\\anaconda3\\envs\\myenv\\lib\\site-packages (from labelme) (1.1.0)\n",
      "Collecting PyQt5!=5.15.3,!=5.15.4 (from labelme)\n",
      "  Using cached PyQt5-5.15.10-cp37-abi3-win_amd64.whl.metadata (2.2 kB)\n",
      "Requirement already satisfied: colorama in c:\\users\\darshan patel\\anaconda3\\envs\\myenv\\lib\\site-packages (from labelme) (0.4.6)\n",
      "Collecting coloredlogs (from onnxruntime!=1.16.0,>=1.14.1->labelme)\n",
      "  Downloading coloredlogs-15.0.1-py2.py3-none-any.whl.metadata (12 kB)\n",
      "Requirement already satisfied: flatbuffers in c:\\users\\darshan patel\\anaconda3\\envs\\myenv\\lib\\site-packages (from onnxruntime!=1.16.0,>=1.14.1->labelme) (1.12)\n",
      "Collecting numpy (from labelme)\n",
      "  Using cached numpy-1.24.4-cp38-cp38-win_amd64.whl.metadata (5.6 kB)\n",
      "Requirement already satisfied: packaging in c:\\users\\darshan patel\\anaconda3\\envs\\myenv\\lib\\site-packages (from onnxruntime!=1.16.0,>=1.14.1->labelme) (24.0)\n",
      "Requirement already satisfied: protobuf in c:\\users\\darshan patel\\anaconda3\\envs\\myenv\\lib\\site-packages (from onnxruntime!=1.16.0,>=1.14.1->labelme) (3.19.6)\n",
      "Collecting sympy (from onnxruntime!=1.16.0,>=1.14.1->labelme)\n",
      "  Downloading sympy-1.12-py3-none-any.whl.metadata (12 kB)\n",
      "Collecting PyQt5-sip<13,>=12.13 (from PyQt5!=5.15.3,!=5.15.4->labelme)\n",
      "  Downloading PyQt5_sip-12.13.0-cp38-cp38-win_amd64.whl.metadata (524 bytes)\n",
      "Collecting PyQt5-Qt5>=5.15.2 (from PyQt5!=5.15.3,!=5.15.4->labelme)\n",
      "  Downloading PyQt5_Qt5-5.15.2-py3-none-win_amd64.whl.metadata (552 bytes)\n",
      "Requirement already satisfied: beautifulsoup4 in c:\\users\\darshan patel\\anaconda3\\envs\\myenv\\lib\\site-packages (from gdown->labelme) (4.12.3)\n",
      "Collecting filelock (from gdown->labelme)\n",
      "  Downloading filelock-3.13.3-py3-none-any.whl.metadata (2.8 kB)\n",
      "Requirement already satisfied: requests[socks] in c:\\users\\darshan patel\\anaconda3\\envs\\myenv\\lib\\site-packages (from gdown->labelme) (2.31.0)\n",
      "Collecting tqdm (from gdown->labelme)\n",
      "  Downloading tqdm-4.66.2-py3-none-any.whl.metadata (57 kB)\n",
      "     ---------------------------------------- 0.0/57.6 kB ? eta -:--:--\n",
      "     ----------------------------------- ---- 51.2/57.6 kB 1.3 MB/s eta 0:00:01\n",
      "     ---------------------------------------- 57.6/57.6 kB 1.0 MB/s eta 0:00:00\n",
      "Requirement already satisfied: contourpy>=1.0.1 in c:\\users\\darshan patel\\anaconda3\\envs\\myenv\\lib\\site-packages (from matplotlib->labelme) (1.1.1)\n",
      "Requirement already satisfied: cycler>=0.10 in c:\\users\\darshan patel\\anaconda3\\envs\\myenv\\lib\\site-packages (from matplotlib->labelme) (0.12.1)\n",
      "Requirement already satisfied: fonttools>=4.22.0 in c:\\users\\darshan patel\\anaconda3\\envs\\myenv\\lib\\site-packages (from matplotlib->labelme) (4.50.0)\n",
      "Requirement already satisfied: kiwisolver>=1.0.1 in c:\\users\\darshan patel\\anaconda3\\envs\\myenv\\lib\\site-packages (from matplotlib->labelme) (1.4.5)\n",
      "Requirement already satisfied: pyparsing>=2.2.1 in c:\\users\\darshan patel\\anaconda3\\envs\\myenv\\lib\\site-packages (from matplotlib->labelme) (3.1.2)\n",
      "Requirement already satisfied: python-dateutil>=2.7 in c:\\users\\darshan patel\\anaconda3\\envs\\myenv\\lib\\site-packages (from matplotlib->labelme) (2.9.0.post0)\n",
      "Requirement already satisfied: scipy>=1.8 in c:\\users\\darshan patel\\anaconda3\\envs\\myenv\\lib\\site-packages (from scikit-image->labelme) (1.10.1)\n",
      "Collecting networkx>=2.8 (from scikit-image->labelme)\n",
      "  Downloading networkx-3.1-py3-none-any.whl.metadata (5.3 kB)\n",
      "Collecting imageio>=2.27 (from scikit-image->labelme)\n",
      "  Downloading imageio-2.34.0-py3-none-any.whl.metadata (4.9 kB)\n",
      "Collecting tifffile>=2022.8.12 (from scikit-image->labelme)\n",
      "  Downloading tifffile-2023.7.10-py3-none-any.whl.metadata (31 kB)\n",
      "Collecting PyWavelets>=1.1.1 (from scikit-image->labelme)\n",
      "  Downloading PyWavelets-1.4.1-cp38-cp38-win_amd64.whl.metadata (1.9 kB)\n",
      "Collecting lazy_loader>=0.2 (from scikit-image->labelme)\n",
      "  Downloading lazy_loader-0.3-py3-none-any.whl.metadata (4.3 kB)\n",
      "Requirement already satisfied: six>=1.5 in c:\\users\\darshan patel\\anaconda3\\envs\\myenv\\lib\\site-packages (from python-dateutil>=2.7->matplotlib->labelme) (1.15.0)\n",
      "Requirement already satisfied: soupsieve>1.2 in c:\\users\\darshan patel\\anaconda3\\envs\\myenv\\lib\\site-packages (from beautifulsoup4->gdown->labelme) (2.5)\n",
      "Collecting humanfriendly>=9.1 (from coloredlogs->onnxruntime!=1.16.0,>=1.14.1->labelme)\n",
      "  Downloading humanfriendly-10.0-py2.py3-none-any.whl.metadata (9.2 kB)\n",
      "Requirement already satisfied: charset-normalizer<4,>=2 in c:\\users\\darshan patel\\anaconda3\\envs\\myenv\\lib\\site-packages (from requests[socks]->gdown->labelme) (3.3.2)\n",
      "Requirement already satisfied: idna<4,>=2.5 in c:\\users\\darshan patel\\anaconda3\\envs\\myenv\\lib\\site-packages (from requests[socks]->gdown->labelme) (3.6)\n",
      "Requirement already satisfied: urllib3<3,>=1.21.1 in c:\\users\\darshan patel\\anaconda3\\envs\\myenv\\lib\\site-packages (from requests[socks]->gdown->labelme) (2.2.1)\n",
      "Requirement already satisfied: certifi>=2017.4.17 in c:\\users\\darshan patel\\anaconda3\\envs\\myenv\\lib\\site-packages (from requests[socks]->gdown->labelme) (2024.2.2)\n",
      "Collecting PySocks!=1.5.7,>=1.5.6 (from requests[socks]->gdown->labelme)\n",
      "  Downloading PySocks-1.7.1-py3-none-any.whl.metadata (13 kB)\n",
      "Collecting mpmath>=0.19 (from sympy->onnxruntime!=1.16.0,>=1.14.1->labelme)\n",
      "  Downloading mpmath-1.3.0-py3-none-any.whl.metadata (8.6 kB)\n",
      "Collecting pyreadline3 (from humanfriendly>=9.1->coloredlogs->onnxruntime!=1.16.0,>=1.14.1->labelme)\n",
      "  Downloading pyreadline3-3.4.1-py3-none-any.whl.metadata (2.0 kB)\n",
      "Downloading natsort-8.4.0-py3-none-any.whl (38 kB)\n",
      "Downloading onnxruntime-1.17.1-cp38-cp38-win_amd64.whl (5.6 MB)\n",
      "   ---------------------------------------- 0.0/5.6 MB ? eta -:--:--\n",
      "    --------------------------------------- 0.1/5.6 MB 2.2 MB/s eta 0:00:03\n",
      "   -- ------------------------------------- 0.3/5.6 MB 2.5 MB/s eta 0:00:03\n",
      "   --- ------------------------------------ 0.6/5.6 MB 3.5 MB/s eta 0:00:02\n",
      "   ----- ---------------------------------- 0.7/5.6 MB 3.4 MB/s eta 0:00:02\n",
      "   ------- -------------------------------- 1.0/5.6 MB 4.0 MB/s eta 0:00:02\n",
      "   --------- ------------------------------ 1.3/5.6 MB 4.3 MB/s eta 0:00:01\n",
      "   ---------- ----------------------------- 1.5/5.6 MB 4.4 MB/s eta 0:00:01\n",
      "   ------------ --------------------------- 1.8/5.6 MB 4.6 MB/s eta 0:00:01\n",
      "   -------------- ------------------------- 2.1/5.6 MB 4.7 MB/s eta 0:00:01\n",
      "   ---------------- ----------------------- 2.4/5.6 MB 4.8 MB/s eta 0:00:01\n",
      "   ------------------ --------------------- 2.6/5.6 MB 4.9 MB/s eta 0:00:01\n",
      "   -------------------- ------------------- 2.9/5.6 MB 5.0 MB/s eta 0:00:01\n",
      "   ---------------------- ----------------- 3.1/5.6 MB 5.1 MB/s eta 0:00:01\n",
      "   ------------------------ --------------- 3.4/5.6 MB 5.1 MB/s eta 0:00:01\n",
      "   -------------------------- ------------- 3.7/5.6 MB 5.1 MB/s eta 0:00:01\n",
      "   --------------------------- ------------ 3.9/5.6 MB 5.1 MB/s eta 0:00:01\n",
      "   ----------------------------- ---------- 4.2/5.6 MB 5.2 MB/s eta 0:00:01\n",
      "   -------------------------------- ------- 4.5/5.6 MB 5.3 MB/s eta 0:00:01\n",
      "   ----------------------------------- ---- 4.9/5.6 MB 5.4 MB/s eta 0:00:01\n",
      "   ------------------------------------ --- 5.1/5.6 MB 5.3 MB/s eta 0:00:01\n",
      "   -------------------------------------- - 5.4/5.6 MB 5.2 MB/s eta 0:00:01\n",
      "   ---------------------------------------  5.6/5.6 MB 5.2 MB/s eta 0:00:01\n",
      "   ---------------------------------------- 5.6/5.6 MB 5.0 MB/s eta 0:00:00\n",
      "Using cached numpy-1.24.4-cp38-cp38-win_amd64.whl (14.9 MB)\n",
      "Downloading PyQt5-5.15.10-cp37-abi3-win_amd64.whl (6.8 MB)\n",
      "   ---------------------------------------- 0.0/6.8 MB ? eta -:--:--\n",
      "   - -------------------------------------- 0.2/6.8 MB 7.6 MB/s eta 0:00:01\n",
      "   --- ------------------------------------ 0.6/6.8 MB 6.1 MB/s eta 0:00:02\n",
      "   ----- ---------------------------------- 1.0/6.8 MB 6.1 MB/s eta 0:00:01\n",
      "   ------- -------------------------------- 1.4/6.8 MB 6.2 MB/s eta 0:00:01\n",
      "   --------- ------------------------------ 1.6/6.8 MB 6.1 MB/s eta 0:00:01\n",
      "   ---------- ----------------------------- 1.9/6.8 MB 5.9 MB/s eta 0:00:01\n",
      "   ------------ --------------------------- 2.1/6.8 MB 5.8 MB/s eta 0:00:01\n",
      "   -------------- ------------------------- 2.4/6.8 MB 5.9 MB/s eta 0:00:01\n",
      "   --------------- ------------------------ 2.7/6.8 MB 5.8 MB/s eta 0:00:01\n",
      "   ----------------- ---------------------- 2.9/6.8 MB 5.8 MB/s eta 0:00:01\n",
      "   ------------------ --------------------- 3.2/6.8 MB 5.9 MB/s eta 0:00:01\n",
      "   -------------------- ------------------- 3.5/6.8 MB 5.9 MB/s eta 0:00:01\n",
      "   --------------------- ------------------ 3.7/6.8 MB 5.8 MB/s eta 0:00:01\n",
      "   ---------------------- ----------------- 3.9/6.8 MB 5.7 MB/s eta 0:00:01\n",
      "   ------------------------ --------------- 4.2/6.8 MB 5.7 MB/s eta 0:00:01\n",
      "   -------------------------- ------------- 4.5/6.8 MB 5.7 MB/s eta 0:00:01\n",
      "   --------------------------- ------------ 4.7/6.8 MB 5.7 MB/s eta 0:00:01\n",
      "   ---------------------------- ----------- 4.9/6.8 MB 5.6 MB/s eta 0:00:01\n",
      "   ------------------------------ --------- 5.3/6.8 MB 5.7 MB/s eta 0:00:01\n",
      "   -------------------------------- ------- 5.5/6.8 MB 5.7 MB/s eta 0:00:01\n",
      "   ---------------------------------- ----- 5.8/6.8 MB 5.7 MB/s eta 0:00:01\n",
      "   ----------------------------------- ---- 6.1/6.8 MB 5.7 MB/s eta 0:00:01\n",
      "   ------------------------------------- -- 6.4/6.8 MB 5.8 MB/s eta 0:00:01\n",
      "   -------------------------------------- - 6.6/6.8 MB 5.7 MB/s eta 0:00:01\n",
      "   ---------------------------------------  6.8/6.8 MB 5.8 MB/s eta 0:00:01\n",
      "   ---------------------------------------- 6.8/6.8 MB 5.6 MB/s eta 0:00:00\n",
      "Downloading gdown-5.1.0-py3-none-any.whl (17 kB)\n",
      "Downloading scikit_image-0.21.0-cp38-cp38-win_amd64.whl (22.7 MB)\n",
      "   ---------------------------------------- 0.0/22.7 MB ? eta -:--:--\n",
      "   ---------------------------------------- 0.3/22.7 MB 8.6 MB/s eta 0:00:03\n",
      "   - -------------------------------------- 0.6/22.7 MB 6.5 MB/s eta 0:00:04\n",
      "   - -------------------------------------- 0.9/22.7 MB 7.0 MB/s eta 0:00:04\n",
      "   -- ------------------------------------- 1.2/22.7 MB 6.8 MB/s eta 0:00:04\n",
      "   -- ------------------------------------- 1.4/22.7 MB 6.6 MB/s eta 0:00:04\n",
      "   -- ------------------------------------- 1.7/22.7 MB 6.3 MB/s eta 0:00:04\n",
      "   --- ------------------------------------ 2.1/22.7 MB 6.3 MB/s eta 0:00:04\n",
      "   ---- ----------------------------------- 2.3/22.7 MB 6.0 MB/s eta 0:00:04\n",
      "   ---- ----------------------------------- 2.6/22.7 MB 5.8 MB/s eta 0:00:04\n",
      "   ----- ---------------------------------- 3.0/22.7 MB 5.8 MB/s eta 0:00:04\n",
      "   ----- ---------------------------------- 3.2/22.7 MB 5.5 MB/s eta 0:00:04\n",
      "   ------ --------------------------------- 3.5/22.7 MB 5.5 MB/s eta 0:00:04\n",
      "   ------ --------------------------------- 3.9/22.7 MB 5.5 MB/s eta 0:00:04\n",
      "   ------- -------------------------------- 4.1/22.7 MB 5.5 MB/s eta 0:00:04\n",
      "   ------- -------------------------------- 4.3/22.7 MB 5.5 MB/s eta 0:00:04\n",
      "   ------- -------------------------------- 4.4/22.7 MB 5.2 MB/s eta 0:00:04\n",
      "   -------- ------------------------------- 4.7/22.7 MB 5.2 MB/s eta 0:00:04\n",
      "   -------- ------------------------------- 5.0/22.7 MB 5.3 MB/s eta 0:00:04\n",
      "   -------- ------------------------------- 5.1/22.7 MB 5.2 MB/s eta 0:00:04\n",
      "   --------- ------------------------------ 5.4/22.7 MB 5.2 MB/s eta 0:00:04\n",
      "   --------- ------------------------------ 5.7/22.7 MB 5.3 MB/s eta 0:00:04\n",
      "   ---------- ----------------------------- 5.9/22.7 MB 5.3 MB/s eta 0:00:04\n",
      "   ---------- ----------------------------- 6.2/22.7 MB 5.3 MB/s eta 0:00:04\n",
      "   ----------- ---------------------------- 6.5/22.7 MB 5.3 MB/s eta 0:00:04\n",
      "   ----------- ---------------------------- 6.7/22.7 MB 5.3 MB/s eta 0:00:04\n",
      "   ------------ --------------------------- 7.0/22.7 MB 5.4 MB/s eta 0:00:03\n",
      "   ------------ --------------------------- 7.2/22.7 MB 5.4 MB/s eta 0:00:03\n",
      "   ------------- -------------------------- 7.5/22.7 MB 5.4 MB/s eta 0:00:03\n",
      "   ------------- -------------------------- 7.6/22.7 MB 5.2 MB/s eta 0:00:03\n",
      "   ------------- -------------------------- 7.8/22.7 MB 5.3 MB/s eta 0:00:03\n",
      "   -------------- ------------------------- 8.1/22.7 MB 5.3 MB/s eta 0:00:03\n",
      "   -------------- ------------------------- 8.4/22.7 MB 5.3 MB/s eta 0:00:03\n",
      "   --------------- ------------------------ 8.8/22.7 MB 5.3 MB/s eta 0:00:03\n",
      "   --------------- ------------------------ 9.0/22.7 MB 5.3 MB/s eta 0:00:03\n",
      "   ---------------- ----------------------- 9.4/22.7 MB 5.3 MB/s eta 0:00:03\n",
      "   ----------------- ---------------------- 9.7/22.7 MB 5.3 MB/s eta 0:00:03\n",
      "   ----------------- ---------------------- 10.0/22.7 MB 5.4 MB/s eta 0:00:03\n",
      "   ------------------ --------------------- 10.4/22.7 MB 5.4 MB/s eta 0:00:03\n",
      "   ------------------ --------------------- 10.4/22.7 MB 5.3 MB/s eta 0:00:03\n",
      "   ------------------- -------------------- 10.8/22.7 MB 5.2 MB/s eta 0:00:03\n",
      "   ------------------- -------------------- 11.2/22.7 MB 5.2 MB/s eta 0:00:03\n",
      "   ------------------- -------------------- 11.4/22.7 MB 5.2 MB/s eta 0:00:03\n",
      "   -------------------- ------------------- 11.4/22.7 MB 5.0 MB/s eta 0:00:03\n",
      "   -------------------- ------------------- 11.7/22.7 MB 5.1 MB/s eta 0:00:03\n",
      "   --------------------- ------------------ 12.0/22.7 MB 5.1 MB/s eta 0:00:03\n",
      "   --------------------- ------------------ 12.3/22.7 MB 5.1 MB/s eta 0:00:03\n",
      "   ---------------------- ----------------- 12.6/22.7 MB 5.1 MB/s eta 0:00:02\n",
      "   ---------------------- ----------------- 12.9/22.7 MB 5.1 MB/s eta 0:00:02\n",
      "   ----------------------- ---------------- 13.2/22.7 MB 5.0 MB/s eta 0:00:02\n",
      "   ----------------------- ---------------- 13.6/22.7 MB 5.2 MB/s eta 0:00:02\n",
      "   ------------------------ --------------- 14.0/22.7 MB 5.2 MB/s eta 0:00:02\n",
      "   ------------------------- -------------- 14.3/22.7 MB 5.2 MB/s eta 0:00:02\n",
      "   ------------------------- -------------- 14.7/22.7 MB 5.3 MB/s eta 0:00:02\n",
      "   -------------------------- ------------- 15.1/22.7 MB 5.3 MB/s eta 0:00:02\n",
      "   -------------------------- ------------- 15.2/22.7 MB 5.2 MB/s eta 0:00:02\n",
      "   --------------------------- ------------ 15.4/22.7 MB 5.2 MB/s eta 0:00:02\n",
      "   --------------------------- ------------ 15.7/22.7 MB 5.2 MB/s eta 0:00:02\n",
      "   ---------------------------- ----------- 16.0/22.7 MB 5.2 MB/s eta 0:00:02\n",
      "   ---------------------------- ----------- 16.2/22.7 MB 5.2 MB/s eta 0:00:02\n",
      "   ---------------------------- ----------- 16.5/22.7 MB 5.2 MB/s eta 0:00:02\n",
      "   ----------------------------- ---------- 16.8/22.7 MB 5.2 MB/s eta 0:00:02\n",
      "   ----------------------------- ---------- 16.9/22.7 MB 5.2 MB/s eta 0:00:02\n",
      "   ------------------------------ --------- 17.1/22.7 MB 5.2 MB/s eta 0:00:02\n",
      "   ------------------------------ --------- 17.4/22.7 MB 5.2 MB/s eta 0:00:02\n",
      "   ------------------------------- -------- 17.6/22.7 MB 5.2 MB/s eta 0:00:01\n",
      "   ------------------------------- -------- 17.8/22.7 MB 5.2 MB/s eta 0:00:01\n",
      "   ------------------------------- -------- 18.1/22.7 MB 5.2 MB/s eta 0:00:01\n",
      "   -------------------------------- ------- 18.4/22.7 MB 5.2 MB/s eta 0:00:01\n",
      "   -------------------------------- ------- 18.5/22.7 MB 5.1 MB/s eta 0:00:01\n",
      "   --------------------------------- ------ 18.7/22.7 MB 5.1 MB/s eta 0:00:01\n",
      "   --------------------------------- ------ 19.1/22.7 MB 5.2 MB/s eta 0:00:01\n",
      "   ---------------------------------- ----- 19.3/22.7 MB 5.2 MB/s eta 0:00:01\n",
      "   ---------------------------------- ----- 19.6/22.7 MB 5.2 MB/s eta 0:00:01\n",
      "   ---------------------------------- ----- 19.7/22.7 MB 5.1 MB/s eta 0:00:01\n",
      "   ----------------------------------- ---- 19.9/22.7 MB 5.1 MB/s eta 0:00:01\n",
      "   ----------------------------------- ---- 20.3/22.7 MB 5.1 MB/s eta 0:00:01\n",
      "   ------------------------------------ --- 20.7/22.7 MB 5.3 MB/s eta 0:00:01\n",
      "   ------------------------------------ --- 21.0/22.7 MB 5.2 MB/s eta 0:00:01\n",
      "   ------------------------------------- -- 21.4/22.7 MB 5.2 MB/s eta 0:00:01\n",
      "   -------------------------------------- - 21.7/22.7 MB 5.4 MB/s eta 0:00:01\n",
      "   -------------------------------------- - 22.0/22.7 MB 5.4 MB/s eta 0:00:01\n",
      "   ---------------------------------------  22.2/22.7 MB 5.3 MB/s eta 0:00:01\n",
      "   ---------------------------------------  22.5/22.7 MB 5.3 MB/s eta 0:00:01\n",
      "   ---------------------------------------  22.7/22.7 MB 5.3 MB/s eta 0:00:01\n",
      "   ---------------------------------------  22.7/22.7 MB 5.3 MB/s eta 0:00:01\n",
      "   ---------------------------------------- 22.7/22.7 MB 5.2 MB/s eta 0:00:00\n",
      "Downloading imageio-2.34.0-py3-none-any.whl (313 kB)\n",
      "   ---------------------------------------- 0.0/313.4 kB ? eta -:--:--\n",
      "   ---------------------------------------- 313.4/313.4 kB 9.8 MB/s eta 0:00:00\n",
      "Downloading lazy_loader-0.3-py3-none-any.whl (9.1 kB)\n",
      "Downloading networkx-3.1-py3-none-any.whl (2.1 MB)\n",
      "   ---------------------------------------- 0.0/2.1 MB ? eta -:--:--\n",
      "   ------ --------------------------------- 0.4/2.1 MB 7.4 MB/s eta 0:00:01\n",
      "   ------------ --------------------------- 0.6/2.1 MB 6.5 MB/s eta 0:00:01\n",
      "   ---------------- ----------------------- 0.8/2.1 MB 5.8 MB/s eta 0:00:01\n",
      "   ---------------------- ----------------- 1.1/2.1 MB 6.0 MB/s eta 0:00:01\n",
      "   -------------------------- ------------- 1.4/2.1 MB 5.9 MB/s eta 0:00:01\n",
      "   --------------------------------- ------ 1.7/2.1 MB 6.1 MB/s eta 0:00:01\n",
      "   -------------------------------------- - 2.0/2.1 MB 6.4 MB/s eta 0:00:01\n",
      "   -------------------------------------- - 2.0/2.1 MB 6.4 MB/s eta 0:00:01\n",
      "   ---------------------------------------- 2.1/2.1 MB 4.9 MB/s eta 0:00:00\n",
      "Downloading PyQt5_Qt5-5.15.2-py3-none-win_amd64.whl (50.1 MB)\n",
      "   ---------------------------------------- 0.0/50.1 MB ? eta -:--:--\n",
      "   ---------------------------------------- 0.3/50.1 MB 6.5 MB/s eta 0:00:08\n",
      "   ---------------------------------------- 0.5/50.1 MB 5.2 MB/s eta 0:00:10\n",
      "    --------------------------------------- 0.8/50.1 MB 5.6 MB/s eta 0:00:09\n",
      "    --------------------------------------- 1.0/50.1 MB 5.7 MB/s eta 0:00:09\n",
      "   - -------------------------------------- 1.3/50.1 MB 5.3 MB/s eta 0:00:10\n",
      "   - -------------------------------------- 1.5/50.1 MB 5.3 MB/s eta 0:00:10\n",
      "   - -------------------------------------- 1.7/50.1 MB 5.2 MB/s eta 0:00:10\n",
      "   - -------------------------------------- 2.0/50.1 MB 5.4 MB/s eta 0:00:09\n",
      "   - -------------------------------------- 2.2/50.1 MB 5.3 MB/s eta 0:00:10\n",
      "   -- ------------------------------------- 2.5/50.1 MB 5.6 MB/s eta 0:00:09\n",
      "   -- ------------------------------------- 2.9/50.1 MB 5.7 MB/s eta 0:00:09\n",
      "   -- ------------------------------------- 3.2/50.1 MB 5.7 MB/s eta 0:00:09\n",
      "   -- ------------------------------------- 3.5/50.1 MB 5.8 MB/s eta 0:00:09\n",
      "   -- ------------------------------------- 3.7/50.1 MB 5.7 MB/s eta 0:00:09\n",
      "   --- ------------------------------------ 4.0/50.1 MB 5.8 MB/s eta 0:00:08\n",
      "   --- ------------------------------------ 4.4/50.1 MB 5.9 MB/s eta 0:00:08\n",
      "   --- ------------------------------------ 4.8/50.1 MB 5.9 MB/s eta 0:00:08\n",
      "   ---- ----------------------------------- 5.2/50.1 MB 5.9 MB/s eta 0:00:08\n",
      "   ---- ----------------------------------- 5.5/50.1 MB 5.8 MB/s eta 0:00:08\n",
      "   ---- ----------------------------------- 5.8/50.1 MB 5.8 MB/s eta 0:00:08\n",
      "   ---- ----------------------------------- 6.2/50.1 MB 5.8 MB/s eta 0:00:08\n",
      "   ----- ---------------------------------- 6.6/50.1 MB 5.8 MB/s eta 0:00:08\n",
      "   ----- ---------------------------------- 7.0/50.1 MB 5.9 MB/s eta 0:00:08\n",
      "   ----- ---------------------------------- 7.4/50.1 MB 5.9 MB/s eta 0:00:08\n",
      "   ------ --------------------------------- 7.6/50.1 MB 5.9 MB/s eta 0:00:08\n",
      "   ------ --------------------------------- 7.9/50.1 MB 5.9 MB/s eta 0:00:08\n",
      "   ------ --------------------------------- 8.0/50.1 MB 5.8 MB/s eta 0:00:08\n",
      "   ------ --------------------------------- 8.1/50.1 MB 5.6 MB/s eta 0:00:08\n",
      "   ------ --------------------------------- 8.4/50.1 MB 5.7 MB/s eta 0:00:08\n",
      "   ------ --------------------------------- 8.7/50.1 MB 5.7 MB/s eta 0:00:08\n",
      "   ------- -------------------------------- 8.8/50.1 MB 5.6 MB/s eta 0:00:08\n",
      "   ------- -------------------------------- 9.1/50.1 MB 5.6 MB/s eta 0:00:08\n",
      "   ------- -------------------------------- 9.3/50.1 MB 5.6 MB/s eta 0:00:08\n",
      "   ------- -------------------------------- 9.6/50.1 MB 5.6 MB/s eta 0:00:08\n",
      "   ------- -------------------------------- 9.9/50.1 MB 5.6 MB/s eta 0:00:08\n",
      "   -------- ------------------------------- 10.1/50.1 MB 5.6 MB/s eta 0:00:08\n",
      "   -------- ------------------------------- 10.4/50.1 MB 5.6 MB/s eta 0:00:08\n",
      "   -------- ------------------------------- 10.7/50.1 MB 5.6 MB/s eta 0:00:08\n",
      "   -------- ------------------------------- 11.0/50.1 MB 5.6 MB/s eta 0:00:07\n",
      "   -------- ------------------------------- 11.0/50.1 MB 5.5 MB/s eta 0:00:08\n",
      "   --------- ------------------------------ 11.3/50.1 MB 5.5 MB/s eta 0:00:08\n",
      "   --------- ------------------------------ 11.6/50.1 MB 5.6 MB/s eta 0:00:07\n",
      "   --------- ------------------------------ 11.9/50.1 MB 5.5 MB/s eta 0:00:07\n",
      "   --------- ------------------------------ 12.1/50.1 MB 5.6 MB/s eta 0:00:07\n",
      "   --------- ------------------------------ 12.4/50.1 MB 5.6 MB/s eta 0:00:07\n",
      "   ---------- ----------------------------- 12.7/50.1 MB 5.6 MB/s eta 0:00:07\n",
      "   ---------- ----------------------------- 12.9/50.1 MB 5.6 MB/s eta 0:00:07\n",
      "   ---------- ----------------------------- 13.1/50.1 MB 5.5 MB/s eta 0:00:07\n",
      "   ---------- ----------------------------- 13.4/50.1 MB 5.5 MB/s eta 0:00:07\n",
      "   ---------- ----------------------------- 13.6/50.1 MB 5.5 MB/s eta 0:00:07\n",
      "   ----------- ---------------------------- 13.9/50.1 MB 5.5 MB/s eta 0:00:07\n",
      "   ----------- ---------------------------- 14.1/50.1 MB 5.5 MB/s eta 0:00:07\n",
      "   ----------- ---------------------------- 14.4/50.1 MB 5.4 MB/s eta 0:00:07\n",
      "   ----------- ---------------------------- 14.8/50.1 MB 5.4 MB/s eta 0:00:07\n",
      "   ------------ --------------------------- 15.0/50.1 MB 5.5 MB/s eta 0:00:07\n",
      "   ------------ --------------------------- 15.2/50.1 MB 5.4 MB/s eta 0:00:07\n",
      "   ------------ --------------------------- 15.5/50.1 MB 5.4 MB/s eta 0:00:07\n",
      "   ------------ --------------------------- 15.8/50.1 MB 5.4 MB/s eta 0:00:07\n",
      "   ------------ --------------------------- 16.1/50.1 MB 5.5 MB/s eta 0:00:07\n",
      "   ------------- -------------------------- 16.5/50.1 MB 5.5 MB/s eta 0:00:07\n",
      "   ------------- -------------------------- 16.8/50.1 MB 5.5 MB/s eta 0:00:07\n",
      "   ------------- -------------------------- 17.1/50.1 MB 5.5 MB/s eta 0:00:06\n",
      "   ------------- -------------------------- 17.4/50.1 MB 5.5 MB/s eta 0:00:06\n",
      "   -------------- ------------------------- 17.6/50.1 MB 5.5 MB/s eta 0:00:06\n",
      "   -------------- ------------------------- 17.9/50.1 MB 5.5 MB/s eta 0:00:06\n",
      "   -------------- ------------------------- 18.1/50.1 MB 5.5 MB/s eta 0:00:06\n",
      "   -------------- ------------------------- 18.4/50.1 MB 5.6 MB/s eta 0:00:06\n",
      "   -------------- ------------------------- 18.7/50.1 MB 5.6 MB/s eta 0:00:06\n",
      "   --------------- ------------------------ 19.0/50.1 MB 5.7 MB/s eta 0:00:06\n",
      "   --------------- ------------------------ 19.3/50.1 MB 5.7 MB/s eta 0:00:06\n",
      "   --------------- ------------------------ 19.5/50.1 MB 5.7 MB/s eta 0:00:06\n",
      "   --------------- ------------------------ 19.8/50.1 MB 5.7 MB/s eta 0:00:06\n",
      "   --------------- ------------------------ 20.0/50.1 MB 5.7 MB/s eta 0:00:06\n",
      "   ---------------- ----------------------- 20.3/50.1 MB 5.7 MB/s eta 0:00:06\n",
      "   ---------------- ----------------------- 20.6/50.1 MB 5.7 MB/s eta 0:00:06\n",
      "   ---------------- ----------------------- 20.9/50.1 MB 5.7 MB/s eta 0:00:06\n",
      "   ---------------- ----------------------- 21.1/50.1 MB 5.7 MB/s eta 0:00:06\n",
      "   ----------------- ---------------------- 21.4/50.1 MB 5.9 MB/s eta 0:00:05\n",
      "   ----------------- ---------------------- 21.8/50.1 MB 5.8 MB/s eta 0:00:05\n",
      "   ----------------- ---------------------- 22.0/50.1 MB 5.8 MB/s eta 0:00:05\n",
      "   ----------------- ---------------------- 22.3/50.1 MB 5.8 MB/s eta 0:00:05\n",
      "   ------------------ --------------------- 22.7/50.1 MB 5.8 MB/s eta 0:00:05\n",
      "   ------------------ --------------------- 23.0/50.1 MB 5.8 MB/s eta 0:00:05\n",
      "   ------------------ --------------------- 23.5/50.1 MB 6.0 MB/s eta 0:00:05\n",
      "   ------------------- -------------------- 23.8/50.1 MB 6.0 MB/s eta 0:00:05\n",
      "   ------------------- -------------------- 24.1/50.1 MB 6.0 MB/s eta 0:00:05\n",
      "   ------------------- -------------------- 24.5/50.1 MB 6.0 MB/s eta 0:00:05\n",
      "   ------------------- -------------------- 24.9/50.1 MB 6.1 MB/s eta 0:00:05\n",
      "   -------------------- ------------------- 25.3/50.1 MB 6.1 MB/s eta 0:00:05\n",
      "   -------------------- ------------------- 25.6/50.1 MB 6.1 MB/s eta 0:00:05\n",
      "   -------------------- ------------------- 26.0/50.1 MB 6.1 MB/s eta 0:00:04\n",
      "   -------------------- ------------------- 26.3/50.1 MB 6.0 MB/s eta 0:00:04\n",
      "   --------------------- ------------------ 26.6/50.1 MB 6.0 MB/s eta 0:00:04\n",
      "   --------------------- ------------------ 26.8/50.1 MB 5.9 MB/s eta 0:00:04\n",
      "   --------------------- ------------------ 27.1/50.1 MB 5.8 MB/s eta 0:00:04\n",
      "   --------------------- ------------------ 27.4/50.1 MB 5.7 MB/s eta 0:00:04\n",
      "   ---------------------- ----------------- 27.7/50.1 MB 5.7 MB/s eta 0:00:04\n",
      "   ---------------------- ----------------- 28.1/50.1 MB 5.7 MB/s eta 0:00:04\n",
      "   ---------------------- ----------------- 28.5/50.1 MB 5.7 MB/s eta 0:00:04\n",
      "   ----------------------- ---------------- 28.9/50.1 MB 5.7 MB/s eta 0:00:04\n",
      "   ----------------------- ---------------- 29.3/50.1 MB 5.7 MB/s eta 0:00:04\n",
      "   ----------------------- ---------------- 29.6/50.1 MB 5.8 MB/s eta 0:00:04\n",
      "   ----------------------- ---------------- 29.8/50.1 MB 5.8 MB/s eta 0:00:04\n",
      "   ------------------------ --------------- 30.1/50.1 MB 5.8 MB/s eta 0:00:04\n",
      "   ------------------------ --------------- 30.5/50.1 MB 5.8 MB/s eta 0:00:04\n",
      "   ------------------------ --------------- 30.7/50.1 MB 5.7 MB/s eta 0:00:04\n",
      "   ------------------------ --------------- 31.1/50.1 MB 5.7 MB/s eta 0:00:04\n",
      "   ------------------------- -------------- 31.4/50.1 MB 5.6 MB/s eta 0:00:04\n",
      "   ------------------------- -------------- 31.6/50.1 MB 5.6 MB/s eta 0:00:04\n",
      "   ------------------------- -------------- 31.8/50.1 MB 5.5 MB/s eta 0:00:04\n",
      "   ------------------------- -------------- 32.2/50.1 MB 5.5 MB/s eta 0:00:04\n",
      "   -------------------------- ------------- 32.6/50.1 MB 5.6 MB/s eta 0:00:04\n",
      "   -------------------------- ------------- 32.7/50.1 MB 5.5 MB/s eta 0:00:04\n",
      "   -------------------------- ------------- 33.0/50.1 MB 5.5 MB/s eta 0:00:04\n",
      "   -------------------------- ------------- 33.3/50.1 MB 5.5 MB/s eta 0:00:04\n",
      "   -------------------------- ------------- 33.6/50.1 MB 5.5 MB/s eta 0:00:04\n",
      "   -------------------------- ------------- 33.8/50.1 MB 5.4 MB/s eta 0:00:04\n",
      "   --------------------------- ------------ 34.1/50.1 MB 5.5 MB/s eta 0:00:03\n",
      "   --------------------------- ------------ 34.4/50.1 MB 5.5 MB/s eta 0:00:03\n",
      "   --------------------------- ------------ 34.7/50.1 MB 5.5 MB/s eta 0:00:03\n",
      "   --------------------------- ------------ 35.0/50.1 MB 5.4 MB/s eta 0:00:03\n",
      "   ---------------------------- ----------- 35.2/50.1 MB 5.4 MB/s eta 0:00:03\n",
      "   ---------------------------- ----------- 35.5/50.1 MB 5.4 MB/s eta 0:00:03\n",
      "   ---------------------------- ----------- 35.9/50.1 MB 5.5 MB/s eta 0:00:03\n",
      "   ---------------------------- ----------- 36.0/50.1 MB 5.4 MB/s eta 0:00:03\n",
      "   ---------------------------- ----------- 36.3/50.1 MB 5.4 MB/s eta 0:00:03\n",
      "   ----------------------------- ---------- 36.5/50.1 MB 5.5 MB/s eta 0:00:03\n",
      "   ----------------------------- ---------- 36.8/50.1 MB 5.5 MB/s eta 0:00:03\n",
      "   ----------------------------- ---------- 37.0/50.1 MB 5.4 MB/s eta 0:00:03\n",
      "   ----------------------------- ---------- 37.3/50.1 MB 5.5 MB/s eta 0:00:03\n",
      "   ----------------------------- ---------- 37.5/50.1 MB 5.5 MB/s eta 0:00:03\n",
      "   ------------------------------ --------- 37.6/50.1 MB 5.4 MB/s eta 0:00:03\n",
      "   ------------------------------ --------- 37.9/50.1 MB 5.5 MB/s eta 0:00:03\n",
      "   ------------------------------ --------- 38.2/50.1 MB 5.5 MB/s eta 0:00:03\n",
      "   ------------------------------ --------- 38.3/50.1 MB 5.4 MB/s eta 0:00:03\n",
      "   ------------------------------ --------- 38.5/50.1 MB 5.4 MB/s eta 0:00:03\n",
      "   ------------------------------- -------- 38.8/50.1 MB 5.3 MB/s eta 0:00:03\n",
      "   ------------------------------- -------- 39.1/50.1 MB 5.4 MB/s eta 0:00:03\n",
      "   ------------------------------- -------- 39.3/50.1 MB 5.3 MB/s eta 0:00:03\n",
      "   ------------------------------- -------- 39.5/50.1 MB 5.3 MB/s eta 0:00:03\n",
      "   ------------------------------- -------- 39.8/50.1 MB 5.3 MB/s eta 0:00:02\n",
      "   ------------------------------- -------- 40.0/50.1 MB 5.3 MB/s eta 0:00:02\n",
      "   -------------------------------- ------- 40.3/50.1 MB 5.3 MB/s eta 0:00:02\n",
      "   -------------------------------- ------- 40.7/50.1 MB 5.3 MB/s eta 0:00:02\n",
      "   -------------------------------- ------- 40.9/50.1 MB 5.2 MB/s eta 0:00:02\n",
      "   -------------------------------- ------- 41.2/50.1 MB 5.3 MB/s eta 0:00:02\n",
      "   --------------------------------- ------ 41.4/50.1 MB 5.2 MB/s eta 0:00:02\n",
      "   --------------------------------- ------ 41.7/50.1 MB 5.3 MB/s eta 0:00:02\n",
      "   --------------------------------- ------ 42.0/50.1 MB 5.3 MB/s eta 0:00:02\n",
      "   --------------------------------- ------ 42.2/50.1 MB 5.3 MB/s eta 0:00:02\n",
      "   --------------------------------- ------ 42.5/50.1 MB 5.2 MB/s eta 0:00:02\n",
      "   ---------------------------------- ----- 42.9/50.1 MB 5.2 MB/s eta 0:00:02\n",
      "   ---------------------------------- ----- 43.0/50.1 MB 5.2 MB/s eta 0:00:02\n",
      "   ---------------------------------- ----- 43.4/50.1 MB 5.2 MB/s eta 0:00:02\n",
      "   ---------------------------------- ----- 43.6/50.1 MB 5.2 MB/s eta 0:00:02\n",
      "   ----------------------------------- ---- 43.8/50.1 MB 5.1 MB/s eta 0:00:02\n",
      "   ----------------------------------- ---- 44.1/50.1 MB 5.2 MB/s eta 0:00:02\n",
      "   ----------------------------------- ---- 44.4/50.1 MB 5.1 MB/s eta 0:00:02\n",
      "   ----------------------------------- ---- 44.6/50.1 MB 5.1 MB/s eta 0:00:02\n",
      "   ----------------------------------- ---- 44.9/50.1 MB 5.1 MB/s eta 0:00:02\n",
      "   ------------------------------------ --- 45.1/50.1 MB 5.1 MB/s eta 0:00:01\n",
      "   ------------------------------------ --- 45.4/50.1 MB 5.1 MB/s eta 0:00:01\n",
      "   ------------------------------------ --- 45.7/50.1 MB 5.1 MB/s eta 0:00:01\n",
      "   ------------------------------------ --- 46.0/50.1 MB 5.1 MB/s eta 0:00:01\n",
      "   ------------------------------------ --- 46.3/50.1 MB 5.1 MB/s eta 0:00:01\n",
      "   ------------------------------------- -- 46.4/50.1 MB 5.1 MB/s eta 0:00:01\n",
      "   ------------------------------------- -- 46.6/50.1 MB 5.0 MB/s eta 0:00:01\n",
      "   ------------------------------------- -- 47.0/50.1 MB 5.1 MB/s eta 0:00:01\n",
      "   ------------------------------------- -- 47.2/50.1 MB 5.1 MB/s eta 0:00:01\n",
      "   ------------------------------------- -- 47.5/50.1 MB 5.1 MB/s eta 0:00:01\n",
      "   -------------------------------------- - 47.7/50.1 MB 5.0 MB/s eta 0:00:01\n",
      "   -------------------------------------- - 48.0/50.1 MB 5.2 MB/s eta 0:00:01\n",
      "   -------------------------------------- - 48.1/50.1 MB 5.1 MB/s eta 0:00:01\n",
      "   -------------------------------------- - 48.4/50.1 MB 5.2 MB/s eta 0:00:01\n",
      "   -------------------------------------- - 48.6/50.1 MB 5.2 MB/s eta 0:00:01\n",
      "   ---------------------------------------  48.9/50.1 MB 5.1 MB/s eta 0:00:01\n",
      "   ---------------------------------------  49.3/50.1 MB 5.1 MB/s eta 0:00:01\n",
      "   ---------------------------------------  49.7/50.1 MB 5.2 MB/s eta 0:00:01\n",
      "   ---------------------------------------  50.1/50.1 MB 5.2 MB/s eta 0:00:01\n",
      "   ---------------------------------------  50.1/50.1 MB 5.2 MB/s eta 0:00:01\n",
      "   ---------------------------------------- 50.1/50.1 MB 4.9 MB/s eta 0:00:00\n",
      "Downloading PyQt5_sip-12.13.0-cp38-cp38-win_amd64.whl (78 kB)\n",
      "   ---------------------------------------- 0.0/78.3 kB ? eta -:--:--\n",
      "   ---------------------------------------- 78.3/78.3 kB 1.4 MB/s eta 0:00:00\n",
      "Downloading PyWavelets-1.4.1-cp38-cp38-win_amd64.whl (4.2 MB)\n",
      "   ---------------------------------------- 0.0/4.2 MB ? eta -:--:--\n",
      "   -- ------------------------------------- 0.3/4.2 MB 5.9 MB/s eta 0:00:01\n",
      "   ------ --------------------------------- 0.7/4.2 MB 6.1 MB/s eta 0:00:01\n",
      "   --------- ------------------------------ 0.9/4.2 MB 6.0 MB/s eta 0:00:01\n",
      "   ------------ --------------------------- 1.3/4.2 MB 5.8 MB/s eta 0:00:01\n",
      "   --------------- ------------------------ 1.6/4.2 MB 5.5 MB/s eta 0:00:01\n",
      "   ------------------ --------------------- 1.9/4.2 MB 5.6 MB/s eta 0:00:01\n",
      "   --------------------- ------------------ 2.3/4.2 MB 5.6 MB/s eta 0:00:01\n",
      "   ------------------------ --------------- 2.6/4.2 MB 5.5 MB/s eta 0:00:01\n",
      "   ---------------------------- ----------- 3.0/4.2 MB 5.6 MB/s eta 0:00:01\n",
      "   ------------------------------ --------- 3.1/4.2 MB 5.4 MB/s eta 0:00:01\n",
      "   ------------------------------- -------- 3.3/4.2 MB 5.1 MB/s eta 0:00:01\n",
      "   ---------------------------------- ----- 3.6/4.2 MB 5.1 MB/s eta 0:00:01\n",
      "   ------------------------------------ --- 3.8/4.2 MB 5.0 MB/s eta 0:00:01\n",
      "   ---------------------------------------  4.1/4.2 MB 5.0 MB/s eta 0:00:01\n",
      "   ---------------------------------------- 4.2/4.2 MB 4.9 MB/s eta 0:00:00\n",
      "Downloading tifffile-2023.7.10-py3-none-any.whl (220 kB)\n",
      "   ---------------------------------------- 0.0/220.9 kB ? eta -:--:--\n",
      "   -------------------------------------- - 215.0/220.9 kB 4.5 MB/s eta 0:00:01\n",
      "   ---------------------------------------- 220.9/220.9 kB 2.3 MB/s eta 0:00:00\n",
      "Downloading coloredlogs-15.0.1-py2.py3-none-any.whl (46 kB)\n",
      "   ---------------------------------------- 0.0/46.0 kB ? eta -:--:--\n",
      "   ---------------------------------------- 46.0/46.0 kB 2.2 MB/s eta 0:00:00\n",
      "Downloading filelock-3.13.3-py3-none-any.whl (11 kB)\n",
      "Downloading sympy-1.12-py3-none-any.whl (5.7 MB)\n",
      "   ---------------------------------------- 0.0/5.7 MB ? eta -:--:--\n",
      "   - -------------------------------------- 0.2/5.7 MB 4.7 MB/s eta 0:00:02\n",
      "   --- ------------------------------------ 0.5/5.7 MB 5.3 MB/s eta 0:00:01\n",
      "   ----- ---------------------------------- 0.7/5.7 MB 5.2 MB/s eta 0:00:01\n",
      "   ------- -------------------------------- 1.0/5.7 MB 5.5 MB/s eta 0:00:01\n",
      "   --------- ------------------------------ 1.3/5.7 MB 5.6 MB/s eta 0:00:01\n",
      "   --------- ------------------------------ 1.3/5.7 MB 5.6 MB/s eta 0:00:01\n",
      "   ----------- ---------------------------- 1.6/5.7 MB 5.0 MB/s eta 0:00:01\n",
      "   ------------- -------------------------- 2.0/5.7 MB 5.2 MB/s eta 0:00:01\n",
      "   --------------- ------------------------ 2.3/5.7 MB 5.4 MB/s eta 0:00:01\n",
      "   ----------------- ---------------------- 2.5/5.7 MB 5.4 MB/s eta 0:00:01\n",
      "   ------------------- -------------------- 2.8/5.7 MB 5.5 MB/s eta 0:00:01\n",
      "   -------------------- ------------------- 3.0/5.7 MB 5.5 MB/s eta 0:00:01\n",
      "   ----------------------- ---------------- 3.3/5.7 MB 5.4 MB/s eta 0:00:01\n",
      "   ------------------------ --------------- 3.6/5.7 MB 5.4 MB/s eta 0:00:01\n",
      "   -------------------------- ------------- 3.8/5.7 MB 5.4 MB/s eta 0:00:01\n",
      "   ---------------------------- ----------- 4.1/5.7 MB 5.6 MB/s eta 0:00:01\n",
      "   ------------------------------ --------- 4.3/5.7 MB 5.5 MB/s eta 0:00:01\n",
      "   ------------------------------- -------- 4.6/5.7 MB 5.4 MB/s eta 0:00:01\n",
      "   -------------------------------- ------- 4.7/5.7 MB 5.4 MB/s eta 0:00:01\n",
      "   ---------------------------------- ----- 5.0/5.7 MB 5.3 MB/s eta 0:00:01\n",
      "   ------------------------------------ --- 5.3/5.7 MB 5.4 MB/s eta 0:00:01\n",
      "   -------------------------------------- - 5.6/5.7 MB 5.4 MB/s eta 0:00:01\n",
      "   ---------------------------------------  5.7/5.7 MB 5.4 MB/s eta 0:00:01\n",
      "   ---------------------------------------- 5.7/5.7 MB 5.2 MB/s eta 0:00:00\n",
      "Downloading tqdm-4.66.2-py3-none-any.whl (78 kB)\n",
      "   ---------------------------------------- 0.0/78.3 kB ? eta -:--:--\n",
      "   ---------------------------------------- 78.3/78.3 kB 4.3 MB/s eta 0:00:00\n",
      "Downloading humanfriendly-10.0-py2.py3-none-any.whl (86 kB)\n",
      "   ---------------------------------------- 0.0/86.8 kB ? eta -:--:--\n",
      "   ---------------------------------------- 86.8/86.8 kB 5.1 MB/s eta 0:00:00\n",
      "Downloading mpmath-1.3.0-py3-none-any.whl (536 kB)\n",
      "   ---------------------------------------- 0.0/536.2 kB ? eta -:--:--\n",
      "   ------ --------------------------------- 81.9/536.2 kB 1.5 MB/s eta 0:00:01\n",
      "   ------------ --------------------------- 174.1/536.2 kB 2.6 MB/s eta 0:00:01\n",
      "   ----------------------------------- ---- 471.0/536.2 kB 3.3 MB/s eta 0:00:01\n",
      "   ---------------------------------------- 536.2/536.2 kB 3.4 MB/s eta 0:00:00\n",
      "Downloading PySocks-1.7.1-py3-none-any.whl (16 kB)\n",
      "Downloading pyreadline3-3.4.1-py3-none-any.whl (95 kB)\n",
      "   ---------------------------------------- 0.0/95.2 kB ? eta -:--:--\n",
      "   ---------------------------------------- 95.2/95.2 kB 2.7 MB/s eta 0:00:00\n",
      "Building wheels for collected packages: labelme, imgviz\n",
      "  Building wheel for labelme (setup.py): started\n",
      "  Building wheel for labelme (setup.py): finished with status 'done'\n",
      "  Created wheel for labelme: filename=labelme-5.4.1-py3-none-any.whl size=1436244 sha256=6f8459ca10c1d2f5e0c2c8ce5ad285f76559c0d5a061ad16ceec81309064860f\n",
      "  Stored in directory: c:\\users\\darshan patel\\appdata\\local\\pip\\cache\\wheels\\48\\08\\36\\acad42e937ea2b8b95d2d2fb4b108c1eb3ed1e4ffbba8aecb5\n",
      "  Building wheel for imgviz (setup.py): started\n",
      "  Building wheel for imgviz (setup.py): finished with status 'done'\n",
      "  Created wheel for imgviz: filename=imgviz-1.7.5-py3-none-any.whl size=7680254 sha256=4ff230bb6397f2b2e35e0ac01f9bf9c29095bc029e45a0776c5d6b2ce581c5f8\n",
      "  Stored in directory: c:\\users\\darshan patel\\appdata\\local\\pip\\cache\\wheels\\ea\\0a\\96\\c3ddde368a855ba40ac0e6f2a4330cdf81f4c9c04f856ad13a\n",
      "Successfully built labelme imgviz\n",
      "Installing collected packages: pyreadline3, PyQt5-Qt5, mpmath, tqdm, sympy, PySocks, PyQt5-sip, numpy, networkx, natsort, lazy_loader, humanfriendly, filelock, tifffile, PyWavelets, PyQt5, imageio, coloredlogs, scikit-image, onnxruntime, gdown, imgviz, labelme\n",
      "  Attempting uninstall: numpy\n",
      "    Found existing installation: numpy 1.19.5\n",
      "    Uninstalling numpy-1.19.5:\n",
      "      Successfully uninstalled numpy-1.19.5\n",
      "  Rolling back uninstall of numpy\n",
      "  Moving to c:\\users\\darshan patel\\anaconda3\\envs\\myenv\\lib\\site-packages\\numpy-1.19.5.dist-info\\\n",
      "   from C:\\Users\\Darshan Patel\\anaconda3\\envs\\myenv\\Lib\\site-packages\\~umpy-1.19.5.dist-info\n",
      "  Moving to c:\\users\\darshan patel\\anaconda3\\envs\\myenv\\lib\\site-packages\\numpy\\.libs\\libopenblas.wcdjnk7yvmpzq2me2zzhjjrj3jikndb7.gfortran-win_amd64.dll\n",
      "   from C:\\Users\\Darshan Patel\\AppData\\Local\\Temp\\pip-uninstall-j2r5eqhf\\libopenblas.wcdjnk7yvmpzq2me2zzhjjrj3jikndb7.gfortran-win_amd64.dll\n",
      "  Moving to c:\\users\\darshan patel\\anaconda3\\envs\\myenv\\lib\\site-packages\\numpy\\__config__.py\n",
      "   from C:\\Users\\Darshan Patel\\AppData\\Local\\Temp\\pip-uninstall-8tvpn6e3\\__config__.py\n",
      "  Moving to c:\\users\\darshan patel\\anaconda3\\envs\\myenv\\lib\\site-packages\\numpy\\__init__.cython-30.pxd\n",
      "   from C:\\Users\\Darshan Patel\\AppData\\Local\\Temp\\pip-uninstall-8tvpn6e3\\__init__.cython-30.pxd\n",
      "  Moving to c:\\users\\darshan patel\\anaconda3\\envs\\myenv\\lib\\site-packages\\numpy\\__init__.pxd\n",
      "   from C:\\Users\\Darshan Patel\\AppData\\Local\\Temp\\pip-uninstall-8tvpn6e3\\__init__.pxd\n",
      "  Moving to c:\\users\\darshan patel\\anaconda3\\envs\\myenv\\lib\\site-packages\\numpy\\__init__.py\n",
      "   from C:\\Users\\Darshan Patel\\AppData\\Local\\Temp\\pip-uninstall-8tvpn6e3\\__init__.py\n",
      "  Moving to c:\\users\\darshan patel\\anaconda3\\envs\\myenv\\lib\\site-packages\\numpy\\__pycache__\\\n",
      "   from C:\\Users\\Darshan Patel\\anaconda3\\envs\\myenv\\Lib\\site-packages\\numpy\\~_pycache__\n",
      "  Moving to c:\\users\\darshan patel\\anaconda3\\envs\\myenv\\lib\\site-packages\\numpy\\_distributor_init.py\n",
      "   from C:\\Users\\Darshan Patel\\AppData\\Local\\Temp\\pip-uninstall-8tvpn6e3\\_distributor_init.py\n",
      "  Moving to c:\\users\\darshan patel\\anaconda3\\envs\\myenv\\lib\\site-packages\\numpy\\_globals.py\n",
      "   from C:\\Users\\Darshan Patel\\AppData\\Local\\Temp\\pip-uninstall-8tvpn6e3\\_globals.py\n",
      "  Moving to c:\\users\\darshan patel\\anaconda3\\envs\\myenv\\lib\\site-packages\\numpy\\_pytesttester.py\n",
      "   from C:\\Users\\Darshan Patel\\AppData\\Local\\Temp\\pip-uninstall-8tvpn6e3\\_pytesttester.py\n",
      "  Moving to c:\\users\\darshan patel\\anaconda3\\envs\\myenv\\lib\\site-packages\\numpy\\compat\\__init__.py\n",
      "   from C:\\Users\\Darshan Patel\\AppData\\Local\\Temp\\pip-uninstall-8tvpn6e3\\compat\\__init__.py\n",
      "  Moving to c:\\users\\darshan patel\\anaconda3\\envs\\myenv\\lib\\site-packages\\numpy\\compat\\__pycache__\\__init__.cpython-38.pyc\n",
      "   from C:\\Users\\Darshan Patel\\AppData\\Local\\Temp\\pip-uninstall-8tvpn6e3\\compat\\__pycache__\\__init__.cpython-38.pyc\n",
      "  Moving to c:\\users\\darshan patel\\anaconda3\\envs\\myenv\\lib\\site-packages\\numpy\\compat\\__pycache__\\_inspect.cpython-38.pyc\n",
      "   from C:\\Users\\Darshan Patel\\AppData\\Local\\Temp\\pip-uninstall-8tvpn6e3\\compat\\__pycache__\\_inspect.cpython-38.pyc\n",
      "  Moving to c:\\users\\darshan patel\\anaconda3\\envs\\myenv\\lib\\site-packages\\numpy\\compat\\__pycache__\\py3k.cpython-38.pyc\n",
      "   from C:\\Users\\Darshan Patel\\AppData\\Local\\Temp\\pip-uninstall-8tvpn6e3\\compat\\__pycache__\\py3k.cpython-38.pyc\n",
      "  Moving to c:\\users\\darshan patel\\anaconda3\\envs\\myenv\\lib\\site-packages\\numpy\\compat\\__pycache__\\setup.cpython-38.pyc\n",
      "   from C:\\Users\\Darshan Patel\\AppData\\Local\\Temp\\pip-uninstall-8tvpn6e3\\compat\\__pycache__\\setup.cpython-38.pyc\n",
      "  Moving to c:\\users\\darshan patel\\anaconda3\\envs\\myenv\\lib\\site-packages\\numpy\\compat\\_inspect.py\n",
      "   from C:\\Users\\Darshan Patel\\AppData\\Local\\Temp\\pip-uninstall-8tvpn6e3\\compat\\_inspect.py\n",
      "  Moving to c:\\users\\darshan patel\\anaconda3\\envs\\myenv\\lib\\site-packages\\numpy\\compat\\py3k.py\n",
      "   from C:\\Users\\Darshan Patel\\AppData\\Local\\Temp\\pip-uninstall-8tvpn6e3\\compat\\py3k.py\n",
      "  Moving to c:\\users\\darshan patel\\anaconda3\\envs\\myenv\\lib\\site-packages\\numpy\\compat\\setup.py\n",
      "   from C:\\Users\\Darshan Patel\\AppData\\Local\\Temp\\pip-uninstall-8tvpn6e3\\compat\\setup.py\n",
      "  Moving to c:\\users\\darshan patel\\anaconda3\\envs\\myenv\\lib\\site-packages\\numpy\\compat\\tests\\\n",
      "   from C:\\Users\\Darshan Patel\\anaconda3\\envs\\myenv\\Lib\\site-packages\\numpy\\compat\\~ests\n",
      "  Moving to c:\\users\\darshan patel\\anaconda3\\envs\\myenv\\lib\\site-packages\\numpy\\conftest.py\n",
      "   from C:\\Users\\Darshan Patel\\AppData\\Local\\Temp\\pip-uninstall-8tvpn6e3\\conftest.py\n",
      "  Moving to c:\\users\\darshan patel\\anaconda3\\envs\\myenv\\lib\\site-packages\\numpy\\core\\__init__.py\n",
      "   from C:\\Users\\Darshan Patel\\AppData\\Local\\Temp\\pip-uninstall-8tvpn6e3\\core\\__init__.py\n",
      "  Moving to c:\\users\\darshan patel\\anaconda3\\envs\\myenv\\lib\\site-packages\\numpy\\core\\__pycache__\\\n",
      "   from C:\\Users\\Darshan Patel\\anaconda3\\envs\\myenv\\Lib\\site-packages\\numpy\\core\\~_pycache__\n",
      "  Moving to c:\\users\\darshan patel\\anaconda3\\envs\\myenv\\lib\\site-packages\\numpy\\core\\_add_newdocs.py\n",
      "   from C:\\Users\\Darshan Patel\\AppData\\Local\\Temp\\pip-uninstall-8tvpn6e3\\core\\_add_newdocs.py\n",
      "  Moving to c:\\users\\darshan patel\\anaconda3\\envs\\myenv\\lib\\site-packages\\numpy\\core\\_asarray.py\n",
      "   from C:\\Users\\Darshan Patel\\AppData\\Local\\Temp\\pip-uninstall-8tvpn6e3\\core\\_asarray.py\n",
      "  Moving to c:\\users\\darshan patel\\anaconda3\\envs\\myenv\\lib\\site-packages\\numpy\\core\\_dtype.py\n",
      "   from C:\\Users\\Darshan Patel\\AppData\\Local\\Temp\\pip-uninstall-8tvpn6e3\\core\\_dtype.py\n",
      "  Moving to c:\\users\\darshan patel\\anaconda3\\envs\\myenv\\lib\\site-packages\\numpy\\core\\_dtype_ctypes.py\n",
      "   from C:\\Users\\Darshan Patel\\AppData\\Local\\Temp\\pip-uninstall-8tvpn6e3\\core\\_dtype_ctypes.py\n",
      "  Moving to c:\\users\\darshan patel\\anaconda3\\envs\\myenv\\lib\\site-packages\\numpy\\core\\_exceptions.py\n",
      "   from C:\\Users\\Darshan Patel\\AppData\\Local\\Temp\\pip-uninstall-8tvpn6e3\\core\\_exceptions.py\n",
      "  Moving to c:\\users\\darshan patel\\anaconda3\\envs\\myenv\\lib\\site-packages\\numpy\\core\\_internal.py\n",
      "   from C:\\Users\\Darshan Patel\\AppData\\Local\\Temp\\pip-uninstall-8tvpn6e3\\core\\_internal.py\n",
      "  Moving to c:\\users\\darshan patel\\anaconda3\\envs\\myenv\\lib\\site-packages\\numpy\\core\\_methods.py\n",
      "   from C:\\Users\\Darshan Patel\\AppData\\Local\\Temp\\pip-uninstall-8tvpn6e3\\core\\_methods.py\n",
      "  Moving to c:\\users\\darshan patel\\anaconda3\\envs\\myenv\\lib\\site-packages\\numpy\\core\\_multiarray_tests.cp38-win_amd64.pyd\n",
      "   from C:\\Users\\Darshan Patel\\AppData\\Local\\Temp\\pip-uninstall-8tvpn6e3\\core\\_multiarray_tests.cp38-win_amd64.pyd\n",
      "  Moving to c:\\users\\darshan patel\\anaconda3\\envs\\myenv\\lib\\site-packages\\numpy\\core\\_multiarray_umath.cp38-win_amd64.pyd\n",
      "   from C:\\Users\\Darshan Patel\\AppData\\Local\\Temp\\pip-uninstall-8tvpn6e3\\core\\_multiarray_umath.cp38-win_amd64.pyd\n",
      "  Moving to c:\\users\\darshan patel\\anaconda3\\envs\\myenv\\lib\\site-packages\\numpy\\core\\_operand_flag_tests.cp38-win_amd64.pyd\n",
      "   from C:\\Users\\Darshan Patel\\AppData\\Local\\Temp\\pip-uninstall-8tvpn6e3\\core\\_operand_flag_tests.cp38-win_amd64.pyd\n",
      "  Moving to c:\\users\\darshan patel\\anaconda3\\envs\\myenv\\lib\\site-packages\\numpy\\core\\_rational_tests.cp38-win_amd64.pyd\n",
      "   from C:\\Users\\Darshan Patel\\AppData\\Local\\Temp\\pip-uninstall-8tvpn6e3\\core\\_rational_tests.cp38-win_amd64.pyd\n",
      "  Moving to c:\\users\\darshan patel\\anaconda3\\envs\\myenv\\lib\\site-packages\\numpy\\core\\_string_helpers.py\n",
      "   from C:\\Users\\Darshan Patel\\AppData\\Local\\Temp\\pip-uninstall-8tvpn6e3\\core\\_string_helpers.py\n",
      "  Moving to c:\\users\\darshan patel\\anaconda3\\envs\\myenv\\lib\\site-packages\\numpy\\core\\_struct_ufunc_tests.cp38-win_amd64.pyd\n",
      "   from C:\\Users\\Darshan Patel\\AppData\\Local\\Temp\\pip-uninstall-8tvpn6e3\\core\\_struct_ufunc_tests.cp38-win_amd64.pyd\n",
      "  Moving to c:\\users\\darshan patel\\anaconda3\\envs\\myenv\\lib\\site-packages\\numpy\\core\\_type_aliases.py\n",
      "   from C:\\Users\\Darshan Patel\\AppData\\Local\\Temp\\pip-uninstall-8tvpn6e3\\core\\_type_aliases.py\n",
      "  Moving to c:\\users\\darshan patel\\anaconda3\\envs\\myenv\\lib\\site-packages\\numpy\\core\\_ufunc_config.py\n",
      "   from C:\\Users\\Darshan Patel\\AppData\\Local\\Temp\\pip-uninstall-8tvpn6e3\\core\\_ufunc_config.py\n",
      "  Moving to c:\\users\\darshan patel\\anaconda3\\envs\\myenv\\lib\\site-packages\\numpy\\core\\_umath_tests.cp38-win_amd64.pyd\n",
      "   from C:\\Users\\Darshan Patel\\AppData\\Local\\Temp\\pip-uninstall-8tvpn6e3\\core\\_umath_tests.cp38-win_amd64.pyd\n",
      "  Moving to c:\\users\\darshan patel\\anaconda3\\envs\\myenv\\lib\\site-packages\\numpy\\core\\arrayprint.py\n",
      "   from C:\\Users\\Darshan Patel\\AppData\\Local\\Temp\\pip-uninstall-8tvpn6e3\\core\\arrayprint.py\n",
      "  Moving to c:\\users\\darshan patel\\anaconda3\\envs\\myenv\\lib\\site-packages\\numpy\\core\\cversions.py\n",
      "   from C:\\Users\\Darshan Patel\\AppData\\Local\\Temp\\pip-uninstall-8tvpn6e3\\core\\cversions.py\n",
      "  Moving to c:\\users\\darshan patel\\anaconda3\\envs\\myenv\\lib\\site-packages\\numpy\\core\\defchararray.py\n",
      "   from C:\\Users\\Darshan Patel\\AppData\\Local\\Temp\\pip-uninstall-8tvpn6e3\\core\\defchararray.py\n",
      "  Moving to c:\\users\\darshan patel\\anaconda3\\envs\\myenv\\lib\\site-packages\\numpy\\core\\einsumfunc.py\n",
      "   from C:\\Users\\Darshan Patel\\AppData\\Local\\Temp\\pip-uninstall-8tvpn6e3\\core\\einsumfunc.py\n",
      "  Moving to c:\\users\\darshan patel\\anaconda3\\envs\\myenv\\lib\\site-packages\\numpy\\core\\fromnumeric.py\n",
      "   from C:\\Users\\Darshan Patel\\AppData\\Local\\Temp\\pip-uninstall-8tvpn6e3\\core\\fromnumeric.py\n",
      "  Moving to c:\\users\\darshan patel\\anaconda3\\envs\\myenv\\lib\\site-packages\\numpy\\core\\function_base.py\n",
      "   from C:\\Users\\Darshan Patel\\AppData\\Local\\Temp\\pip-uninstall-8tvpn6e3\\core\\function_base.py\n",
      "  Moving to c:\\users\\darshan patel\\anaconda3\\envs\\myenv\\lib\\site-packages\\numpy\\core\\generate_numpy_api.py\n",
      "   from C:\\Users\\Darshan Patel\\AppData\\Local\\Temp\\pip-uninstall-8tvpn6e3\\core\\generate_numpy_api.py\n",
      "  Moving to c:\\users\\darshan patel\\anaconda3\\envs\\myenv\\lib\\site-packages\\numpy\\core\\getlimits.py\n",
      "   from C:\\Users\\Darshan Patel\\AppData\\Local\\Temp\\pip-uninstall-8tvpn6e3\\core\\getlimits.py\n",
      "  Moving to c:\\users\\darshan patel\\anaconda3\\envs\\myenv\\lib\\site-packages\\numpy\\core\\include\\numpy\\\n",
      "   from C:\\Users\\Darshan Patel\\anaconda3\\envs\\myenv\\Lib\\site-packages\\numpy\\core\\include\\~umpy\n",
      "  Moving to c:\\users\\darshan patel\\anaconda3\\envs\\myenv\\lib\\site-packages\\numpy\\core\\lib\\\n",
      "   from C:\\Users\\Darshan Patel\\anaconda3\\envs\\myenv\\Lib\\site-packages\\numpy\\core\\~ib\n",
      "  Moving to c:\\users\\darshan patel\\anaconda3\\envs\\myenv\\lib\\site-packages\\numpy\\core\\machar.py\n",
      "   from C:\\Users\\Darshan Patel\\AppData\\Local\\Temp\\pip-uninstall-8tvpn6e3\\core\\machar.py\n",
      "  Moving to c:\\users\\darshan patel\\anaconda3\\envs\\myenv\\lib\\site-packages\\numpy\\core\\memmap.py\n",
      "   from C:\\Users\\Darshan Patel\\AppData\\Local\\Temp\\pip-uninstall-8tvpn6e3\\core\\memmap.py\n",
      "  Moving to c:\\users\\darshan patel\\anaconda3\\envs\\myenv\\lib\\site-packages\\numpy\\core\\multiarray.py\n",
      "   from C:\\Users\\Darshan Patel\\AppData\\Local\\Temp\\pip-uninstall-8tvpn6e3\\core\\multiarray.py\n",
      "  Moving to c:\\users\\darshan patel\\anaconda3\\envs\\myenv\\lib\\site-packages\\numpy\\core\\numeric.py\n",
      "   from C:\\Users\\Darshan Patel\\AppData\\Local\\Temp\\pip-uninstall-8tvpn6e3\\core\\numeric.py\n",
      "  Moving to c:\\users\\darshan patel\\anaconda3\\envs\\myenv\\lib\\site-packages\\numpy\\core\\numerictypes.py\n",
      "   from C:\\Users\\Darshan Patel\\AppData\\Local\\Temp\\pip-uninstall-8tvpn6e3\\core\\numerictypes.py\n",
      "  Moving to c:\\users\\darshan patel\\anaconda3\\envs\\myenv\\lib\\site-packages\\numpy\\core\\overrides.py\n",
      "   from C:\\Users\\Darshan Patel\\AppData\\Local\\Temp\\pip-uninstall-8tvpn6e3\\core\\overrides.py\n",
      "  Moving to c:\\users\\darshan patel\\anaconda3\\envs\\myenv\\lib\\site-packages\\numpy\\core\\records.py\n",
      "   from C:\\Users\\Darshan Patel\\AppData\\Local\\Temp\\pip-uninstall-8tvpn6e3\\core\\records.py\n",
      "  Moving to c:\\users\\darshan patel\\anaconda3\\envs\\myenv\\lib\\site-packages\\numpy\\core\\setup.py\n",
      "   from C:\\Users\\Darshan Patel\\AppData\\Local\\Temp\\pip-uninstall-8tvpn6e3\\core\\setup.py\n",
      "  Moving to c:\\users\\darshan patel\\anaconda3\\envs\\myenv\\lib\\site-packages\\numpy\\core\\setup_common.py\n",
      "   from C:\\Users\\Darshan Patel\\AppData\\Local\\Temp\\pip-uninstall-8tvpn6e3\\core\\setup_common.py\n",
      "  Moving to c:\\users\\darshan patel\\anaconda3\\envs\\myenv\\lib\\site-packages\\numpy\\core\\shape_base.py\n",
      "   from C:\\Users\\Darshan Patel\\AppData\\Local\\Temp\\pip-uninstall-8tvpn6e3\\core\\shape_base.py\n",
      "  Moving to c:\\users\\darshan patel\\anaconda3\\envs\\myenv\\lib\\site-packages\\numpy\\core\\tests\\__init__.py\n",
      "   from C:\\Users\\Darshan Patel\\AppData\\Local\\Temp\\pip-uninstall-8tvpn6e3\\core\\tests\\__init__.py\n",
      "  Moving to c:\\users\\darshan patel\\anaconda3\\envs\\myenv\\lib\\site-packages\\numpy\\core\\tests\\__pycache__\\__init__.cpython-38.pyc\n",
      "   from C:\\Users\\Darshan Patel\\AppData\\Local\\Temp\\pip-uninstall-8tvpn6e3\\core\\tests\\__pycache__\\__init__.cpython-38.pyc\n",
      "  Moving to c:\\users\\darshan patel\\anaconda3\\envs\\myenv\\lib\\site-packages\\numpy\\core\\tests\\__pycache__\\_locales.cpython-38.pyc\n",
      "   from C:\\Users\\Darshan Patel\\AppData\\Local\\Temp\\pip-uninstall-8tvpn6e3\\core\\tests\\__pycache__\\_locales.cpython-38.pyc\n",
      "  Moving to c:\\users\\darshan patel\\anaconda3\\envs\\myenv\\lib\\site-packages\\numpy\\core\\tests\\__pycache__\\test__exceptions.cpython-38.pyc\n",
      "   from C:\\Users\\Darshan Patel\\AppData\\Local\\Temp\\pip-uninstall-8tvpn6e3\\core\\tests\\__pycache__\\test__exceptions.cpython-38.pyc\n",
      "  Moving to c:\\users\\darshan patel\\anaconda3\\envs\\myenv\\lib\\site-packages\\numpy\\core\\tests\\__pycache__\\test_abc.cpython-38.pyc\n",
      "   from C:\\Users\\Darshan Patel\\AppData\\Local\\Temp\\pip-uninstall-8tvpn6e3\\core\\tests\\__pycache__\\test_abc.cpython-38.pyc\n",
      "  Moving to c:\\users\\darshan patel\\anaconda3\\envs\\myenv\\lib\\site-packages\\numpy\\core\\tests\\__pycache__\\test_api.cpython-38.pyc\n",
      "   from C:\\Users\\Darshan Patel\\AppData\\Local\\Temp\\pip-uninstall-8tvpn6e3\\core\\tests\\__pycache__\\test_api.cpython-38.pyc\n",
      "  Moving to c:\\users\\darshan patel\\anaconda3\\envs\\myenv\\lib\\site-packages\\numpy\\core\\tests\\__pycache__\\test_arrayprint.cpython-38.pyc\n",
      "   from C:\\Users\\Darshan Patel\\AppData\\Local\\Temp\\pip-uninstall-8tvpn6e3\\core\\tests\\__pycache__\\test_arrayprint.cpython-38.pyc\n",
      "  Moving to c:\\users\\darshan patel\\anaconda3\\envs\\myenv\\lib\\site-packages\\numpy\\core\\tests\\__pycache__\\test_conversion_utils.cpython-38.pyc\n",
      "   from C:\\Users\\Darshan Patel\\AppData\\Local\\Temp\\pip-uninstall-8tvpn6e3\\core\\tests\\__pycache__\\test_conversion_utils.cpython-38.pyc\n",
      "  Moving to c:\\users\\darshan patel\\anaconda3\\envs\\myenv\\lib\\site-packages\\numpy\\core\\tests\\__pycache__\\test_cpu_features.cpython-38.pyc\n",
      "   from C:\\Users\\Darshan Patel\\AppData\\Local\\Temp\\pip-uninstall-8tvpn6e3\\core\\tests\\__pycache__\\test_cpu_features.cpython-38.pyc\n",
      "  Moving to c:\\users\\darshan patel\\anaconda3\\envs\\myenv\\lib\\site-packages\\numpy\\core\\tests\\__pycache__\\test_datetime.cpython-38.pyc\n",
      "   from C:\\Users\\Darshan Patel\\AppData\\Local\\Temp\\pip-uninstall-8tvpn6e3\\core\\tests\\__pycache__\\test_datetime.cpython-38.pyc\n",
      "  Moving to c:\\users\\darshan patel\\anaconda3\\envs\\myenv\\lib\\site-packages\\numpy\\core\\tests\\__pycache__\\test_defchararray.cpython-38.pyc\n",
      "   from C:\\Users\\Darshan Patel\\AppData\\Local\\Temp\\pip-uninstall-8tvpn6e3\\core\\tests\\__pycache__\\test_defchararray.cpython-38.pyc\n",
      "  Moving to c:\\users\\darshan patel\\anaconda3\\envs\\myenv\\lib\\site-packages\\numpy\\core\\tests\\__pycache__\\test_deprecations.cpython-38.pyc\n",
      "   from C:\\Users\\Darshan Patel\\AppData\\Local\\Temp\\pip-uninstall-8tvpn6e3\\core\\tests\\__pycache__\\test_deprecations.cpython-38.pyc\n",
      "  Moving to c:\\users\\darshan patel\\anaconda3\\envs\\myenv\\lib\\site-packages\\numpy\\core\\tests\\__pycache__\\test_dtype.cpython-38.pyc\n",
      "   from C:\\Users\\Darshan Patel\\AppData\\Local\\Temp\\pip-uninstall-8tvpn6e3\\core\\tests\\__pycache__\\test_dtype.cpython-38.pyc\n",
      "  Moving to c:\\users\\darshan patel\\anaconda3\\envs\\myenv\\lib\\site-packages\\numpy\\core\\tests\\__pycache__\\test_einsum.cpython-38.pyc\n",
      "   from C:\\Users\\Darshan Patel\\AppData\\Local\\Temp\\pip-uninstall-8tvpn6e3\\core\\tests\\__pycache__\\test_einsum.cpython-38.pyc\n",
      "  Moving to c:\\users\\darshan patel\\anaconda3\\envs\\myenv\\lib\\site-packages\\numpy\\core\\tests\\__pycache__\\test_errstate.cpython-38.pyc\n",
      "   from C:\\Users\\Darshan Patel\\AppData\\Local\\Temp\\pip-uninstall-8tvpn6e3\\core\\tests\\__pycache__\\test_errstate.cpython-38.pyc\n",
      "  Moving to c:\\users\\darshan patel\\anaconda3\\envs\\myenv\\lib\\site-packages\\numpy\\core\\tests\\__pycache__\\test_extint128.cpython-38.pyc\n",
      "   from C:\\Users\\Darshan Patel\\AppData\\Local\\Temp\\pip-uninstall-8tvpn6e3\\core\\tests\\__pycache__\\test_extint128.cpython-38.pyc\n",
      "  Moving to c:\\users\\darshan patel\\anaconda3\\envs\\myenv\\lib\\site-packages\\numpy\\core\\tests\\__pycache__\\test_function_base.cpython-38.pyc\n",
      "   from C:\\Users\\Darshan Patel\\AppData\\Local\\Temp\\pip-uninstall-8tvpn6e3\\core\\tests\\__pycache__\\test_function_base.cpython-38.pyc\n",
      "  Moving to c:\\users\\darshan patel\\anaconda3\\envs\\myenv\\lib\\site-packages\\numpy\\core\\tests\\__pycache__\\test_getlimits.cpython-38.pyc\n",
      "   from C:\\Users\\Darshan Patel\\AppData\\Local\\Temp\\pip-uninstall-8tvpn6e3\\core\\tests\\__pycache__\\test_getlimits.cpython-38.pyc\n",
      "  Moving to c:\\users\\darshan patel\\anaconda3\\envs\\myenv\\lib\\site-packages\\numpy\\core\\tests\\__pycache__\\test_half.cpython-38.pyc\n",
      "   from C:\\Users\\Darshan Patel\\AppData\\Local\\Temp\\pip-uninstall-8tvpn6e3\\core\\tests\\__pycache__\\test_half.cpython-38.pyc\n",
      "  Moving to c:\\users\\darshan patel\\anaconda3\\envs\\myenv\\lib\\site-packages\\numpy\\core\\tests\\__pycache__\\test_indexerrors.cpython-38.pyc\n",
      "   from C:\\Users\\Darshan Patel\\AppData\\Local\\Temp\\pip-uninstall-8tvpn6e3\\core\\tests\\__pycache__\\test_indexerrors.cpython-38.pyc\n",
      "  Moving to c:\\users\\darshan patel\\anaconda3\\envs\\myenv\\lib\\site-packages\\numpy\\core\\tests\\__pycache__\\test_indexing.cpython-38.pyc\n",
      "   from C:\\Users\\Darshan Patel\\AppData\\Local\\Temp\\pip-uninstall-8tvpn6e3\\core\\tests\\__pycache__\\test_indexing.cpython-38.pyc\n",
      "  Moving to c:\\users\\darshan patel\\anaconda3\\envs\\myenv\\lib\\site-packages\\numpy\\core\\tests\\__pycache__\\test_item_selection.cpython-38.pyc\n",
      "   from C:\\Users\\Darshan Patel\\AppData\\Local\\Temp\\pip-uninstall-8tvpn6e3\\core\\tests\\__pycache__\\test_item_selection.cpython-38.pyc\n",
      "  Moving to c:\\users\\darshan patel\\anaconda3\\envs\\myenv\\lib\\site-packages\\numpy\\core\\tests\\__pycache__\\test_longdouble.cpython-38.pyc\n",
      "   from C:\\Users\\Darshan Patel\\AppData\\Local\\Temp\\pip-uninstall-8tvpn6e3\\core\\tests\\__pycache__\\test_longdouble.cpython-38.pyc\n",
      "  Moving to c:\\users\\darshan patel\\anaconda3\\envs\\myenv\\lib\\site-packages\\numpy\\core\\tests\\__pycache__\\test_machar.cpython-38.pyc\n",
      "   from C:\\Users\\Darshan Patel\\AppData\\Local\\Temp\\pip-uninstall-8tvpn6e3\\core\\tests\\__pycache__\\test_machar.cpython-38.pyc\n",
      "  Moving to c:\\users\\darshan patel\\anaconda3\\envs\\myenv\\lib\\site-packages\\numpy\\core\\tests\\__pycache__\\test_mem_overlap.cpython-38.pyc\n",
      "   from C:\\Users\\Darshan Patel\\AppData\\Local\\Temp\\pip-uninstall-8tvpn6e3\\core\\tests\\__pycache__\\test_mem_overlap.cpython-38.pyc\n",
      "  Moving to c:\\users\\darshan patel\\anaconda3\\envs\\myenv\\lib\\site-packages\\numpy\\core\\tests\\__pycache__\\test_memmap.cpython-38.pyc\n",
      "   from C:\\Users\\Darshan Patel\\AppData\\Local\\Temp\\pip-uninstall-8tvpn6e3\\core\\tests\\__pycache__\\test_memmap.cpython-38.pyc\n",
      "  Moving to c:\\users\\darshan patel\\anaconda3\\envs\\myenv\\lib\\site-packages\\numpy\\core\\tests\\__pycache__\\test_multiarray.cpython-38.pyc\n",
      "   from C:\\Users\\Darshan Patel\\AppData\\Local\\Temp\\pip-uninstall-8tvpn6e3\\core\\tests\\__pycache__\\test_multiarray.cpython-38.pyc\n",
      "  Moving to c:\\users\\darshan patel\\anaconda3\\envs\\myenv\\lib\\site-packages\\numpy\\core\\tests\\__pycache__\\test_nditer.cpython-38.pyc\n",
      "   from C:\\Users\\Darshan Patel\\AppData\\Local\\Temp\\pip-uninstall-8tvpn6e3\\core\\tests\\__pycache__\\test_nditer.cpython-38.pyc\n",
      "  Moving to c:\\users\\darshan patel\\anaconda3\\envs\\myenv\\lib\\site-packages\\numpy\\core\\tests\\__pycache__\\test_numeric.cpython-38.pyc\n",
      "   from C:\\Users\\Darshan Patel\\AppData\\Local\\Temp\\pip-uninstall-8tvpn6e3\\core\\tests\\__pycache__\\test_numeric.cpython-38.pyc\n",
      "  Moving to c:\\users\\darshan patel\\anaconda3\\envs\\myenv\\lib\\site-packages\\numpy\\core\\tests\\__pycache__\\test_numerictypes.cpython-38.pyc\n",
      "   from C:\\Users\\Darshan Patel\\AppData\\Local\\Temp\\pip-uninstall-8tvpn6e3\\core\\tests\\__pycache__\\test_numerictypes.cpython-38.pyc\n",
      "  Moving to c:\\users\\darshan patel\\anaconda3\\envs\\myenv\\lib\\site-packages\\numpy\\core\\tests\\__pycache__\\test_overrides.cpython-38.pyc\n",
      "   from C:\\Users\\Darshan Patel\\AppData\\Local\\Temp\\pip-uninstall-8tvpn6e3\\core\\tests\\__pycache__\\test_overrides.cpython-38.pyc\n",
      "  Moving to c:\\users\\darshan patel\\anaconda3\\envs\\myenv\\lib\\site-packages\\numpy\\core\\tests\\__pycache__\\test_print.cpython-38.pyc\n",
      "   from C:\\Users\\Darshan Patel\\AppData\\Local\\Temp\\pip-uninstall-8tvpn6e3\\core\\tests\\__pycache__\\test_print.cpython-38.pyc\n",
      "  Moving to c:\\users\\darshan patel\\anaconda3\\envs\\myenv\\lib\\site-packages\\numpy\\core\\tests\\__pycache__\\test_protocols.cpython-38.pyc\n",
      "   from C:\\Users\\Darshan Patel\\AppData\\Local\\Temp\\pip-uninstall-8tvpn6e3\\core\\tests\\__pycache__\\test_protocols.cpython-38.pyc\n",
      "  Moving to c:\\users\\darshan patel\\anaconda3\\envs\\myenv\\lib\\site-packages\\numpy\\core\\tests\\__pycache__\\test_records.cpython-38.pyc\n",
      "   from C:\\Users\\Darshan Patel\\AppData\\Local\\Temp\\pip-uninstall-8tvpn6e3\\core\\tests\\__pycache__\\test_records.cpython-38.pyc\n",
      "  Moving to c:\\users\\darshan patel\\anaconda3\\envs\\myenv\\lib\\site-packages\\numpy\\core\\tests\\__pycache__\\test_regression.cpython-38.pyc\n",
      "   from C:\\Users\\Darshan Patel\\AppData\\Local\\Temp\\pip-uninstall-8tvpn6e3\\core\\tests\\__pycache__\\test_regression.cpython-38.pyc\n",
      "  Moving to c:\\users\\darshan patel\\anaconda3\\envs\\myenv\\lib\\site-packages\\numpy\\core\\tests\\__pycache__\\test_scalar_ctors.cpython-38.pyc\n",
      "   from C:\\Users\\Darshan Patel\\AppData\\Local\\Temp\\pip-uninstall-8tvpn6e3\\core\\tests\\__pycache__\\test_scalar_ctors.cpython-38.pyc\n",
      "  Moving to c:\\users\\darshan patel\\anaconda3\\envs\\myenv\\lib\\site-packages\\numpy\\core\\tests\\__pycache__\\test_scalar_methods.cpython-38.pyc\n",
      "   from C:\\Users\\Darshan Patel\\AppData\\Local\\Temp\\pip-uninstall-8tvpn6e3\\core\\tests\\__pycache__\\test_scalar_methods.cpython-38.pyc\n",
      "  Moving to c:\\users\\darshan patel\\anaconda3\\envs\\myenv\\lib\\site-packages\\numpy\\core\\tests\\__pycache__\\test_scalarbuffer.cpython-38.pyc\n",
      "   from C:\\Users\\Darshan Patel\\AppData\\Local\\Temp\\pip-uninstall-8tvpn6e3\\core\\tests\\__pycache__\\test_scalarbuffer.cpython-38.pyc\n",
      "  Moving to c:\\users\\darshan patel\\anaconda3\\envs\\myenv\\lib\\site-packages\\numpy\\core\\tests\\__pycache__\\test_scalarinherit.cpython-38.pyc\n",
      "   from C:\\Users\\Darshan Patel\\AppData\\Local\\Temp\\pip-uninstall-8tvpn6e3\\core\\tests\\__pycache__\\test_scalarinherit.cpython-38.pyc\n",
      "  Moving to c:\\users\\darshan patel\\anaconda3\\envs\\myenv\\lib\\site-packages\\numpy\\core\\tests\\__pycache__\\test_scalarmath.cpython-38.pyc\n",
      "   from C:\\Users\\Darshan Patel\\AppData\\Local\\Temp\\pip-uninstall-8tvpn6e3\\core\\tests\\__pycache__\\test_scalarmath.cpython-38.pyc\n",
      "  Moving to c:\\users\\darshan patel\\anaconda3\\envs\\myenv\\lib\\site-packages\\numpy\\core\\tests\\__pycache__\\test_scalarprint.cpython-38.pyc\n",
      "   from C:\\Users\\Darshan Patel\\AppData\\Local\\Temp\\pip-uninstall-8tvpn6e3\\core\\tests\\__pycache__\\test_scalarprint.cpython-38.pyc\n",
      "  Moving to c:\\users\\darshan patel\\anaconda3\\envs\\myenv\\lib\\site-packages\\numpy\\core\\tests\\__pycache__\\test_shape_base.cpython-38.pyc\n",
      "   from C:\\Users\\Darshan Patel\\AppData\\Local\\Temp\\pip-uninstall-8tvpn6e3\\core\\tests\\__pycache__\\test_shape_base.cpython-38.pyc\n",
      "  Moving to c:\\users\\darshan patel\\anaconda3\\envs\\myenv\\lib\\site-packages\\numpy\\core\\tests\\__pycache__\\test_ufunc.cpython-38.pyc\n",
      "   from C:\\Users\\Darshan Patel\\AppData\\Local\\Temp\\pip-uninstall-8tvpn6e3\\core\\tests\\__pycache__\\test_ufunc.cpython-38.pyc\n",
      "  Moving to c:\\users\\darshan patel\\anaconda3\\envs\\myenv\\lib\\site-packages\\numpy\\core\\tests\\__pycache__\\test_umath.cpython-38.pyc\n",
      "   from C:\\Users\\Darshan Patel\\AppData\\Local\\Temp\\pip-uninstall-8tvpn6e3\\core\\tests\\__pycache__\\test_umath.cpython-38.pyc\n",
      "  Moving to c:\\users\\darshan patel\\anaconda3\\envs\\myenv\\lib\\site-packages\\numpy\\core\\tests\\__pycache__\\test_umath_accuracy.cpython-38.pyc\n",
      "   from C:\\Users\\Darshan Patel\\AppData\\Local\\Temp\\pip-uninstall-8tvpn6e3\\core\\tests\\__pycache__\\test_umath_accuracy.cpython-38.pyc\n",
      "  Moving to c:\\users\\darshan patel\\anaconda3\\envs\\myenv\\lib\\site-packages\\numpy\\core\\tests\\__pycache__\\test_umath_complex.cpython-38.pyc\n",
      "   from C:\\Users\\Darshan Patel\\AppData\\Local\\Temp\\pip-uninstall-8tvpn6e3\\core\\tests\\__pycache__\\test_umath_complex.cpython-38.pyc\n",
      "  Moving to c:\\users\\darshan patel\\anaconda3\\envs\\myenv\\lib\\site-packages\\numpy\\core\\tests\\__pycache__\\test_unicode.cpython-38.pyc\n",
      "   from C:\\Users\\Darshan Patel\\AppData\\Local\\Temp\\pip-uninstall-8tvpn6e3\\core\\tests\\__pycache__\\test_unicode.cpython-38.pyc\n",
      "  Moving to c:\\users\\darshan patel\\anaconda3\\envs\\myenv\\lib\\site-packages\\numpy\\core\\tests\\_locales.py\n",
      "   from C:\\Users\\Darshan Patel\\AppData\\Local\\Temp\\pip-uninstall-8tvpn6e3\\core\\tests\\_locales.py\n",
      "  Moving to c:\\users\\darshan patel\\anaconda3\\envs\\myenv\\lib\\site-packages\\numpy\\core\\tests\\data\\\n",
      "   from C:\\Users\\Darshan Patel\\anaconda3\\envs\\myenv\\Lib\\site-packages\\numpy\\core\\tests\\~ata\n",
      "  Moving to c:\\users\\darshan patel\\anaconda3\\envs\\myenv\\lib\\site-packages\\numpy\\core\\tests\\test__exceptions.py\n",
      "   from C:\\Users\\Darshan Patel\\AppData\\Local\\Temp\\pip-uninstall-8tvpn6e3\\core\\tests\\test__exceptions.py\n",
      "  Moving to c:\\users\\darshan patel\\anaconda3\\envs\\myenv\\lib\\site-packages\\numpy\\core\\tests\\test_abc.py\n",
      "   from C:\\Users\\Darshan Patel\\AppData\\Local\\Temp\\pip-uninstall-8tvpn6e3\\core\\tests\\test_abc.py\n",
      "  Moving to c:\\users\\darshan patel\\anaconda3\\envs\\myenv\\lib\\site-packages\\numpy\\core\\tests\\test_api.py\n",
      "   from C:\\Users\\Darshan Patel\\AppData\\Local\\Temp\\pip-uninstall-8tvpn6e3\\core\\tests\\test_api.py\n",
      "  Moving to c:\\users\\darshan patel\\anaconda3\\envs\\myenv\\lib\\site-packages\\numpy\\core\\tests\\test_arrayprint.py\n",
      "   from C:\\Users\\Darshan Patel\\AppData\\Local\\Temp\\pip-uninstall-8tvpn6e3\\core\\tests\\test_arrayprint.py\n",
      "  Moving to c:\\users\\darshan patel\\anaconda3\\envs\\myenv\\lib\\site-packages\\numpy\\core\\tests\\test_conversion_utils.py\n",
      "   from C:\\Users\\Darshan Patel\\AppData\\Local\\Temp\\pip-uninstall-8tvpn6e3\\core\\tests\\test_conversion_utils.py\n",
      "  Moving to c:\\users\\darshan patel\\anaconda3\\envs\\myenv\\lib\\site-packages\\numpy\\core\\tests\\test_cpu_features.py\n",
      "   from C:\\Users\\Darshan Patel\\AppData\\Local\\Temp\\pip-uninstall-8tvpn6e3\\core\\tests\\test_cpu_features.py\n",
      "  Moving to c:\\users\\darshan patel\\anaconda3\\envs\\myenv\\lib\\site-packages\\numpy\\core\\tests\\test_datetime.py\n",
      "   from C:\\Users\\Darshan Patel\\AppData\\Local\\Temp\\pip-uninstall-8tvpn6e3\\core\\tests\\test_datetime.py\n",
      "  Moving to c:\\users\\darshan patel\\anaconda3\\envs\\myenv\\lib\\site-packages\\numpy\\core\\tests\\test_defchararray.py\n",
      "   from C:\\Users\\Darshan Patel\\AppData\\Local\\Temp\\pip-uninstall-8tvpn6e3\\core\\tests\\test_defchararray.py\n",
      "  Moving to c:\\users\\darshan patel\\anaconda3\\envs\\myenv\\lib\\site-packages\\numpy\\core\\tests\\test_deprecations.py\n",
      "   from C:\\Users\\Darshan Patel\\AppData\\Local\\Temp\\pip-uninstall-8tvpn6e3\\core\\tests\\test_deprecations.py\n",
      "  Moving to c:\\users\\darshan patel\\anaconda3\\envs\\myenv\\lib\\site-packages\\numpy\\core\\tests\\test_dtype.py\n",
      "   from C:\\Users\\Darshan Patel\\AppData\\Local\\Temp\\pip-uninstall-8tvpn6e3\\core\\tests\\test_dtype.py\n",
      "  Moving to c:\\users\\darshan patel\\anaconda3\\envs\\myenv\\lib\\site-packages\\numpy\\core\\tests\\test_einsum.py\n",
      "   from C:\\Users\\Darshan Patel\\AppData\\Local\\Temp\\pip-uninstall-8tvpn6e3\\core\\tests\\test_einsum.py\n",
      "  Moving to c:\\users\\darshan patel\\anaconda3\\envs\\myenv\\lib\\site-packages\\numpy\\core\\tests\\test_errstate.py\n",
      "   from C:\\Users\\Darshan Patel\\AppData\\Local\\Temp\\pip-uninstall-8tvpn6e3\\core\\tests\\test_errstate.py\n",
      "  Moving to c:\\users\\darshan patel\\anaconda3\\envs\\myenv\\lib\\site-packages\\numpy\\core\\tests\\test_extint128.py\n",
      "   from C:\\Users\\Darshan Patel\\AppData\\Local\\Temp\\pip-uninstall-8tvpn6e3\\core\\tests\\test_extint128.py\n",
      "  Moving to c:\\users\\darshan patel\\anaconda3\\envs\\myenv\\lib\\site-packages\\numpy\\core\\tests\\test_function_base.py\n",
      "   from C:\\Users\\Darshan Patel\\AppData\\Local\\Temp\\pip-uninstall-8tvpn6e3\\core\\tests\\test_function_base.py\n",
      "  Moving to c:\\users\\darshan patel\\anaconda3\\envs\\myenv\\lib\\site-packages\\numpy\\core\\tests\\test_getlimits.py\n",
      "   from C:\\Users\\Darshan Patel\\AppData\\Local\\Temp\\pip-uninstall-8tvpn6e3\\core\\tests\\test_getlimits.py\n",
      "  Moving to c:\\users\\darshan patel\\anaconda3\\envs\\myenv\\lib\\site-packages\\numpy\\core\\tests\\test_half.py\n",
      "   from C:\\Users\\Darshan Patel\\AppData\\Local\\Temp\\pip-uninstall-8tvpn6e3\\core\\tests\\test_half.py\n",
      "  Moving to c:\\users\\darshan patel\\anaconda3\\envs\\myenv\\lib\\site-packages\\numpy\\core\\tests\\test_indexerrors.py\n",
      "   from C:\\Users\\Darshan Patel\\AppData\\Local\\Temp\\pip-uninstall-8tvpn6e3\\core\\tests\\test_indexerrors.py\n",
      "  Moving to c:\\users\\darshan patel\\anaconda3\\envs\\myenv\\lib\\site-packages\\numpy\\core\\tests\\test_indexing.py\n",
      "   from C:\\Users\\Darshan Patel\\AppData\\Local\\Temp\\pip-uninstall-8tvpn6e3\\core\\tests\\test_indexing.py\n",
      "  Moving to c:\\users\\darshan patel\\anaconda3\\envs\\myenv\\lib\\site-packages\\numpy\\core\\tests\\test_item_selection.py\n",
      "   from C:\\Users\\Darshan Patel\\AppData\\Local\\Temp\\pip-uninstall-8tvpn6e3\\core\\tests\\test_item_selection.py\n",
      "  Moving to c:\\users\\darshan patel\\anaconda3\\envs\\myenv\\lib\\site-packages\\numpy\\core\\tests\\test_longdouble.py\n",
      "   from C:\\Users\\Darshan Patel\\AppData\\Local\\Temp\\pip-uninstall-8tvpn6e3\\core\\tests\\test_longdouble.py\n",
      "  Moving to c:\\users\\darshan patel\\anaconda3\\envs\\myenv\\lib\\site-packages\\numpy\\core\\tests\\test_machar.py\n",
      "   from C:\\Users\\Darshan Patel\\AppData\\Local\\Temp\\pip-uninstall-8tvpn6e3\\core\\tests\\test_machar.py\n",
      "  Moving to c:\\users\\darshan patel\\anaconda3\\envs\\myenv\\lib\\site-packages\\numpy\\core\\tests\\test_mem_overlap.py\n",
      "   from C:\\Users\\Darshan Patel\\AppData\\Local\\Temp\\pip-uninstall-8tvpn6e3\\core\\tests\\test_mem_overlap.py\n",
      "  Moving to c:\\users\\darshan patel\\anaconda3\\envs\\myenv\\lib\\site-packages\\numpy\\core\\tests\\test_memmap.py\n",
      "   from C:\\Users\\Darshan Patel\\AppData\\Local\\Temp\\pip-uninstall-8tvpn6e3\\core\\tests\\test_memmap.py\n",
      "  Moving to c:\\users\\darshan patel\\anaconda3\\envs\\myenv\\lib\\site-packages\\numpy\\core\\tests\\test_multiarray.py\n",
      "   from C:\\Users\\Darshan Patel\\AppData\\Local\\Temp\\pip-uninstall-8tvpn6e3\\core\\tests\\test_multiarray.py\n",
      "  Moving to c:\\users\\darshan patel\\anaconda3\\envs\\myenv\\lib\\site-packages\\numpy\\core\\tests\\test_nditer.py\n",
      "   from C:\\Users\\Darshan Patel\\AppData\\Local\\Temp\\pip-uninstall-8tvpn6e3\\core\\tests\\test_nditer.py\n",
      "  Moving to c:\\users\\darshan patel\\anaconda3\\envs\\myenv\\lib\\site-packages\\numpy\\core\\tests\\test_numeric.py\n",
      "   from C:\\Users\\Darshan Patel\\AppData\\Local\\Temp\\pip-uninstall-8tvpn6e3\\core\\tests\\test_numeric.py\n",
      "  Moving to c:\\users\\darshan patel\\anaconda3\\envs\\myenv\\lib\\site-packages\\numpy\\core\\tests\\test_numerictypes.py\n",
      "   from C:\\Users\\Darshan Patel\\AppData\\Local\\Temp\\pip-uninstall-8tvpn6e3\\core\\tests\\test_numerictypes.py\n",
      "  Moving to c:\\users\\darshan patel\\anaconda3\\envs\\myenv\\lib\\site-packages\\numpy\\core\\tests\\test_overrides.py\n",
      "   from C:\\Users\\Darshan Patel\\AppData\\Local\\Temp\\pip-uninstall-8tvpn6e3\\core\\tests\\test_overrides.py\n",
      "  Moving to c:\\users\\darshan patel\\anaconda3\\envs\\myenv\\lib\\site-packages\\numpy\\core\\tests\\test_print.py\n",
      "   from C:\\Users\\Darshan Patel\\AppData\\Local\\Temp\\pip-uninstall-8tvpn6e3\\core\\tests\\test_print.py\n",
      "  Moving to c:\\users\\darshan patel\\anaconda3\\envs\\myenv\\lib\\site-packages\\numpy\\core\\tests\\test_protocols.py\n",
      "   from C:\\Users\\Darshan Patel\\AppData\\Local\\Temp\\pip-uninstall-8tvpn6e3\\core\\tests\\test_protocols.py\n",
      "  Moving to c:\\users\\darshan patel\\anaconda3\\envs\\myenv\\lib\\site-packages\\numpy\\core\\tests\\test_records.py\n",
      "   from C:\\Users\\Darshan Patel\\AppData\\Local\\Temp\\pip-uninstall-8tvpn6e3\\core\\tests\\test_records.py\n",
      "  Moving to c:\\users\\darshan patel\\anaconda3\\envs\\myenv\\lib\\site-packages\\numpy\\core\\tests\\test_regression.py\n",
      "   from C:\\Users\\Darshan Patel\\AppData\\Local\\Temp\\pip-uninstall-8tvpn6e3\\core\\tests\\test_regression.py\n",
      "  Moving to c:\\users\\darshan patel\\anaconda3\\envs\\myenv\\lib\\site-packages\\numpy\\core\\tests\\test_scalar_ctors.py\n",
      "   from C:\\Users\\Darshan Patel\\AppData\\Local\\Temp\\pip-uninstall-8tvpn6e3\\core\\tests\\test_scalar_ctors.py\n",
      "  Moving to c:\\users\\darshan patel\\anaconda3\\envs\\myenv\\lib\\site-packages\\numpy\\core\\tests\\test_scalar_methods.py\n",
      "   from C:\\Users\\Darshan Patel\\AppData\\Local\\Temp\\pip-uninstall-8tvpn6e3\\core\\tests\\test_scalar_methods.py\n",
      "  Moving to c:\\users\\darshan patel\\anaconda3\\envs\\myenv\\lib\\site-packages\\numpy\\core\\tests\\test_scalarbuffer.py\n",
      "   from C:\\Users\\Darshan Patel\\AppData\\Local\\Temp\\pip-uninstall-8tvpn6e3\\core\\tests\\test_scalarbuffer.py\n",
      "  Moving to c:\\users\\darshan patel\\anaconda3\\envs\\myenv\\lib\\site-packages\\numpy\\core\\tests\\test_scalarinherit.py\n",
      "   from C:\\Users\\Darshan Patel\\AppData\\Local\\Temp\\pip-uninstall-8tvpn6e3\\core\\tests\\test_scalarinherit.py\n",
      "  Moving to c:\\users\\darshan patel\\anaconda3\\envs\\myenv\\lib\\site-packages\\numpy\\core\\tests\\test_scalarmath.py\n",
      "   from C:\\Users\\Darshan Patel\\AppData\\Local\\Temp\\pip-uninstall-8tvpn6e3\\core\\tests\\test_scalarmath.py\n",
      "  Moving to c:\\users\\darshan patel\\anaconda3\\envs\\myenv\\lib\\site-packages\\numpy\\core\\tests\\test_scalarprint.py\n",
      "   from C:\\Users\\Darshan Patel\\AppData\\Local\\Temp\\pip-uninstall-8tvpn6e3\\core\\tests\\test_scalarprint.py\n",
      "  Moving to c:\\users\\darshan patel\\anaconda3\\envs\\myenv\\lib\\site-packages\\numpy\\core\\tests\\test_shape_base.py\n",
      "   from C:\\Users\\Darshan Patel\\AppData\\Local\\Temp\\pip-uninstall-8tvpn6e3\\core\\tests\\test_shape_base.py\n",
      "  Moving to c:\\users\\darshan patel\\anaconda3\\envs\\myenv\\lib\\site-packages\\numpy\\core\\tests\\test_ufunc.py\n",
      "   from C:\\Users\\Darshan Patel\\AppData\\Local\\Temp\\pip-uninstall-8tvpn6e3\\core\\tests\\test_ufunc.py\n",
      "  Moving to c:\\users\\darshan patel\\anaconda3\\envs\\myenv\\lib\\site-packages\\numpy\\core\\tests\\test_umath.py\n",
      "   from C:\\Users\\Darshan Patel\\AppData\\Local\\Temp\\pip-uninstall-8tvpn6e3\\core\\tests\\test_umath.py\n",
      "  Moving to c:\\users\\darshan patel\\anaconda3\\envs\\myenv\\lib\\site-packages\\numpy\\core\\tests\\test_umath_accuracy.py\n",
      "   from C:\\Users\\Darshan Patel\\AppData\\Local\\Temp\\pip-uninstall-8tvpn6e3\\core\\tests\\test_umath_accuracy.py\n",
      "  Moving to c:\\users\\darshan patel\\anaconda3\\envs\\myenv\\lib\\site-packages\\numpy\\core\\tests\\test_umath_complex.py\n",
      "   from C:\\Users\\Darshan Patel\\AppData\\Local\\Temp\\pip-uninstall-8tvpn6e3\\core\\tests\\test_umath_complex.py\n",
      "  Moving to c:\\users\\darshan patel\\anaconda3\\envs\\myenv\\lib\\site-packages\\numpy\\core\\tests\\test_unicode.py\n",
      "   from C:\\Users\\Darshan Patel\\AppData\\Local\\Temp\\pip-uninstall-8tvpn6e3\\core\\tests\\test_unicode.py\n",
      "  Moving to c:\\users\\darshan patel\\anaconda3\\envs\\myenv\\lib\\site-packages\\numpy\\core\\umath.py\n",
      "   from C:\\Users\\Darshan Patel\\AppData\\Local\\Temp\\pip-uninstall-8tvpn6e3\\core\\umath.py\n",
      "  Moving to c:\\users\\darshan patel\\anaconda3\\envs\\myenv\\lib\\site-packages\\numpy\\core\\umath_tests.py\n",
      "   from C:\\Users\\Darshan Patel\\AppData\\Local\\Temp\\pip-uninstall-8tvpn6e3\\core\\umath_tests.py\n",
      "  Moving to c:\\users\\darshan patel\\anaconda3\\envs\\myenv\\lib\\site-packages\\numpy\\ctypeslib.py\n",
      "   from C:\\Users\\Darshan Patel\\AppData\\Local\\Temp\\pip-uninstall-8tvpn6e3\\ctypeslib.py\n",
      "  Moving to c:\\users\\darshan patel\\anaconda3\\envs\\myenv\\lib\\site-packages\\numpy\\distutils\\__config__.py\n",
      "   from C:\\Users\\Darshan Patel\\AppData\\Local\\Temp\\pip-uninstall-8tvpn6e3\\distutils\\__config__.py\n",
      "  Moving to c:\\users\\darshan patel\\anaconda3\\envs\\myenv\\lib\\site-packages\\numpy\\distutils\\__init__.py\n",
      "   from C:\\Users\\Darshan Patel\\AppData\\Local\\Temp\\pip-uninstall-8tvpn6e3\\distutils\\__init__.py\n",
      "  Moving to c:\\users\\darshan patel\\anaconda3\\envs\\myenv\\lib\\site-packages\\numpy\\distutils\\__pycache__\\\n",
      "   from C:\\Users\\Darshan Patel\\anaconda3\\envs\\myenv\\Lib\\site-packages\\numpy\\distutils\\~_pycache__\n",
      "  Moving to c:\\users\\darshan patel\\anaconda3\\envs\\myenv\\lib\\site-packages\\numpy\\distutils\\_shell_utils.py\n",
      "   from C:\\Users\\Darshan Patel\\AppData\\Local\\Temp\\pip-uninstall-8tvpn6e3\\distutils\\_shell_utils.py\n",
      "  Moving to c:\\users\\darshan patel\\anaconda3\\envs\\myenv\\lib\\site-packages\\numpy\\distutils\\ccompiler.py\n",
      "   from C:\\Users\\Darshan Patel\\AppData\\Local\\Temp\\pip-uninstall-8tvpn6e3\\distutils\\ccompiler.py\n",
      "  Moving to c:\\users\\darshan patel\\anaconda3\\envs\\myenv\\lib\\site-packages\\numpy\\distutils\\command\\\n",
      "   from C:\\Users\\Darshan Patel\\anaconda3\\envs\\myenv\\Lib\\site-packages\\numpy\\distutils\\~ommand\n",
      "  Moving to c:\\users\\darshan patel\\anaconda3\\envs\\myenv\\lib\\site-packages\\numpy\\distutils\\conv_template.py\n",
      "   from C:\\Users\\Darshan Patel\\AppData\\Local\\Temp\\pip-uninstall-8tvpn6e3\\distutils\\conv_template.py\n",
      "  Moving to c:\\users\\darshan patel\\anaconda3\\envs\\myenv\\lib\\site-packages\\numpy\\distutils\\core.py\n",
      "   from C:\\Users\\Darshan Patel\\AppData\\Local\\Temp\\pip-uninstall-8tvpn6e3\\distutils\\core.py\n",
      "  Moving to c:\\users\\darshan patel\\anaconda3\\envs\\myenv\\lib\\site-packages\\numpy\\distutils\\cpuinfo.py\n",
      "   from C:\\Users\\Darshan Patel\\AppData\\Local\\Temp\\pip-uninstall-8tvpn6e3\\distutils\\cpuinfo.py\n",
      "  Moving to c:\\users\\darshan patel\\anaconda3\\envs\\myenv\\lib\\site-packages\\numpy\\distutils\\exec_command.py\n",
      "   from C:\\Users\\Darshan Patel\\AppData\\Local\\Temp\\pip-uninstall-8tvpn6e3\\distutils\\exec_command.py\n",
      "  Moving to c:\\users\\darshan patel\\anaconda3\\envs\\myenv\\lib\\site-packages\\numpy\\distutils\\extension.py\n",
      "   from C:\\Users\\Darshan Patel\\AppData\\Local\\Temp\\pip-uninstall-8tvpn6e3\\distutils\\extension.py\n",
      "  Moving to c:\\users\\darshan patel\\anaconda3\\envs\\myenv\\lib\\site-packages\\numpy\\distutils\\fcompiler\\\n",
      "   from C:\\Users\\Darshan Patel\\anaconda3\\envs\\myenv\\Lib\\site-packages\\numpy\\distutils\\~compiler\n",
      "  Moving to c:\\users\\darshan patel\\anaconda3\\envs\\myenv\\lib\\site-packages\\numpy\\distutils\\from_template.py\n",
      "   from C:\\Users\\Darshan Patel\\AppData\\Local\\Temp\\pip-uninstall-8tvpn6e3\\distutils\\from_template.py\n",
      "  Moving to c:\\users\\darshan patel\\anaconda3\\envs\\myenv\\lib\\site-packages\\numpy\\distutils\\intelccompiler.py\n",
      "   from C:\\Users\\Darshan Patel\\AppData\\Local\\Temp\\pip-uninstall-8tvpn6e3\\distutils\\intelccompiler.py\n",
      "  Moving to c:\\users\\darshan patel\\anaconda3\\envs\\myenv\\lib\\site-packages\\numpy\\distutils\\lib2def.py\n",
      "   from C:\\Users\\Darshan Patel\\AppData\\Local\\Temp\\pip-uninstall-8tvpn6e3\\distutils\\lib2def.py\n",
      "  Moving to c:\\users\\darshan patel\\anaconda3\\envs\\myenv\\lib\\site-packages\\numpy\\distutils\\line_endings.py\n",
      "   from C:\\Users\\Darshan Patel\\AppData\\Local\\Temp\\pip-uninstall-8tvpn6e3\\distutils\\line_endings.py\n",
      "  Moving to c:\\users\\darshan patel\\anaconda3\\envs\\myenv\\lib\\site-packages\\numpy\\distutils\\log.py\n",
      "   from C:\\Users\\Darshan Patel\\AppData\\Local\\Temp\\pip-uninstall-8tvpn6e3\\distutils\\log.py\n",
      "  Moving to c:\\users\\darshan patel\\anaconda3\\envs\\myenv\\lib\\site-packages\\numpy\\distutils\\mingw32ccompiler.py\n",
      "   from C:\\Users\\Darshan Patel\\AppData\\Local\\Temp\\pip-uninstall-8tvpn6e3\\distutils\\mingw32ccompiler.py\n",
      "  Moving to c:\\users\\darshan patel\\anaconda3\\envs\\myenv\\lib\\site-packages\\numpy\\distutils\\mingw\\\n",
      "   from C:\\Users\\Darshan Patel\\anaconda3\\envs\\myenv\\Lib\\site-packages\\numpy\\distutils\\~ingw\n",
      "  Moving to c:\\users\\darshan patel\\anaconda3\\envs\\myenv\\lib\\site-packages\\numpy\\distutils\\misc_util.py\n",
      "   from C:\\Users\\Darshan Patel\\AppData\\Local\\Temp\\pip-uninstall-8tvpn6e3\\distutils\\misc_util.py\n",
      "  Moving to c:\\users\\darshan patel\\anaconda3\\envs\\myenv\\lib\\site-packages\\numpy\\distutils\\msvc9compiler.py\n",
      "   from C:\\Users\\Darshan Patel\\AppData\\Local\\Temp\\pip-uninstall-8tvpn6e3\\distutils\\msvc9compiler.py\n",
      "  Moving to c:\\users\\darshan patel\\anaconda3\\envs\\myenv\\lib\\site-packages\\numpy\\distutils\\msvccompiler.py\n",
      "   from C:\\Users\\Darshan Patel\\AppData\\Local\\Temp\\pip-uninstall-8tvpn6e3\\distutils\\msvccompiler.py\n",
      "  Moving to c:\\users\\darshan patel\\anaconda3\\envs\\myenv\\lib\\site-packages\\numpy\\distutils\\npy_pkg_config.py\n",
      "   from C:\\Users\\Darshan Patel\\AppData\\Local\\Temp\\pip-uninstall-8tvpn6e3\\distutils\\npy_pkg_config.py\n",
      "  Moving to c:\\users\\darshan patel\\anaconda3\\envs\\myenv\\lib\\site-packages\\numpy\\distutils\\numpy_distribution.py\n",
      "   from C:\\Users\\Darshan Patel\\AppData\\Local\\Temp\\pip-uninstall-8tvpn6e3\\distutils\\numpy_distribution.py\n",
      "  Moving to c:\\users\\darshan patel\\anaconda3\\envs\\myenv\\lib\\site-packages\\numpy\\distutils\\pathccompiler.py\n",
      "   from C:\\Users\\Darshan Patel\\AppData\\Local\\Temp\\pip-uninstall-8tvpn6e3\\distutils\\pathccompiler.py\n",
      "  Moving to c:\\users\\darshan patel\\anaconda3\\envs\\myenv\\lib\\site-packages\\numpy\\distutils\\setup.py\n",
      "   from C:\\Users\\Darshan Patel\\AppData\\Local\\Temp\\pip-uninstall-8tvpn6e3\\distutils\\setup.py\n",
      "  Moving to c:\\users\\darshan patel\\anaconda3\\envs\\myenv\\lib\\site-packages\\numpy\\distutils\\system_info.py\n",
      "   from C:\\Users\\Darshan Patel\\AppData\\Local\\Temp\\pip-uninstall-8tvpn6e3\\distutils\\system_info.py\n",
      "  Moving to c:\\users\\darshan patel\\anaconda3\\envs\\myenv\\lib\\site-packages\\numpy\\distutils\\tests\\\n",
      "   from C:\\Users\\Darshan Patel\\anaconda3\\envs\\myenv\\Lib\\site-packages\\numpy\\distutils\\~ests\n",
      "  Moving to c:\\users\\darshan patel\\anaconda3\\envs\\myenv\\lib\\site-packages\\numpy\\distutils\\unixccompiler.py\n",
      "   from C:\\Users\\Darshan Patel\\AppData\\Local\\Temp\\pip-uninstall-8tvpn6e3\\distutils\\unixccompiler.py\n",
      "  Moving to c:\\users\\darshan patel\\anaconda3\\envs\\myenv\\lib\\site-packages\\numpy\\doc\\\n",
      "   from C:\\Users\\Darshan Patel\\anaconda3\\envs\\myenv\\Lib\\site-packages\\numpy\\~oc\n",
      "  Moving to c:\\users\\darshan patel\\anaconda3\\envs\\myenv\\lib\\site-packages\\numpy\\dual.py\n",
      "   from C:\\Users\\Darshan Patel\\AppData\\Local\\Temp\\pip-uninstall-8tvpn6e3\\dual.py\n",
      "  Moving to c:\\users\\darshan patel\\anaconda3\\envs\\myenv\\lib\\site-packages\\numpy\\f2py\\__init__.py\n",
      "   from C:\\Users\\Darshan Patel\\AppData\\Local\\Temp\\pip-uninstall-8tvpn6e3\\f2py\\__init__.py\n",
      "  Moving to c:\\users\\darshan patel\\anaconda3\\envs\\myenv\\lib\\site-packages\\numpy\\f2py\\__main__.py\n",
      "   from C:\\Users\\Darshan Patel\\AppData\\Local\\Temp\\pip-uninstall-8tvpn6e3\\f2py\\__main__.py\n",
      "  Moving to c:\\users\\darshan patel\\anaconda3\\envs\\myenv\\lib\\site-packages\\numpy\\f2py\\__pycache__\\\n",
      "   from C:\\Users\\Darshan Patel\\anaconda3\\envs\\myenv\\Lib\\site-packages\\numpy\\f2py\\~_pycache__\n",
      "  Moving to c:\\users\\darshan patel\\anaconda3\\envs\\myenv\\lib\\site-packages\\numpy\\f2py\\__version__.py\n",
      "   from C:\\Users\\Darshan Patel\\AppData\\Local\\Temp\\pip-uninstall-8tvpn6e3\\f2py\\__version__.py\n",
      "  Moving to c:\\users\\darshan patel\\anaconda3\\envs\\myenv\\lib\\site-packages\\numpy\\f2py\\auxfuncs.py\n",
      "   from C:\\Users\\Darshan Patel\\AppData\\Local\\Temp\\pip-uninstall-8tvpn6e3\\f2py\\auxfuncs.py\n",
      "  Moving to c:\\users\\darshan patel\\anaconda3\\envs\\myenv\\lib\\site-packages\\numpy\\f2py\\capi_maps.py\n",
      "   from C:\\Users\\Darshan Patel\\AppData\\Local\\Temp\\pip-uninstall-8tvpn6e3\\f2py\\capi_maps.py\n",
      "  Moving to c:\\users\\darshan patel\\anaconda3\\envs\\myenv\\lib\\site-packages\\numpy\\f2py\\cb_rules.py\n",
      "   from C:\\Users\\Darshan Patel\\AppData\\Local\\Temp\\pip-uninstall-8tvpn6e3\\f2py\\cb_rules.py\n",
      "  Moving to c:\\users\\darshan patel\\anaconda3\\envs\\myenv\\lib\\site-packages\\numpy\\f2py\\cfuncs.py\n",
      "   from C:\\Users\\Darshan Patel\\AppData\\Local\\Temp\\pip-uninstall-8tvpn6e3\\f2py\\cfuncs.py\n",
      "  Moving to c:\\users\\darshan patel\\anaconda3\\envs\\myenv\\lib\\site-packages\\numpy\\f2py\\common_rules.py\n",
      "   from C:\\Users\\Darshan Patel\\AppData\\Local\\Temp\\pip-uninstall-8tvpn6e3\\f2py\\common_rules.py\n",
      "  Moving to c:\\users\\darshan patel\\anaconda3\\envs\\myenv\\lib\\site-packages\\numpy\\f2py\\crackfortran.py\n",
      "   from C:\\Users\\Darshan Patel\\AppData\\Local\\Temp\\pip-uninstall-8tvpn6e3\\f2py\\crackfortran.py\n",
      "  Moving to c:\\users\\darshan patel\\anaconda3\\envs\\myenv\\lib\\site-packages\\numpy\\f2py\\diagnose.py\n",
      "   from C:\\Users\\Darshan Patel\\AppData\\Local\\Temp\\pip-uninstall-8tvpn6e3\\f2py\\diagnose.py\n",
      "  Moving to c:\\users\\darshan patel\\anaconda3\\envs\\myenv\\lib\\site-packages\\numpy\\f2py\\f2py2e.py\n",
      "   from C:\\Users\\Darshan Patel\\AppData\\Local\\Temp\\pip-uninstall-8tvpn6e3\\f2py\\f2py2e.py\n",
      "  Moving to c:\\users\\darshan patel\\anaconda3\\envs\\myenv\\lib\\site-packages\\numpy\\f2py\\f2py_testing.py\n",
      "   from C:\\Users\\Darshan Patel\\AppData\\Local\\Temp\\pip-uninstall-8tvpn6e3\\f2py\\f2py_testing.py\n",
      "  Moving to c:\\users\\darshan patel\\anaconda3\\envs\\myenv\\lib\\site-packages\\numpy\\f2py\\f90mod_rules.py\n",
      "   from C:\\Users\\Darshan Patel\\AppData\\Local\\Temp\\pip-uninstall-8tvpn6e3\\f2py\\f90mod_rules.py\n",
      "  Moving to c:\\users\\darshan patel\\anaconda3\\envs\\myenv\\lib\\site-packages\\numpy\\f2py\\func2subr.py\n",
      "   from C:\\Users\\Darshan Patel\\AppData\\Local\\Temp\\pip-uninstall-8tvpn6e3\\f2py\\func2subr.py\n",
      "  Moving to c:\\users\\darshan patel\\anaconda3\\envs\\myenv\\lib\\site-packages\\numpy\\f2py\\rules.py\n",
      "   from C:\\Users\\Darshan Patel\\AppData\\Local\\Temp\\pip-uninstall-8tvpn6e3\\f2py\\rules.py\n",
      "  Moving to c:\\users\\darshan patel\\anaconda3\\envs\\myenv\\lib\\site-packages\\numpy\\f2py\\setup.py\n",
      "   from C:\\Users\\Darshan Patel\\AppData\\Local\\Temp\\pip-uninstall-8tvpn6e3\\f2py\\setup.py\n",
      "  Moving to c:\\users\\darshan patel\\anaconda3\\envs\\myenv\\lib\\site-packages\\numpy\\f2py\\src\\\n",
      "   from C:\\Users\\Darshan Patel\\anaconda3\\envs\\myenv\\Lib\\site-packages\\numpy\\f2py\\~rc\n",
      "  Moving to c:\\users\\darshan patel\\anaconda3\\envs\\myenv\\lib\\site-packages\\numpy\\f2py\\tests\\__init__.py\n",
      "   from C:\\Users\\Darshan Patel\\AppData\\Local\\Temp\\pip-uninstall-8tvpn6e3\\f2py\\tests\\__init__.py\n",
      "  Moving to c:\\users\\darshan patel\\anaconda3\\envs\\myenv\\lib\\site-packages\\numpy\\f2py\\tests\\__pycache__\\__init__.cpython-38.pyc\n",
      "   from C:\\Users\\Darshan Patel\\AppData\\Local\\Temp\\pip-uninstall-8tvpn6e3\\f2py\\tests\\__pycache__\\__init__.cpython-38.pyc\n",
      "  Moving to c:\\users\\darshan patel\\anaconda3\\envs\\myenv\\lib\\site-packages\\numpy\\f2py\\tests\\__pycache__\\test_array_from_pyobj.cpython-38.pyc\n",
      "   from C:\\Users\\Darshan Patel\\AppData\\Local\\Temp\\pip-uninstall-8tvpn6e3\\f2py\\tests\\__pycache__\\test_array_from_pyobj.cpython-38.pyc\n",
      "  Moving to c:\\users\\darshan patel\\anaconda3\\envs\\myenv\\lib\\site-packages\\numpy\\f2py\\tests\\__pycache__\\test_assumed_shape.cpython-38.pyc\n",
      "   from C:\\Users\\Darshan Patel\\AppData\\Local\\Temp\\pip-uninstall-8tvpn6e3\\f2py\\tests\\__pycache__\\test_assumed_shape.cpython-38.pyc\n",
      "  Moving to c:\\users\\darshan patel\\anaconda3\\envs\\myenv\\lib\\site-packages\\numpy\\f2py\\tests\\__pycache__\\test_block_docstring.cpython-38.pyc\n",
      "   from C:\\Users\\Darshan Patel\\AppData\\Local\\Temp\\pip-uninstall-8tvpn6e3\\f2py\\tests\\__pycache__\\test_block_docstring.cpython-38.pyc\n",
      "  Moving to c:\\users\\darshan patel\\anaconda3\\envs\\myenv\\lib\\site-packages\\numpy\\f2py\\tests\\__pycache__\\test_callback.cpython-38.pyc\n",
      "   from C:\\Users\\Darshan Patel\\AppData\\Local\\Temp\\pip-uninstall-8tvpn6e3\\f2py\\tests\\__pycache__\\test_callback.cpython-38.pyc\n",
      "  Moving to c:\\users\\darshan patel\\anaconda3\\envs\\myenv\\lib\\site-packages\\numpy\\f2py\\tests\\__pycache__\\test_common.cpython-38.pyc\n",
      "   from C:\\Users\\Darshan Patel\\AppData\\Local\\Temp\\pip-uninstall-8tvpn6e3\\f2py\\tests\\__pycache__\\test_common.cpython-38.pyc\n",
      "  Moving to c:\\users\\darshan patel\\anaconda3\\envs\\myenv\\lib\\site-packages\\numpy\\f2py\\tests\\__pycache__\\test_compile_function.cpython-38.pyc\n",
      "   from C:\\Users\\Darshan Patel\\AppData\\Local\\Temp\\pip-uninstall-8tvpn6e3\\f2py\\tests\\__pycache__\\test_compile_function.cpython-38.pyc\n",
      "  Moving to c:\\users\\darshan patel\\anaconda3\\envs\\myenv\\lib\\site-packages\\numpy\\f2py\\tests\\__pycache__\\test_crackfortran.cpython-38.pyc\n",
      "   from C:\\Users\\Darshan Patel\\AppData\\Local\\Temp\\pip-uninstall-8tvpn6e3\\f2py\\tests\\__pycache__\\test_crackfortran.cpython-38.pyc\n",
      "  Moving to c:\\users\\darshan patel\\anaconda3\\envs\\myenv\\lib\\site-packages\\numpy\\f2py\\tests\\__pycache__\\test_kind.cpython-38.pyc\n",
      "   from C:\\Users\\Darshan Patel\\AppData\\Local\\Temp\\pip-uninstall-8tvpn6e3\\f2py\\tests\\__pycache__\\test_kind.cpython-38.pyc\n",
      "  Moving to c:\\users\\darshan patel\\anaconda3\\envs\\myenv\\lib\\site-packages\\numpy\\f2py\\tests\\__pycache__\\test_mixed.cpython-38.pyc\n",
      "   from C:\\Users\\Darshan Patel\\AppData\\Local\\Temp\\pip-uninstall-8tvpn6e3\\f2py\\tests\\__pycache__\\test_mixed.cpython-38.pyc\n",
      "  Moving to c:\\users\\darshan patel\\anaconda3\\envs\\myenv\\lib\\site-packages\\numpy\\f2py\\tests\\__pycache__\\test_parameter.cpython-38.pyc\n",
      "   from C:\\Users\\Darshan Patel\\AppData\\Local\\Temp\\pip-uninstall-8tvpn6e3\\f2py\\tests\\__pycache__\\test_parameter.cpython-38.pyc\n",
      "  Moving to c:\\users\\darshan patel\\anaconda3\\envs\\myenv\\lib\\site-packages\\numpy\\f2py\\tests\\__pycache__\\test_quoted_character.cpython-38.pyc\n",
      "   from C:\\Users\\Darshan Patel\\AppData\\Local\\Temp\\pip-uninstall-8tvpn6e3\\f2py\\tests\\__pycache__\\test_quoted_character.cpython-38.pyc\n",
      "  Moving to c:\\users\\darshan patel\\anaconda3\\envs\\myenv\\lib\\site-packages\\numpy\\f2py\\tests\\__pycache__\\test_regression.cpython-38.pyc\n",
      "   from C:\\Users\\Darshan Patel\\AppData\\Local\\Temp\\pip-uninstall-8tvpn6e3\\f2py\\tests\\__pycache__\\test_regression.cpython-38.pyc\n",
      "  Moving to c:\\users\\darshan patel\\anaconda3\\envs\\myenv\\lib\\site-packages\\numpy\\f2py\\tests\\__pycache__\\test_return_character.cpython-38.pyc\n",
      "   from C:\\Users\\Darshan Patel\\AppData\\Local\\Temp\\pip-uninstall-8tvpn6e3\\f2py\\tests\\__pycache__\\test_return_character.cpython-38.pyc\n",
      "  Moving to c:\\users\\darshan patel\\anaconda3\\envs\\myenv\\lib\\site-packages\\numpy\\f2py\\tests\\__pycache__\\test_return_complex.cpython-38.pyc\n",
      "   from C:\\Users\\Darshan Patel\\AppData\\Local\\Temp\\pip-uninstall-8tvpn6e3\\f2py\\tests\\__pycache__\\test_return_complex.cpython-38.pyc\n",
      "  Moving to c:\\users\\darshan patel\\anaconda3\\envs\\myenv\\lib\\site-packages\\numpy\\f2py\\tests\\__pycache__\\test_return_integer.cpython-38.pyc\n",
      "   from C:\\Users\\Darshan Patel\\AppData\\Local\\Temp\\pip-uninstall-8tvpn6e3\\f2py\\tests\\__pycache__\\test_return_integer.cpython-38.pyc\n",
      "  Moving to c:\\users\\darshan patel\\anaconda3\\envs\\myenv\\lib\\site-packages\\numpy\\f2py\\tests\\__pycache__\\test_return_logical.cpython-38.pyc\n",
      "   from C:\\Users\\Darshan Patel\\AppData\\Local\\Temp\\pip-uninstall-8tvpn6e3\\f2py\\tests\\__pycache__\\test_return_logical.cpython-38.pyc\n",
      "  Moving to c:\\users\\darshan patel\\anaconda3\\envs\\myenv\\lib\\site-packages\\numpy\\f2py\\tests\\__pycache__\\test_return_real.cpython-38.pyc\n",
      "   from C:\\Users\\Darshan Patel\\AppData\\Local\\Temp\\pip-uninstall-8tvpn6e3\\f2py\\tests\\__pycache__\\test_return_real.cpython-38.pyc\n",
      "  Moving to c:\\users\\darshan patel\\anaconda3\\envs\\myenv\\lib\\site-packages\\numpy\\f2py\\tests\\__pycache__\\test_semicolon_split.cpython-38.pyc\n",
      "   from C:\\Users\\Darshan Patel\\AppData\\Local\\Temp\\pip-uninstall-8tvpn6e3\\f2py\\tests\\__pycache__\\test_semicolon_split.cpython-38.pyc\n",
      "  Moving to c:\\users\\darshan patel\\anaconda3\\envs\\myenv\\lib\\site-packages\\numpy\\f2py\\tests\\__pycache__\\test_size.cpython-38.pyc\n",
      "   from C:\\Users\\Darshan Patel\\AppData\\Local\\Temp\\pip-uninstall-8tvpn6e3\\f2py\\tests\\__pycache__\\test_size.cpython-38.pyc\n",
      "  Moving to c:\\users\\darshan patel\\anaconda3\\envs\\myenv\\lib\\site-packages\\numpy\\f2py\\tests\\__pycache__\\test_string.cpython-38.pyc\n",
      "   from C:\\Users\\Darshan Patel\\AppData\\Local\\Temp\\pip-uninstall-8tvpn6e3\\f2py\\tests\\__pycache__\\test_string.cpython-38.pyc\n",
      "  Moving to c:\\users\\darshan patel\\anaconda3\\envs\\myenv\\lib\\site-packages\\numpy\\f2py\\tests\\__pycache__\\util.cpython-38.pyc\n",
      "   from C:\\Users\\Darshan Patel\\AppData\\Local\\Temp\\pip-uninstall-8tvpn6e3\\f2py\\tests\\__pycache__\\util.cpython-38.pyc\n",
      "  Moving to c:\\users\\darshan patel\\anaconda3\\envs\\myenv\\lib\\site-packages\\numpy\\f2py\\tests\\src\\array_from_pyobj\\\n",
      "   from C:\\Users\\Darshan Patel\\anaconda3\\envs\\myenv\\Lib\\site-packages\\numpy\\f2py\\tests\\src\\~rray_from_pyobj\n",
      "  Moving to c:\\users\\darshan patel\\anaconda3\\envs\\myenv\\lib\\site-packages\\numpy\\f2py\\tests\\src\\assumed_shape\\\n",
      "   from C:\\Users\\Darshan Patel\\anaconda3\\envs\\myenv\\Lib\\site-packages\\numpy\\f2py\\tests\\src\\~ssumed_shape\n",
      "  Moving to c:\\users\\darshan patel\\anaconda3\\envs\\myenv\\lib\\site-packages\\numpy\\f2py\\tests\\src\\common\\\n",
      "   from C:\\Users\\Darshan Patel\\anaconda3\\envs\\myenv\\Lib\\site-packages\\numpy\\f2py\\tests\\src\\~ommon\n",
      "  Moving to c:\\users\\darshan patel\\anaconda3\\envs\\myenv\\lib\\site-packages\\numpy\\f2py\\tests\\src\\kind\\\n",
      "   from C:\\Users\\Darshan Patel\\anaconda3\\envs\\myenv\\Lib\\site-packages\\numpy\\f2py\\tests\\src\\~ind\n",
      "  Moving to c:\\users\\darshan patel\\anaconda3\\envs\\myenv\\lib\\site-packages\\numpy\\f2py\\tests\\src\\mixed\\\n",
      "   from C:\\Users\\Darshan Patel\\anaconda3\\envs\\myenv\\Lib\\site-packages\\numpy\\f2py\\tests\\src\\~ixed\n",
      "  Moving to c:\\users\\darshan patel\\anaconda3\\envs\\myenv\\lib\\site-packages\\numpy\\f2py\\tests\\src\\parameter\\\n",
      "   from C:\\Users\\Darshan Patel\\anaconda3\\envs\\myenv\\Lib\\site-packages\\numpy\\f2py\\tests\\src\\~arameter\n",
      "  Moving to c:\\users\\darshan patel\\anaconda3\\envs\\myenv\\lib\\site-packages\\numpy\\f2py\\tests\\src\\regression\\\n",
      "   from C:\\Users\\Darshan Patel\\anaconda3\\envs\\myenv\\Lib\\site-packages\\numpy\\f2py\\tests\\src\\~egression\n",
      "  Moving to c:\\users\\darshan patel\\anaconda3\\envs\\myenv\\lib\\site-packages\\numpy\\f2py\\tests\\src\\size\\\n",
      "   from C:\\Users\\Darshan Patel\\anaconda3\\envs\\myenv\\Lib\\site-packages\\numpy\\f2py\\tests\\src\\~ize\n",
      "  Moving to c:\\users\\darshan patel\\anaconda3\\envs\\myenv\\lib\\site-packages\\numpy\\f2py\\tests\\src\\string\\char.f90\n",
      "   from C:\\Users\\Darshan Patel\\AppData\\Local\\Temp\\pip-uninstall-8tvpn6e3\\f2py\\tests\\src\\string\\char.f90\n",
      "  Moving to c:\\users\\darshan patel\\anaconda3\\envs\\myenv\\lib\\site-packages\\numpy\\f2py\\tests\\test_array_from_pyobj.py\n",
      "   from C:\\Users\\Darshan Patel\\AppData\\Local\\Temp\\pip-uninstall-8tvpn6e3\\f2py\\tests\\test_array_from_pyobj.py\n",
      "  Moving to c:\\users\\darshan patel\\anaconda3\\envs\\myenv\\lib\\site-packages\\numpy\\f2py\\tests\\test_assumed_shape.py\n",
      "   from C:\\Users\\Darshan Patel\\AppData\\Local\\Temp\\pip-uninstall-8tvpn6e3\\f2py\\tests\\test_assumed_shape.py\n",
      "  Moving to c:\\users\\darshan patel\\anaconda3\\envs\\myenv\\lib\\site-packages\\numpy\\f2py\\tests\\test_block_docstring.py\n",
      "   from C:\\Users\\Darshan Patel\\AppData\\Local\\Temp\\pip-uninstall-8tvpn6e3\\f2py\\tests\\test_block_docstring.py\n",
      "  Moving to c:\\users\\darshan patel\\anaconda3\\envs\\myenv\\lib\\site-packages\\numpy\\f2py\\tests\\test_callback.py\n",
      "   from C:\\Users\\Darshan Patel\\AppData\\Local\\Temp\\pip-uninstall-8tvpn6e3\\f2py\\tests\\test_callback.py\n",
      "  Moving to c:\\users\\darshan patel\\anaconda3\\envs\\myenv\\lib\\site-packages\\numpy\\f2py\\tests\\test_common.py\n",
      "   from C:\\Users\\Darshan Patel\\AppData\\Local\\Temp\\pip-uninstall-8tvpn6e3\\f2py\\tests\\test_common.py\n",
      "  Moving to c:\\users\\darshan patel\\anaconda3\\envs\\myenv\\lib\\site-packages\\numpy\\f2py\\tests\\test_compile_function.py\n",
      "   from C:\\Users\\Darshan Patel\\AppData\\Local\\Temp\\pip-uninstall-8tvpn6e3\\f2py\\tests\\test_compile_function.py\n",
      "  Moving to c:\\users\\darshan patel\\anaconda3\\envs\\myenv\\lib\\site-packages\\numpy\\f2py\\tests\\test_crackfortran.py\n",
      "   from C:\\Users\\Darshan Patel\\AppData\\Local\\Temp\\pip-uninstall-8tvpn6e3\\f2py\\tests\\test_crackfortran.py\n",
      "  Moving to c:\\users\\darshan patel\\anaconda3\\envs\\myenv\\lib\\site-packages\\numpy\\f2py\\tests\\test_kind.py\n",
      "   from C:\\Users\\Darshan Patel\\AppData\\Local\\Temp\\pip-uninstall-8tvpn6e3\\f2py\\tests\\test_kind.py\n",
      "  Moving to c:\\users\\darshan patel\\anaconda3\\envs\\myenv\\lib\\site-packages\\numpy\\f2py\\tests\\test_mixed.py\n",
      "   from C:\\Users\\Darshan Patel\\AppData\\Local\\Temp\\pip-uninstall-8tvpn6e3\\f2py\\tests\\test_mixed.py\n",
      "  Moving to c:\\users\\darshan patel\\anaconda3\\envs\\myenv\\lib\\site-packages\\numpy\\f2py\\tests\\test_parameter.py\n",
      "   from C:\\Users\\Darshan Patel\\AppData\\Local\\Temp\\pip-uninstall-8tvpn6e3\\f2py\\tests\\test_parameter.py\n",
      "  Moving to c:\\users\\darshan patel\\anaconda3\\envs\\myenv\\lib\\site-packages\\numpy\\f2py\\tests\\test_quoted_character.py\n",
      "   from C:\\Users\\Darshan Patel\\AppData\\Local\\Temp\\pip-uninstall-8tvpn6e3\\f2py\\tests\\test_quoted_character.py\n",
      "  Moving to c:\\users\\darshan patel\\anaconda3\\envs\\myenv\\lib\\site-packages\\numpy\\f2py\\tests\\test_regression.py\n",
      "   from C:\\Users\\Darshan Patel\\AppData\\Local\\Temp\\pip-uninstall-8tvpn6e3\\f2py\\tests\\test_regression.py\n",
      "  Moving to c:\\users\\darshan patel\\anaconda3\\envs\\myenv\\lib\\site-packages\\numpy\\f2py\\tests\\test_return_character.py\n",
      "   from C:\\Users\\Darshan Patel\\AppData\\Local\\Temp\\pip-uninstall-8tvpn6e3\\f2py\\tests\\test_return_character.py\n",
      "  Moving to c:\\users\\darshan patel\\anaconda3\\envs\\myenv\\lib\\site-packages\\numpy\\f2py\\tests\\test_return_complex.py\n",
      "   from C:\\Users\\Darshan Patel\\AppData\\Local\\Temp\\pip-uninstall-8tvpn6e3\\f2py\\tests\\test_return_complex.py\n",
      "  Moving to c:\\users\\darshan patel\\anaconda3\\envs\\myenv\\lib\\site-packages\\numpy\\f2py\\tests\\test_return_integer.py\n",
      "   from C:\\Users\\Darshan Patel\\AppData\\Local\\Temp\\pip-uninstall-8tvpn6e3\\f2py\\tests\\test_return_integer.py\n",
      "  Moving to c:\\users\\darshan patel\\anaconda3\\envs\\myenv\\lib\\site-packages\\numpy\\f2py\\tests\\test_return_logical.py\n",
      "   from C:\\Users\\Darshan Patel\\AppData\\Local\\Temp\\pip-uninstall-8tvpn6e3\\f2py\\tests\\test_return_logical.py\n",
      "  Moving to c:\\users\\darshan patel\\anaconda3\\envs\\myenv\\lib\\site-packages\\numpy\\f2py\\tests\\test_return_real.py\n",
      "   from C:\\Users\\Darshan Patel\\AppData\\Local\\Temp\\pip-uninstall-8tvpn6e3\\f2py\\tests\\test_return_real.py\n",
      "  Moving to c:\\users\\darshan patel\\anaconda3\\envs\\myenv\\lib\\site-packages\\numpy\\f2py\\tests\\test_semicolon_split.py\n",
      "   from C:\\Users\\Darshan Patel\\AppData\\Local\\Temp\\pip-uninstall-8tvpn6e3\\f2py\\tests\\test_semicolon_split.py\n",
      "  Moving to c:\\users\\darshan patel\\anaconda3\\envs\\myenv\\lib\\site-packages\\numpy\\f2py\\tests\\test_size.py\n",
      "   from C:\\Users\\Darshan Patel\\AppData\\Local\\Temp\\pip-uninstall-8tvpn6e3\\f2py\\tests\\test_size.py\n",
      "  Moving to c:\\users\\darshan patel\\anaconda3\\envs\\myenv\\lib\\site-packages\\numpy\\f2py\\tests\\test_string.py\n",
      "   from C:\\Users\\Darshan Patel\\AppData\\Local\\Temp\\pip-uninstall-8tvpn6e3\\f2py\\tests\\test_string.py\n",
      "  Moving to c:\\users\\darshan patel\\anaconda3\\envs\\myenv\\lib\\site-packages\\numpy\\f2py\\tests\\util.py\n",
      "   from C:\\Users\\Darshan Patel\\AppData\\Local\\Temp\\pip-uninstall-8tvpn6e3\\f2py\\tests\\util.py\n",
      "  Moving to c:\\users\\darshan patel\\anaconda3\\envs\\myenv\\lib\\site-packages\\numpy\\f2py\\use_rules.py\n",
      "   from C:\\Users\\Darshan Patel\\AppData\\Local\\Temp\\pip-uninstall-8tvpn6e3\\f2py\\use_rules.py\n",
      "  Moving to c:\\users\\darshan patel\\anaconda3\\envs\\myenv\\lib\\site-packages\\numpy\\fft\\\n",
      "   from C:\\Users\\Darshan Patel\\anaconda3\\envs\\myenv\\Lib\\site-packages\\numpy\\~ft\n",
      "  Moving to c:\\users\\darshan patel\\anaconda3\\envs\\myenv\\lib\\site-packages\\numpy\\lib\\__init__.py\n",
      "   from C:\\Users\\Darshan Patel\\AppData\\Local\\Temp\\pip-uninstall-8tvpn6e3\\lib\\__init__.py\n",
      "  Moving to c:\\users\\darshan patel\\anaconda3\\envs\\myenv\\lib\\site-packages\\numpy\\lib\\__pycache__\\\n",
      "   from C:\\Users\\Darshan Patel\\anaconda3\\envs\\myenv\\Lib\\site-packages\\numpy\\lib\\~_pycache__\n",
      "  Moving to c:\\users\\darshan patel\\anaconda3\\envs\\myenv\\lib\\site-packages\\numpy\\lib\\_datasource.py\n",
      "   from C:\\Users\\Darshan Patel\\AppData\\Local\\Temp\\pip-uninstall-8tvpn6e3\\lib\\_datasource.py\n",
      "  Moving to c:\\users\\darshan patel\\anaconda3\\envs\\myenv\\lib\\site-packages\\numpy\\lib\\_iotools.py\n",
      "   from C:\\Users\\Darshan Patel\\AppData\\Local\\Temp\\pip-uninstall-8tvpn6e3\\lib\\_iotools.py\n",
      "  Moving to c:\\users\\darshan patel\\anaconda3\\envs\\myenv\\lib\\site-packages\\numpy\\lib\\_version.py\n",
      "   from C:\\Users\\Darshan Patel\\AppData\\Local\\Temp\\pip-uninstall-8tvpn6e3\\lib\\_version.py\n",
      "  Moving to c:\\users\\darshan patel\\anaconda3\\envs\\myenv\\lib\\site-packages\\numpy\\lib\\arraypad.py\n",
      "   from C:\\Users\\Darshan Patel\\AppData\\Local\\Temp\\pip-uninstall-8tvpn6e3\\lib\\arraypad.py\n",
      "  Moving to c:\\users\\darshan patel\\anaconda3\\envs\\myenv\\lib\\site-packages\\numpy\\lib\\arraysetops.py\n",
      "   from C:\\Users\\Darshan Patel\\AppData\\Local\\Temp\\pip-uninstall-8tvpn6e3\\lib\\arraysetops.py\n",
      "  Moving to c:\\users\\darshan patel\\anaconda3\\envs\\myenv\\lib\\site-packages\\numpy\\lib\\arrayterator.py\n",
      "   from C:\\Users\\Darshan Patel\\AppData\\Local\\Temp\\pip-uninstall-8tvpn6e3\\lib\\arrayterator.py\n",
      "  Moving to c:\\users\\darshan patel\\anaconda3\\envs\\myenv\\lib\\site-packages\\numpy\\lib\\financial.py\n",
      "   from C:\\Users\\Darshan Patel\\AppData\\Local\\Temp\\pip-uninstall-8tvpn6e3\\lib\\financial.py\n",
      "  Moving to c:\\users\\darshan patel\\anaconda3\\envs\\myenv\\lib\\site-packages\\numpy\\lib\\format.py\n",
      "   from C:\\Users\\Darshan Patel\\AppData\\Local\\Temp\\pip-uninstall-8tvpn6e3\\lib\\format.py\n",
      "  Moving to c:\\users\\darshan patel\\anaconda3\\envs\\myenv\\lib\\site-packages\\numpy\\lib\\function_base.py\n",
      "   from C:\\Users\\Darshan Patel\\AppData\\Local\\Temp\\pip-uninstall-8tvpn6e3\\lib\\function_base.py\n",
      "  Moving to c:\\users\\darshan patel\\anaconda3\\envs\\myenv\\lib\\site-packages\\numpy\\lib\\histograms.py\n",
      "   from C:\\Users\\Darshan Patel\\AppData\\Local\\Temp\\pip-uninstall-8tvpn6e3\\lib\\histograms.py\n",
      "  Moving to c:\\users\\darshan patel\\anaconda3\\envs\\myenv\\lib\\site-packages\\numpy\\lib\\index_tricks.py\n",
      "   from C:\\Users\\Darshan Patel\\AppData\\Local\\Temp\\pip-uninstall-8tvpn6e3\\lib\\index_tricks.py\n",
      "  Moving to c:\\users\\darshan patel\\anaconda3\\envs\\myenv\\lib\\site-packages\\numpy\\lib\\mixins.py\n",
      "   from C:\\Users\\Darshan Patel\\AppData\\Local\\Temp\\pip-uninstall-8tvpn6e3\\lib\\mixins.py\n",
      "  Moving to c:\\users\\darshan patel\\anaconda3\\envs\\myenv\\lib\\site-packages\\numpy\\lib\\nanfunctions.py\n",
      "   from C:\\Users\\Darshan Patel\\AppData\\Local\\Temp\\pip-uninstall-8tvpn6e3\\lib\\nanfunctions.py\n",
      "  Moving to c:\\users\\darshan patel\\anaconda3\\envs\\myenv\\lib\\site-packages\\numpy\\lib\\npyio.py\n",
      "   from C:\\Users\\Darshan Patel\\AppData\\Local\\Temp\\pip-uninstall-8tvpn6e3\\lib\\npyio.py\n",
      "  Moving to c:\\users\\darshan patel\\anaconda3\\envs\\myenv\\lib\\site-packages\\numpy\\lib\\polynomial.py\n",
      "   from C:\\Users\\Darshan Patel\\AppData\\Local\\Temp\\pip-uninstall-8tvpn6e3\\lib\\polynomial.py\n",
      "  Moving to c:\\users\\darshan patel\\anaconda3\\envs\\myenv\\lib\\site-packages\\numpy\\lib\\recfunctions.py\n",
      "   from C:\\Users\\Darshan Patel\\AppData\\Local\\Temp\\pip-uninstall-8tvpn6e3\\lib\\recfunctions.py\n",
      "  Moving to c:\\users\\darshan patel\\anaconda3\\envs\\myenv\\lib\\site-packages\\numpy\\lib\\scimath.py\n",
      "   from C:\\Users\\Darshan Patel\\AppData\\Local\\Temp\\pip-uninstall-8tvpn6e3\\lib\\scimath.py\n",
      "  Moving to c:\\users\\darshan patel\\anaconda3\\envs\\myenv\\lib\\site-packages\\numpy\\lib\\setup.py\n",
      "   from C:\\Users\\Darshan Patel\\AppData\\Local\\Temp\\pip-uninstall-8tvpn6e3\\lib\\setup.py\n",
      "  Moving to c:\\users\\darshan patel\\anaconda3\\envs\\myenv\\lib\\site-packages\\numpy\\lib\\shape_base.py\n",
      "   from C:\\Users\\Darshan Patel\\AppData\\Local\\Temp\\pip-uninstall-8tvpn6e3\\lib\\shape_base.py\n",
      "  Moving to c:\\users\\darshan patel\\anaconda3\\envs\\myenv\\lib\\site-packages\\numpy\\lib\\stride_tricks.py\n",
      "   from C:\\Users\\Darshan Patel\\AppData\\Local\\Temp\\pip-uninstall-8tvpn6e3\\lib\\stride_tricks.py\n",
      "  Moving to c:\\users\\darshan patel\\anaconda3\\envs\\myenv\\lib\\site-packages\\numpy\\lib\\tests\\__init__.py\n",
      "   from C:\\Users\\Darshan Patel\\AppData\\Local\\Temp\\pip-uninstall-8tvpn6e3\\lib\\tests\\__init__.py\n",
      "  Moving to c:\\users\\darshan patel\\anaconda3\\envs\\myenv\\lib\\site-packages\\numpy\\lib\\tests\\__pycache__\\__init__.cpython-38.pyc\n",
      "   from C:\\Users\\Darshan Patel\\AppData\\Local\\Temp\\pip-uninstall-8tvpn6e3\\lib\\tests\\__pycache__\\__init__.cpython-38.pyc\n",
      "  Moving to c:\\users\\darshan patel\\anaconda3\\envs\\myenv\\lib\\site-packages\\numpy\\lib\\tests\\__pycache__\\test__datasource.cpython-38.pyc\n",
      "   from C:\\Users\\Darshan Patel\\AppData\\Local\\Temp\\pip-uninstall-8tvpn6e3\\lib\\tests\\__pycache__\\test__datasource.cpython-38.pyc\n",
      "  Moving to c:\\users\\darshan patel\\anaconda3\\envs\\myenv\\lib\\site-packages\\numpy\\lib\\tests\\__pycache__\\test__iotools.cpython-38.pyc\n",
      "   from C:\\Users\\Darshan Patel\\AppData\\Local\\Temp\\pip-uninstall-8tvpn6e3\\lib\\tests\\__pycache__\\test__iotools.cpython-38.pyc\n",
      "  Moving to c:\\users\\darshan patel\\anaconda3\\envs\\myenv\\lib\\site-packages\\numpy\\lib\\tests\\__pycache__\\test__version.cpython-38.pyc\n",
      "   from C:\\Users\\Darshan Patel\\AppData\\Local\\Temp\\pip-uninstall-8tvpn6e3\\lib\\tests\\__pycache__\\test__version.cpython-38.pyc\n",
      "  Moving to c:\\users\\darshan patel\\anaconda3\\envs\\myenv\\lib\\site-packages\\numpy\\lib\\tests\\__pycache__\\test_arraypad.cpython-38.pyc\n",
      "   from C:\\Users\\Darshan Patel\\AppData\\Local\\Temp\\pip-uninstall-8tvpn6e3\\lib\\tests\\__pycache__\\test_arraypad.cpython-38.pyc\n",
      "  Moving to c:\\users\\darshan patel\\anaconda3\\envs\\myenv\\lib\\site-packages\\numpy\\lib\\tests\\__pycache__\\test_arraysetops.cpython-38.pyc\n",
      "   from C:\\Users\\Darshan Patel\\AppData\\Local\\Temp\\pip-uninstall-8tvpn6e3\\lib\\tests\\__pycache__\\test_arraysetops.cpython-38.pyc\n",
      "  Moving to c:\\users\\darshan patel\\anaconda3\\envs\\myenv\\lib\\site-packages\\numpy\\lib\\tests\\__pycache__\\test_arrayterator.cpython-38.pyc\n",
      "   from C:\\Users\\Darshan Patel\\AppData\\Local\\Temp\\pip-uninstall-8tvpn6e3\\lib\\tests\\__pycache__\\test_arrayterator.cpython-38.pyc\n",
      "  Moving to c:\\users\\darshan patel\\anaconda3\\envs\\myenv\\lib\\site-packages\\numpy\\lib\\tests\\__pycache__\\test_financial.cpython-38.pyc\n",
      "   from C:\\Users\\Darshan Patel\\AppData\\Local\\Temp\\pip-uninstall-8tvpn6e3\\lib\\tests\\__pycache__\\test_financial.cpython-38.pyc\n",
      "  Moving to c:\\users\\darshan patel\\anaconda3\\envs\\myenv\\lib\\site-packages\\numpy\\lib\\tests\\__pycache__\\test_format.cpython-38.pyc\n",
      "   from C:\\Users\\Darshan Patel\\AppData\\Local\\Temp\\pip-uninstall-8tvpn6e3\\lib\\tests\\__pycache__\\test_format.cpython-38.pyc\n",
      "  Moving to c:\\users\\darshan patel\\anaconda3\\envs\\myenv\\lib\\site-packages\\numpy\\lib\\tests\\__pycache__\\test_function_base.cpython-38.pyc\n",
      "   from C:\\Users\\Darshan Patel\\AppData\\Local\\Temp\\pip-uninstall-8tvpn6e3\\lib\\tests\\__pycache__\\test_function_base.cpython-38.pyc\n",
      "  Moving to c:\\users\\darshan patel\\anaconda3\\envs\\myenv\\lib\\site-packages\\numpy\\lib\\tests\\__pycache__\\test_histograms.cpython-38.pyc\n",
      "   from C:\\Users\\Darshan Patel\\AppData\\Local\\Temp\\pip-uninstall-8tvpn6e3\\lib\\tests\\__pycache__\\test_histograms.cpython-38.pyc\n",
      "  Moving to c:\\users\\darshan patel\\anaconda3\\envs\\myenv\\lib\\site-packages\\numpy\\lib\\tests\\__pycache__\\test_index_tricks.cpython-38.pyc\n",
      "   from C:\\Users\\Darshan Patel\\AppData\\Local\\Temp\\pip-uninstall-8tvpn6e3\\lib\\tests\\__pycache__\\test_index_tricks.cpython-38.pyc\n",
      "  Moving to c:\\users\\darshan patel\\anaconda3\\envs\\myenv\\lib\\site-packages\\numpy\\lib\\tests\\__pycache__\\test_io.cpython-38.pyc\n",
      "   from C:\\Users\\Darshan Patel\\AppData\\Local\\Temp\\pip-uninstall-8tvpn6e3\\lib\\tests\\__pycache__\\test_io.cpython-38.pyc\n",
      "  Moving to c:\\users\\darshan patel\\anaconda3\\envs\\myenv\\lib\\site-packages\\numpy\\lib\\tests\\__pycache__\\test_mixins.cpython-38.pyc\n",
      "   from C:\\Users\\Darshan Patel\\AppData\\Local\\Temp\\pip-uninstall-8tvpn6e3\\lib\\tests\\__pycache__\\test_mixins.cpython-38.pyc\n",
      "  Moving to c:\\users\\darshan patel\\anaconda3\\envs\\myenv\\lib\\site-packages\\numpy\\lib\\tests\\__pycache__\\test_nanfunctions.cpython-38.pyc\n",
      "   from C:\\Users\\Darshan Patel\\AppData\\Local\\Temp\\pip-uninstall-8tvpn6e3\\lib\\tests\\__pycache__\\test_nanfunctions.cpython-38.pyc\n",
      "  Moving to c:\\users\\darshan patel\\anaconda3\\envs\\myenv\\lib\\site-packages\\numpy\\lib\\tests\\__pycache__\\test_packbits.cpython-38.pyc\n",
      "   from C:\\Users\\Darshan Patel\\AppData\\Local\\Temp\\pip-uninstall-8tvpn6e3\\lib\\tests\\__pycache__\\test_packbits.cpython-38.pyc\n",
      "  Moving to c:\\users\\darshan patel\\anaconda3\\envs\\myenv\\lib\\site-packages\\numpy\\lib\\tests\\__pycache__\\test_polynomial.cpython-38.pyc\n",
      "   from C:\\Users\\Darshan Patel\\AppData\\Local\\Temp\\pip-uninstall-8tvpn6e3\\lib\\tests\\__pycache__\\test_polynomial.cpython-38.pyc\n",
      "  Moving to c:\\users\\darshan patel\\anaconda3\\envs\\myenv\\lib\\site-packages\\numpy\\lib\\tests\\__pycache__\\test_recfunctions.cpython-38.pyc\n",
      "   from C:\\Users\\Darshan Patel\\AppData\\Local\\Temp\\pip-uninstall-8tvpn6e3\\lib\\tests\\__pycache__\\test_recfunctions.cpython-38.pyc\n",
      "  Moving to c:\\users\\darshan patel\\anaconda3\\envs\\myenv\\lib\\site-packages\\numpy\\lib\\tests\\__pycache__\\test_regression.cpython-38.pyc\n",
      "   from C:\\Users\\Darshan Patel\\AppData\\Local\\Temp\\pip-uninstall-8tvpn6e3\\lib\\tests\\__pycache__\\test_regression.cpython-38.pyc\n",
      "  Moving to c:\\users\\darshan patel\\anaconda3\\envs\\myenv\\lib\\site-packages\\numpy\\lib\\tests\\__pycache__\\test_shape_base.cpython-38.pyc\n",
      "   from C:\\Users\\Darshan Patel\\AppData\\Local\\Temp\\pip-uninstall-8tvpn6e3\\lib\\tests\\__pycache__\\test_shape_base.cpython-38.pyc\n",
      "  Moving to c:\\users\\darshan patel\\anaconda3\\envs\\myenv\\lib\\site-packages\\numpy\\lib\\tests\\__pycache__\\test_stride_tricks.cpython-38.pyc\n",
      "   from C:\\Users\\Darshan Patel\\AppData\\Local\\Temp\\pip-uninstall-8tvpn6e3\\lib\\tests\\__pycache__\\test_stride_tricks.cpython-38.pyc\n",
      "  Moving to c:\\users\\darshan patel\\anaconda3\\envs\\myenv\\lib\\site-packages\\numpy\\lib\\tests\\__pycache__\\test_twodim_base.cpython-38.pyc\n",
      "   from C:\\Users\\Darshan Patel\\AppData\\Local\\Temp\\pip-uninstall-8tvpn6e3\\lib\\tests\\__pycache__\\test_twodim_base.cpython-38.pyc\n",
      "  Moving to c:\\users\\darshan patel\\anaconda3\\envs\\myenv\\lib\\site-packages\\numpy\\lib\\tests\\__pycache__\\test_type_check.cpython-38.pyc\n",
      "   from C:\\Users\\Darshan Patel\\AppData\\Local\\Temp\\pip-uninstall-8tvpn6e3\\lib\\tests\\__pycache__\\test_type_check.cpython-38.pyc\n",
      "  Moving to c:\\users\\darshan patel\\anaconda3\\envs\\myenv\\lib\\site-packages\\numpy\\lib\\tests\\__pycache__\\test_ufunclike.cpython-38.pyc\n",
      "   from C:\\Users\\Darshan Patel\\AppData\\Local\\Temp\\pip-uninstall-8tvpn6e3\\lib\\tests\\__pycache__\\test_ufunclike.cpython-38.pyc\n",
      "  Moving to c:\\users\\darshan patel\\anaconda3\\envs\\myenv\\lib\\site-packages\\numpy\\lib\\tests\\__pycache__\\test_utils.cpython-38.pyc\n",
      "   from C:\\Users\\Darshan Patel\\AppData\\Local\\Temp\\pip-uninstall-8tvpn6e3\\lib\\tests\\__pycache__\\test_utils.cpython-38.pyc\n",
      "  Moving to c:\\users\\darshan patel\\anaconda3\\envs\\myenv\\lib\\site-packages\\numpy\\lib\\tests\\data\\\n",
      "   from C:\\Users\\Darshan Patel\\anaconda3\\envs\\myenv\\Lib\\site-packages\\numpy\\lib\\tests\\~ata\n",
      "  Moving to c:\\users\\darshan patel\\anaconda3\\envs\\myenv\\lib\\site-packages\\numpy\\lib\\tests\\test__datasource.py\n",
      "   from C:\\Users\\Darshan Patel\\AppData\\Local\\Temp\\pip-uninstall-8tvpn6e3\\lib\\tests\\test__datasource.py\n",
      "  Moving to c:\\users\\darshan patel\\anaconda3\\envs\\myenv\\lib\\site-packages\\numpy\\lib\\tests\\test__iotools.py\n",
      "   from C:\\Users\\Darshan Patel\\AppData\\Local\\Temp\\pip-uninstall-8tvpn6e3\\lib\\tests\\test__iotools.py\n",
      "  Moving to c:\\users\\darshan patel\\anaconda3\\envs\\myenv\\lib\\site-packages\\numpy\\lib\\tests\\test__version.py\n",
      "   from C:\\Users\\Darshan Patel\\AppData\\Local\\Temp\\pip-uninstall-8tvpn6e3\\lib\\tests\\test__version.py\n",
      "  Moving to c:\\users\\darshan patel\\anaconda3\\envs\\myenv\\lib\\site-packages\\numpy\\lib\\tests\\test_arraypad.py\n",
      "   from C:\\Users\\Darshan Patel\\AppData\\Local\\Temp\\pip-uninstall-8tvpn6e3\\lib\\tests\\test_arraypad.py\n",
      "  Moving to c:\\users\\darshan patel\\anaconda3\\envs\\myenv\\lib\\site-packages\\numpy\\lib\\tests\\test_arraysetops.py\n",
      "   from C:\\Users\\Darshan Patel\\AppData\\Local\\Temp\\pip-uninstall-8tvpn6e3\\lib\\tests\\test_arraysetops.py\n",
      "  Moving to c:\\users\\darshan patel\\anaconda3\\envs\\myenv\\lib\\site-packages\\numpy\\lib\\tests\\test_arrayterator.py\n",
      "   from C:\\Users\\Darshan Patel\\AppData\\Local\\Temp\\pip-uninstall-8tvpn6e3\\lib\\tests\\test_arrayterator.py\n",
      "  Moving to c:\\users\\darshan patel\\anaconda3\\envs\\myenv\\lib\\site-packages\\numpy\\lib\\tests\\test_financial.py\n",
      "   from C:\\Users\\Darshan Patel\\AppData\\Local\\Temp\\pip-uninstall-8tvpn6e3\\lib\\tests\\test_financial.py\n",
      "  Moving to c:\\users\\darshan patel\\anaconda3\\envs\\myenv\\lib\\site-packages\\numpy\\lib\\tests\\test_format.py\n",
      "   from C:\\Users\\Darshan Patel\\AppData\\Local\\Temp\\pip-uninstall-8tvpn6e3\\lib\\tests\\test_format.py\n",
      "  Moving to c:\\users\\darshan patel\\anaconda3\\envs\\myenv\\lib\\site-packages\\numpy\\lib\\tests\\test_function_base.py\n",
      "   from C:\\Users\\Darshan Patel\\AppData\\Local\\Temp\\pip-uninstall-8tvpn6e3\\lib\\tests\\test_function_base.py\n",
      "  Moving to c:\\users\\darshan patel\\anaconda3\\envs\\myenv\\lib\\site-packages\\numpy\\lib\\tests\\test_histograms.py\n",
      "   from C:\\Users\\Darshan Patel\\AppData\\Local\\Temp\\pip-uninstall-8tvpn6e3\\lib\\tests\\test_histograms.py\n",
      "  Moving to c:\\users\\darshan patel\\anaconda3\\envs\\myenv\\lib\\site-packages\\numpy\\lib\\tests\\test_index_tricks.py\n",
      "   from C:\\Users\\Darshan Patel\\AppData\\Local\\Temp\\pip-uninstall-8tvpn6e3\\lib\\tests\\test_index_tricks.py\n",
      "  Moving to c:\\users\\darshan patel\\anaconda3\\envs\\myenv\\lib\\site-packages\\numpy\\lib\\tests\\test_io.py\n",
      "   from C:\\Users\\Darshan Patel\\AppData\\Local\\Temp\\pip-uninstall-8tvpn6e3\\lib\\tests\\test_io.py\n",
      "  Moving to c:\\users\\darshan patel\\anaconda3\\envs\\myenv\\lib\\site-packages\\numpy\\lib\\tests\\test_mixins.py\n",
      "   from C:\\Users\\Darshan Patel\\AppData\\Local\\Temp\\pip-uninstall-8tvpn6e3\\lib\\tests\\test_mixins.py\n",
      "  Moving to c:\\users\\darshan patel\\anaconda3\\envs\\myenv\\lib\\site-packages\\numpy\\lib\\tests\\test_nanfunctions.py\n",
      "   from C:\\Users\\Darshan Patel\\AppData\\Local\\Temp\\pip-uninstall-8tvpn6e3\\lib\\tests\\test_nanfunctions.py\n",
      "  Moving to c:\\users\\darshan patel\\anaconda3\\envs\\myenv\\lib\\site-packages\\numpy\\lib\\tests\\test_packbits.py\n",
      "   from C:\\Users\\Darshan Patel\\AppData\\Local\\Temp\\pip-uninstall-8tvpn6e3\\lib\\tests\\test_packbits.py\n",
      "  Moving to c:\\users\\darshan patel\\anaconda3\\envs\\myenv\\lib\\site-packages\\numpy\\lib\\tests\\test_polynomial.py\n",
      "   from C:\\Users\\Darshan Patel\\AppData\\Local\\Temp\\pip-uninstall-8tvpn6e3\\lib\\tests\\test_polynomial.py\n",
      "  Moving to c:\\users\\darshan patel\\anaconda3\\envs\\myenv\\lib\\site-packages\\numpy\\lib\\tests\\test_recfunctions.py\n",
      "   from C:\\Users\\Darshan Patel\\AppData\\Local\\Temp\\pip-uninstall-8tvpn6e3\\lib\\tests\\test_recfunctions.py\n",
      "  Moving to c:\\users\\darshan patel\\anaconda3\\envs\\myenv\\lib\\site-packages\\numpy\\lib\\tests\\test_regression.py\n",
      "   from C:\\Users\\Darshan Patel\\AppData\\Local\\Temp\\pip-uninstall-8tvpn6e3\\lib\\tests\\test_regression.py\n",
      "  Moving to c:\\users\\darshan patel\\anaconda3\\envs\\myenv\\lib\\site-packages\\numpy\\lib\\tests\\test_shape_base.py\n",
      "   from C:\\Users\\Darshan Patel\\AppData\\Local\\Temp\\pip-uninstall-8tvpn6e3\\lib\\tests\\test_shape_base.py\n",
      "  Moving to c:\\users\\darshan patel\\anaconda3\\envs\\myenv\\lib\\site-packages\\numpy\\lib\\tests\\test_stride_tricks.py\n",
      "   from C:\\Users\\Darshan Patel\\AppData\\Local\\Temp\\pip-uninstall-8tvpn6e3\\lib\\tests\\test_stride_tricks.py\n",
      "  Moving to c:\\users\\darshan patel\\anaconda3\\envs\\myenv\\lib\\site-packages\\numpy\\lib\\tests\\test_twodim_base.py\n",
      "   from C:\\Users\\Darshan Patel\\AppData\\Local\\Temp\\pip-uninstall-8tvpn6e3\\lib\\tests\\test_twodim_base.py\n",
      "  Moving to c:\\users\\darshan patel\\anaconda3\\envs\\myenv\\lib\\site-packages\\numpy\\lib\\tests\\test_type_check.py\n",
      "   from C:\\Users\\Darshan Patel\\AppData\\Local\\Temp\\pip-uninstall-8tvpn6e3\\lib\\tests\\test_type_check.py\n",
      "  Moving to c:\\users\\darshan patel\\anaconda3\\envs\\myenv\\lib\\site-packages\\numpy\\lib\\tests\\test_ufunclike.py\n",
      "   from C:\\Users\\Darshan Patel\\AppData\\Local\\Temp\\pip-uninstall-8tvpn6e3\\lib\\tests\\test_ufunclike.py\n",
      "  Moving to c:\\users\\darshan patel\\anaconda3\\envs\\myenv\\lib\\site-packages\\numpy\\lib\\tests\\test_utils.py\n",
      "   from C:\\Users\\Darshan Patel\\AppData\\Local\\Temp\\pip-uninstall-8tvpn6e3\\lib\\tests\\test_utils.py\n",
      "  Moving to c:\\users\\darshan patel\\anaconda3\\envs\\myenv\\lib\\site-packages\\numpy\\lib\\twodim_base.py\n",
      "   from C:\\Users\\Darshan Patel\\AppData\\Local\\Temp\\pip-uninstall-8tvpn6e3\\lib\\twodim_base.py\n",
      "  Moving to c:\\users\\darshan patel\\anaconda3\\envs\\myenv\\lib\\site-packages\\numpy\\lib\\type_check.py\n",
      "   from C:\\Users\\Darshan Patel\\AppData\\Local\\Temp\\pip-uninstall-8tvpn6e3\\lib\\type_check.py\n",
      "  Moving to c:\\users\\darshan patel\\anaconda3\\envs\\myenv\\lib\\site-packages\\numpy\\lib\\ufunclike.py\n",
      "   from C:\\Users\\Darshan Patel\\AppData\\Local\\Temp\\pip-uninstall-8tvpn6e3\\lib\\ufunclike.py\n",
      "  Moving to c:\\users\\darshan patel\\anaconda3\\envs\\myenv\\lib\\site-packages\\numpy\\lib\\user_array.py\n",
      "   from C:\\Users\\Darshan Patel\\AppData\\Local\\Temp\\pip-uninstall-8tvpn6e3\\lib\\user_array.py\n",
      "  Moving to c:\\users\\darshan patel\\anaconda3\\envs\\myenv\\lib\\site-packages\\numpy\\lib\\utils.py\n",
      "   from C:\\Users\\Darshan Patel\\AppData\\Local\\Temp\\pip-uninstall-8tvpn6e3\\lib\\utils.py\n",
      "  Moving to c:\\users\\darshan patel\\anaconda3\\envs\\myenv\\lib\\site-packages\\numpy\\license.txt\n",
      "   from C:\\Users\\Darshan Patel\\AppData\\Local\\Temp\\pip-uninstall-8tvpn6e3\\license.txt\n",
      "  Moving to c:\\users\\darshan patel\\anaconda3\\envs\\myenv\\lib\\site-packages\\numpy\\linalg\\\n",
      "   from C:\\Users\\Darshan Patel\\anaconda3\\envs\\myenv\\Lib\\site-packages\\numpy\\~inalg\n",
      "  Moving to c:\\users\\darshan patel\\anaconda3\\envs\\myenv\\lib\\site-packages\\numpy\\ma\\\n",
      "   from C:\\Users\\Darshan Patel\\anaconda3\\envs\\myenv\\Lib\\site-packages\\numpy\\~a\n",
      "  Moving to c:\\users\\darshan patel\\anaconda3\\envs\\myenv\\lib\\site-packages\\numpy\\matlib.py\n",
      "   from C:\\Users\\Darshan Patel\\AppData\\Local\\Temp\\pip-uninstall-8tvpn6e3\\matlib.py\n",
      "  Moving to c:\\users\\darshan patel\\anaconda3\\envs\\myenv\\lib\\site-packages\\numpy\\matrixlib\\\n",
      "   from C:\\Users\\Darshan Patel\\anaconda3\\envs\\myenv\\Lib\\site-packages\\numpy\\~atrixlib\n",
      "  Moving to c:\\users\\darshan patel\\anaconda3\\envs\\myenv\\lib\\site-packages\\numpy\\polynomial\\__init__.py\n",
      "   from C:\\Users\\Darshan Patel\\AppData\\Local\\Temp\\pip-uninstall-8tvpn6e3\\polynomial\\__init__.py\n",
      "  Moving to c:\\users\\darshan patel\\anaconda3\\envs\\myenv\\lib\\site-packages\\numpy\\polynomial\\__pycache__\\\n",
      "   from C:\\Users\\Darshan Patel\\anaconda3\\envs\\myenv\\Lib\\site-packages\\numpy\\polynomial\\~_pycache__\n",
      "  Moving to c:\\users\\darshan patel\\anaconda3\\envs\\myenv\\lib\\site-packages\\numpy\\polynomial\\_polybase.py\n",
      "   from C:\\Users\\Darshan Patel\\AppData\\Local\\Temp\\pip-uninstall-8tvpn6e3\\polynomial\\_polybase.py\n",
      "  Moving to c:\\users\\darshan patel\\anaconda3\\envs\\myenv\\lib\\site-packages\\numpy\\polynomial\\chebyshev.py\n",
      "   from C:\\Users\\Darshan Patel\\AppData\\Local\\Temp\\pip-uninstall-8tvpn6e3\\polynomial\\chebyshev.py\n",
      "  Moving to c:\\users\\darshan patel\\anaconda3\\envs\\myenv\\lib\\site-packages\\numpy\\polynomial\\hermite.py\n",
      "   from C:\\Users\\Darshan Patel\\AppData\\Local\\Temp\\pip-uninstall-8tvpn6e3\\polynomial\\hermite.py\n",
      "  Moving to c:\\users\\darshan patel\\anaconda3\\envs\\myenv\\lib\\site-packages\\numpy\\polynomial\\hermite_e.py\n",
      "   from C:\\Users\\Darshan Patel\\AppData\\Local\\Temp\\pip-uninstall-8tvpn6e3\\polynomial\\hermite_e.py\n",
      "  Moving to c:\\users\\darshan patel\\anaconda3\\envs\\myenv\\lib\\site-packages\\numpy\\polynomial\\laguerre.py\n",
      "   from C:\\Users\\Darshan Patel\\AppData\\Local\\Temp\\pip-uninstall-8tvpn6e3\\polynomial\\laguerre.py\n",
      "  Moving to c:\\users\\darshan patel\\anaconda3\\envs\\myenv\\lib\\site-packages\\numpy\\polynomial\\legendre.py\n",
      "   from C:\\Users\\Darshan Patel\\AppData\\Local\\Temp\\pip-uninstall-8tvpn6e3\\polynomial\\legendre.py\n",
      "  Moving to c:\\users\\darshan patel\\anaconda3\\envs\\myenv\\lib\\site-packages\\numpy\\polynomial\\polynomial.py\n",
      "   from C:\\Users\\Darshan Patel\\AppData\\Local\\Temp\\pip-uninstall-8tvpn6e3\\polynomial\\polynomial.py\n",
      "  Moving to c:\\users\\darshan patel\\anaconda3\\envs\\myenv\\lib\\site-packages\\numpy\\polynomial\\polyutils.py\n",
      "   from C:\\Users\\Darshan Patel\\AppData\\Local\\Temp\\pip-uninstall-8tvpn6e3\\polynomial\\polyutils.py\n",
      "  Moving to c:\\users\\darshan patel\\anaconda3\\envs\\myenv\\lib\\site-packages\\numpy\\polynomial\\setup.py\n",
      "   from C:\\Users\\Darshan Patel\\AppData\\Local\\Temp\\pip-uninstall-8tvpn6e3\\polynomial\\setup.py\n",
      "  Moving to c:\\users\\darshan patel\\anaconda3\\envs\\myenv\\lib\\site-packages\\numpy\\polynomial\\tests\\__init__.py\n",
      "   from C:\\Users\\Darshan Patel\\AppData\\Local\\Temp\\pip-uninstall-8tvpn6e3\\polynomial\\tests\\__init__.py\n",
      "  Moving to c:\\users\\darshan patel\\anaconda3\\envs\\myenv\\lib\\site-packages\\numpy\\polynomial\\tests\\__pycache__\\__init__.cpython-38.pyc\n",
      "   from C:\\Users\\Darshan Patel\\AppData\\Local\\Temp\\pip-uninstall-8tvpn6e3\\polynomial\\tests\\__pycache__\\__init__.cpython-38.pyc\n",
      "  Moving to c:\\users\\darshan patel\\anaconda3\\envs\\myenv\\lib\\site-packages\\numpy\\polynomial\\tests\\__pycache__\\test_chebyshev.cpython-38.pyc\n",
      "   from C:\\Users\\Darshan Patel\\AppData\\Local\\Temp\\pip-uninstall-8tvpn6e3\\polynomial\\tests\\__pycache__\\test_chebyshev.cpython-38.pyc\n",
      "  Moving to c:\\users\\darshan patel\\anaconda3\\envs\\myenv\\lib\\site-packages\\numpy\\polynomial\\tests\\__pycache__\\test_classes.cpython-38.pyc\n",
      "   from C:\\Users\\Darshan Patel\\AppData\\Local\\Temp\\pip-uninstall-8tvpn6e3\\polynomial\\tests\\__pycache__\\test_classes.cpython-38.pyc\n",
      "  Moving to c:\\users\\darshan patel\\anaconda3\\envs\\myenv\\lib\\site-packages\\numpy\\polynomial\\tests\\__pycache__\\test_hermite.cpython-38.pyc\n",
      "   from C:\\Users\\Darshan Patel\\AppData\\Local\\Temp\\pip-uninstall-8tvpn6e3\\polynomial\\tests\\__pycache__\\test_hermite.cpython-38.pyc\n",
      "  Moving to c:\\users\\darshan patel\\anaconda3\\envs\\myenv\\lib\\site-packages\\numpy\\polynomial\\tests\\__pycache__\\test_hermite_e.cpython-38.pyc\n",
      "   from C:\\Users\\Darshan Patel\\AppData\\Local\\Temp\\pip-uninstall-8tvpn6e3\\polynomial\\tests\\__pycache__\\test_hermite_e.cpython-38.pyc\n",
      "  Moving to c:\\users\\darshan patel\\anaconda3\\envs\\myenv\\lib\\site-packages\\numpy\\polynomial\\tests\\__pycache__\\test_laguerre.cpython-38.pyc\n",
      "   from C:\\Users\\Darshan Patel\\AppData\\Local\\Temp\\pip-uninstall-8tvpn6e3\\polynomial\\tests\\__pycache__\\test_laguerre.cpython-38.pyc\n",
      "  Moving to c:\\users\\darshan patel\\anaconda3\\envs\\myenv\\lib\\site-packages\\numpy\\polynomial\\tests\\__pycache__\\test_legendre.cpython-38.pyc\n",
      "   from C:\\Users\\Darshan Patel\\AppData\\Local\\Temp\\pip-uninstall-8tvpn6e3\\polynomial\\tests\\__pycache__\\test_legendre.cpython-38.pyc\n",
      "  Moving to c:\\users\\darshan patel\\anaconda3\\envs\\myenv\\lib\\site-packages\\numpy\\polynomial\\tests\\__pycache__\\test_polynomial.cpython-38.pyc\n",
      "   from C:\\Users\\Darshan Patel\\AppData\\Local\\Temp\\pip-uninstall-8tvpn6e3\\polynomial\\tests\\__pycache__\\test_polynomial.cpython-38.pyc\n",
      "  Moving to c:\\users\\darshan patel\\anaconda3\\envs\\myenv\\lib\\site-packages\\numpy\\polynomial\\tests\\__pycache__\\test_polyutils.cpython-38.pyc\n",
      "   from C:\\Users\\Darshan Patel\\AppData\\Local\\Temp\\pip-uninstall-8tvpn6e3\\polynomial\\tests\\__pycache__\\test_polyutils.cpython-38.pyc\n",
      "  Moving to c:\\users\\darshan patel\\anaconda3\\envs\\myenv\\lib\\site-packages\\numpy\\polynomial\\tests\\__pycache__\\test_printing.cpython-38.pyc\n",
      "   from C:\\Users\\Darshan Patel\\AppData\\Local\\Temp\\pip-uninstall-8tvpn6e3\\polynomial\\tests\\__pycache__\\test_printing.cpython-38.pyc\n",
      "  Moving to c:\\users\\darshan patel\\anaconda3\\envs\\myenv\\lib\\site-packages\\numpy\\polynomial\\tests\\test_chebyshev.py\n",
      "   from C:\\Users\\Darshan Patel\\AppData\\Local\\Temp\\pip-uninstall-8tvpn6e3\\polynomial\\tests\\test_chebyshev.py\n",
      "  Moving to c:\\users\\darshan patel\\anaconda3\\envs\\myenv\\lib\\site-packages\\numpy\\polynomial\\tests\\test_classes.py\n",
      "   from C:\\Users\\Darshan Patel\\AppData\\Local\\Temp\\pip-uninstall-8tvpn6e3\\polynomial\\tests\\test_classes.py\n",
      "  Moving to c:\\users\\darshan patel\\anaconda3\\envs\\myenv\\lib\\site-packages\\numpy\\polynomial\\tests\\test_hermite.py\n",
      "   from C:\\Users\\Darshan Patel\\AppData\\Local\\Temp\\pip-uninstall-8tvpn6e3\\polynomial\\tests\\test_hermite.py\n",
      "  Moving to c:\\users\\darshan patel\\anaconda3\\envs\\myenv\\lib\\site-packages\\numpy\\polynomial\\tests\\test_hermite_e.py\n",
      "   from C:\\Users\\Darshan Patel\\AppData\\Local\\Temp\\pip-uninstall-8tvpn6e3\\polynomial\\tests\\test_hermite_e.py\n",
      "  Moving to c:\\users\\darshan patel\\anaconda3\\envs\\myenv\\lib\\site-packages\\numpy\\polynomial\\tests\\test_laguerre.py\n",
      "   from C:\\Users\\Darshan Patel\\AppData\\Local\\Temp\\pip-uninstall-8tvpn6e3\\polynomial\\tests\\test_laguerre.py\n",
      "  Moving to c:\\users\\darshan patel\\anaconda3\\envs\\myenv\\lib\\site-packages\\numpy\\polynomial\\tests\\test_legendre.py\n",
      "   from C:\\Users\\Darshan Patel\\AppData\\Local\\Temp\\pip-uninstall-8tvpn6e3\\polynomial\\tests\\test_legendre.py\n",
      "  Moving to c:\\users\\darshan patel\\anaconda3\\envs\\myenv\\lib\\site-packages\\numpy\\polynomial\\tests\\test_polynomial.py\n",
      "   from C:\\Users\\Darshan Patel\\AppData\\Local\\Temp\\pip-uninstall-8tvpn6e3\\polynomial\\tests\\test_polynomial.py\n",
      "  Moving to c:\\users\\darshan patel\\anaconda3\\envs\\myenv\\lib\\site-packages\\numpy\\polynomial\\tests\\test_polyutils.py\n",
      "   from C:\\Users\\Darshan Patel\\AppData\\Local\\Temp\\pip-uninstall-8tvpn6e3\\polynomial\\tests\\test_polyutils.py\n",
      "  Moving to c:\\users\\darshan patel\\anaconda3\\envs\\myenv\\lib\\site-packages\\numpy\\polynomial\\tests\\test_printing.py\n",
      "   from C:\\Users\\Darshan Patel\\AppData\\Local\\Temp\\pip-uninstall-8tvpn6e3\\polynomial\\tests\\test_printing.py\n",
      "  Moving to c:\\users\\darshan patel\\anaconda3\\envs\\myenv\\lib\\site-packages\\numpy\\random\\\n",
      "   from C:\\Users\\Darshan Patel\\anaconda3\\envs\\myenv\\Lib\\site-packages\\numpy\\~andom\n",
      "  Moving to c:\\users\\darshan patel\\anaconda3\\envs\\myenv\\lib\\site-packages\\numpy\\setup.py\n",
      "   from C:\\Users\\Darshan Patel\\AppData\\Local\\Temp\\pip-uninstall-8tvpn6e3\\setup.py\n",
      "  Moving to c:\\users\\darshan patel\\anaconda3\\envs\\myenv\\lib\\site-packages\\numpy\\testing\\\n",
      "   from C:\\Users\\Darshan Patel\\anaconda3\\envs\\myenv\\Lib\\site-packages\\numpy\\~esting\n",
      "  Moving to c:\\users\\darshan patel\\anaconda3\\envs\\myenv\\lib\\site-packages\\numpy\\tests\\__init__.py\n",
      "   from C:\\Users\\Darshan Patel\\AppData\\Local\\Temp\\pip-uninstall-8tvpn6e3\\tests\\__init__.py\n",
      "  Moving to c:\\users\\darshan patel\\anaconda3\\envs\\myenv\\lib\\site-packages\\numpy\\tests\\__pycache__\\__init__.cpython-38.pyc\n",
      "   from C:\\Users\\Darshan Patel\\AppData\\Local\\Temp\\pip-uninstall-8tvpn6e3\\tests\\__pycache__\\__init__.cpython-38.pyc\n",
      "  Moving to c:\\users\\darshan patel\\anaconda3\\envs\\myenv\\lib\\site-packages\\numpy\\tests\\__pycache__\\test_ctypeslib.cpython-38.pyc\n",
      "   from C:\\Users\\Darshan Patel\\AppData\\Local\\Temp\\pip-uninstall-8tvpn6e3\\tests\\__pycache__\\test_ctypeslib.cpython-38.pyc\n",
      "  Moving to c:\\users\\darshan patel\\anaconda3\\envs\\myenv\\lib\\site-packages\\numpy\\tests\\__pycache__\\test_matlib.cpython-38.pyc\n",
      "   from C:\\Users\\Darshan Patel\\AppData\\Local\\Temp\\pip-uninstall-8tvpn6e3\\tests\\__pycache__\\test_matlib.cpython-38.pyc\n",
      "  Moving to c:\\users\\darshan patel\\anaconda3\\envs\\myenv\\lib\\site-packages\\numpy\\tests\\__pycache__\\test_numpy_version.cpython-38.pyc\n",
      "   from C:\\Users\\Darshan Patel\\AppData\\Local\\Temp\\pip-uninstall-8tvpn6e3\\tests\\__pycache__\\test_numpy_version.cpython-38.pyc\n",
      "  Moving to c:\\users\\darshan patel\\anaconda3\\envs\\myenv\\lib\\site-packages\\numpy\\tests\\__pycache__\\test_public_api.cpython-38.pyc\n",
      "   from C:\\Users\\Darshan Patel\\AppData\\Local\\Temp\\pip-uninstall-8tvpn6e3\\tests\\__pycache__\\test_public_api.cpython-38.pyc\n",
      "  Moving to c:\\users\\darshan patel\\anaconda3\\envs\\myenv\\lib\\site-packages\\numpy\\tests\\__pycache__\\test_reloading.cpython-38.pyc\n",
      "   from C:\\Users\\Darshan Patel\\AppData\\Local\\Temp\\pip-uninstall-8tvpn6e3\\tests\\__pycache__\\test_reloading.cpython-38.pyc\n",
      "  Moving to c:\\users\\darshan patel\\anaconda3\\envs\\myenv\\lib\\site-packages\\numpy\\tests\\__pycache__\\test_scripts.cpython-38.pyc\n",
      "   from C:\\Users\\Darshan Patel\\AppData\\Local\\Temp\\pip-uninstall-8tvpn6e3\\tests\\__pycache__\\test_scripts.cpython-38.pyc\n",
      "  Moving to c:\\users\\darshan patel\\anaconda3\\envs\\myenv\\lib\\site-packages\\numpy\\tests\\__pycache__\\test_warnings.cpython-38.pyc\n",
      "   from C:\\Users\\Darshan Patel\\AppData\\Local\\Temp\\pip-uninstall-8tvpn6e3\\tests\\__pycache__\\test_warnings.cpython-38.pyc\n",
      "  Moving to c:\\users\\darshan patel\\anaconda3\\envs\\myenv\\lib\\site-packages\\numpy\\tests\\test_ctypeslib.py\n",
      "   from C:\\Users\\Darshan Patel\\AppData\\Local\\Temp\\pip-uninstall-8tvpn6e3\\tests\\test_ctypeslib.py\n",
      "  Moving to c:\\users\\darshan patel\\anaconda3\\envs\\myenv\\lib\\site-packages\\numpy\\tests\\test_matlib.py\n",
      "   from C:\\Users\\Darshan Patel\\AppData\\Local\\Temp\\pip-uninstall-8tvpn6e3\\tests\\test_matlib.py\n",
      "  Moving to c:\\users\\darshan patel\\anaconda3\\envs\\myenv\\lib\\site-packages\\numpy\\tests\\test_numpy_version.py\n",
      "   from C:\\Users\\Darshan Patel\\AppData\\Local\\Temp\\pip-uninstall-8tvpn6e3\\tests\\test_numpy_version.py\n",
      "  Moving to c:\\users\\darshan patel\\anaconda3\\envs\\myenv\\lib\\site-packages\\numpy\\tests\\test_public_api.py\n",
      "   from C:\\Users\\Darshan Patel\\AppData\\Local\\Temp\\pip-uninstall-8tvpn6e3\\tests\\test_public_api.py\n",
      "  Moving to c:\\users\\darshan patel\\anaconda3\\envs\\myenv\\lib\\site-packages\\numpy\\tests\\test_reloading.py\n",
      "   from C:\\Users\\Darshan Patel\\AppData\\Local\\Temp\\pip-uninstall-8tvpn6e3\\tests\\test_reloading.py\n",
      "  Moving to c:\\users\\darshan patel\\anaconda3\\envs\\myenv\\lib\\site-packages\\numpy\\tests\\test_scripts.py\n",
      "   from C:\\Users\\Darshan Patel\\AppData\\Local\\Temp\\pip-uninstall-8tvpn6e3\\tests\\test_scripts.py\n",
      "  Moving to c:\\users\\darshan patel\\anaconda3\\envs\\myenv\\lib\\site-packages\\numpy\\tests\\test_warnings.py\n",
      "   from C:\\Users\\Darshan Patel\\AppData\\Local\\Temp\\pip-uninstall-8tvpn6e3\\tests\\test_warnings.py\n",
      "  Moving to c:\\users\\darshan patel\\anaconda3\\envs\\myenv\\lib\\site-packages\\numpy\\version.py\n",
      "   from C:\\Users\\Darshan Patel\\AppData\\Local\\Temp\\pip-uninstall-8tvpn6e3\\version.py\n",
      "  Moving to c:\\users\\darshan patel\\anaconda3\\envs\\myenv\\scripts\\f2py.exe\n",
      "   from C:\\Users\\Darshan Patel\\AppData\\Local\\Temp\\pip-uninstall-mhgyy8jl\\f2py.exe\n"
     ]
    },
    {
     "name": "stderr",
     "output_type": "stream",
     "text": [
      "ERROR: Could not install packages due to an OSError: [WinError 5] Access is denied: 'C:\\\\Users\\\\Darshan Patel\\\\anaconda3\\\\envs\\\\myenv\\\\Lib\\\\site-packages\\\\numpy\\\\.libs\\\\libopenblas64__v0.3.21-gcc_10_3_0.dll'\n",
      "Consider using the `--user` option or check the permissions.\n",
      "\n"
     ]
    }
   ],
   "source": [
    "!pip install labelme"
   ]
  },
  {
   "cell_type": "code",
   "execution_count": 26,
   "metadata": {
    "tags": []
   },
   "outputs": [
    {
     "ename": "NameError",
     "evalue": "name 'labelme' is not defined",
     "output_type": "error",
     "traceback": [
      "\u001b[1;31m---------------------------------------------------------------------------\u001b[0m",
      "\u001b[1;31mNameError\u001b[0m                                 Traceback (most recent call last)",
      "Cell \u001b[1;32mIn[26], line 1\u001b[0m\n\u001b[1;32m----> 1\u001b[0m \u001b[38;5;28mprint\u001b[39m(\u001b[43mlabelme\u001b[49m \u001b[38;5;241m-\u001b[39m\u001b[38;5;241m-\u001b[39mversion)\n",
      "\u001b[1;31mNameError\u001b[0m: name 'labelme' is not defined"
     ]
    }
   ],
   "source": [
    "print(labelme --version)"
   ]
  },
  {
   "cell_type": "markdown",
   "metadata": {},
   "source": [
    "# 2. Review Dataset and Build Image Loading Function"
   ]
  },
  {
   "cell_type": "markdown",
   "metadata": {},
   "source": [
    "### 2.1 Import TF and Deps"
   ]
  },
  {
   "cell_type": "code",
   "execution_count": null,
   "metadata": {
    "tags": []
   },
   "outputs": [],
   "source": [
    "import tensorflow as tf\n",
    "import json\n",
    "import numpy as np\n",
    "from matplotlib import pyplot as plt"
   ]
  },
  {
   "cell_type": "markdown",
   "metadata": {},
   "source": [
    "### 2.2 Limit GPU Memory Growth"
   ]
  },
  {
   "cell_type": "code",
   "execution_count": null,
   "metadata": {
    "tags": []
   },
   "outputs": [],
   "source": [
    "# Avoid OOM errors by setting GPU Memory Consumption Growth\n",
    "gpus = tf.config.experimental.list_physical_devices('GPU')\n",
    "for gpu in gpus: \n",
    "    tf.config.experimental.set_memory_growth(gpu, True)"
   ]
  },
  {
   "cell_type": "code",
   "execution_count": null,
   "metadata": {
    "tags": []
   },
   "outputs": [],
   "source": [
    "tf.config.list_physical_devices('GPU')"
   ]
  },
  {
   "cell_type": "markdown",
   "metadata": {},
   "source": [
    "### 2.3 Load Image into TF Data Pipeline"
   ]
  },
  {
   "cell_type": "code",
   "execution_count": null,
   "metadata": {
    "tags": []
   },
   "outputs": [],
   "source": [
    "images = tf.data.Dataset.list_files('data\\\\images\\\\*.jpg')"
   ]
  },
  {
   "cell_type": "code",
   "execution_count": null,
   "metadata": {},
   "outputs": [],
   "source": [
    "images.as_numpy_iterator().next()"
   ]
  },
  {
   "cell_type": "code",
   "execution_count": null,
   "metadata": {
    "tags": []
   },
   "outputs": [],
   "source": [
    "def load_image(x): \n",
    "    byte_img = tf.io.read_file(x)\n",
    "    img = tf.io.decode_jpeg(byte_img)\n",
    "    return img"
   ]
  },
  {
   "cell_type": "code",
   "execution_count": null,
   "metadata": {
    "tags": []
   },
   "outputs": [],
   "source": [
    "images = images.map(load_image)"
   ]
  },
  {
   "cell_type": "code",
   "execution_count": null,
   "metadata": {
    "scrolled": true,
    "tags": []
   },
   "outputs": [],
   "source": [
    "images.as_numpy_iterator().next()"
   ]
  },
  {
   "cell_type": "code",
   "execution_count": null,
   "metadata": {},
   "outputs": [],
   "source": [
    "type(images)"
   ]
  },
  {
   "cell_type": "markdown",
   "metadata": {},
   "source": [
    "### 2.4 View Raw Images with Matplotlib"
   ]
  },
  {
   "cell_type": "code",
   "execution_count": null,
   "metadata": {
    "tags": []
   },
   "outputs": [],
   "source": [
    "image_generator = images.batch(4).as_numpy_iterator()"
   ]
  },
  {
   "cell_type": "code",
   "execution_count": null,
   "metadata": {
    "tags": []
   },
   "outputs": [],
   "source": [
    "plot_images = image_generator.next()"
   ]
  },
  {
   "cell_type": "code",
   "execution_count": null,
   "metadata": {
    "tags": []
   },
   "outputs": [],
   "source": [
    "fig, ax = plt.subplots(ncols=4, figsize=(20,20))\n",
    "for idx, image in enumerate(plot_images):\n",
    "    ax[idx].imshow(image) \n",
    "plt.show()"
   ]
  },
  {
   "cell_type": "markdown",
   "metadata": {},
   "source": [
    "# 3. Partition Unaugmented Data"
   ]
  },
  {
   "cell_type": "markdown",
   "metadata": {},
   "source": [
    "### 3.1 MANUALLY SPLT DATA INTO TRAIN TEST AND VAL"
   ]
  },
  {
   "cell_type": "code",
   "execution_count": null,
   "metadata": {},
   "outputs": [],
   "source": [
    "90*.7 # 63 to train"
   ]
  },
  {
   "cell_type": "code",
   "execution_count": null,
   "metadata": {},
   "outputs": [],
   "source": [
    "90*.15 # 14 and 13 to test and val"
   ]
  },
  {
   "cell_type": "markdown",
   "metadata": {},
   "source": [
    "### 3.2 Move the Matching Labels"
   ]
  },
  {
   "cell_type": "code",
   "execution_count": null,
   "metadata": {
    "tags": []
   },
   "outputs": [],
   "source": [
    "for folder in ['train','test','val']:\n",
    "    for file in os.listdir(os.path.join('data', folder, 'images')):\n",
    "        \n",
    "        filename = file.split('.')[0]+'.json'\n",
    "        existing_filepath = os.path.join('data','labels', filename)\n",
    "        if os.path.exists(existing_filepath): \n",
    "            new_filepath = os.path.join('data',folder,'labels',filename)\n",
    "            os.replace(existing_filepath, new_filepath)      "
   ]
  },
  {
   "cell_type": "markdown",
   "metadata": {},
   "source": [
    "# 4. Apply Image Augmentation on Images and Labels using Albumentations"
   ]
  },
  {
   "cell_type": "markdown",
   "metadata": {},
   "source": [
    "### 4.1 Setup Albumentations Transform Pipeline"
   ]
  },
  {
   "cell_type": "code",
   "execution_count": null,
   "metadata": {
    "tags": []
   },
   "outputs": [],
   "source": [
    "import albumentations as alb"
   ]
  },
  {
   "cell_type": "code",
   "execution_count": null,
   "metadata": {
    "tags": []
   },
   "outputs": [],
   "source": [
    "augmentor = alb.Compose([alb.RandomCrop(width=450, height=450), \n",
    "                         alb.HorizontalFlip(p=0.5), \n",
    "                         alb.RandomBrightnessContrast(p=0.2),\n",
    "                         alb.RandomGamma(p=0.2), \n",
    "                         alb.RGBShift(p=0.2), \n",
    "                         alb.VerticalFlip(p=0.5)], \n",
    "                       bbox_params=alb.BboxParams(format='albumentations', \n",
    "                                                  label_fields=['class_labels']))"
   ]
  },
  {
   "cell_type": "markdown",
   "metadata": {},
   "source": [
    "### 4.2 Load a Test Image and Annotation with OpenCV and JSON"
   ]
  },
  {
   "cell_type": "code",
   "execution_count": null,
   "metadata": {
    "tags": []
   },
   "outputs": [],
   "source": [
    "img = cv2.imread(os.path.join('data','train', 'images','ffd85fc5-cc1a-11ec-bfb8-a0cec8d2d278.jpg'))"
   ]
  },
  {
   "cell_type": "code",
   "execution_count": null,
   "metadata": {
    "tags": []
   },
   "outputs": [],
   "source": [
    "with open(os.path.join('data', 'train', 'labels', 'ffd85fc5-cc1a-11ec-bfb8-a0cec8d2d278.json'), 'r') as f:\n",
    "    label = json.load(f)"
   ]
  },
  {
   "cell_type": "code",
   "execution_count": null,
   "metadata": {},
   "outputs": [],
   "source": [
    "label['shapes'][0]['points']"
   ]
  },
  {
   "cell_type": "markdown",
   "metadata": {},
   "source": [
    "### 4.3 Extract Coordinates and Rescale to Match Image Resolution"
   ]
  },
  {
   "cell_type": "code",
   "execution_count": null,
   "metadata": {
    "tags": []
   },
   "outputs": [],
   "source": [
    "coords = [0,0,0,0]\n",
    "coords[0] = label['shapes'][0]['points'][0][0]\n",
    "coords[1] = label['shapes'][0]['points'][0][1]\n",
    "coords[2] = label['shapes'][0]['points'][1][0]\n",
    "coords[3] = label['shapes'][0]['points'][1][1]"
   ]
  },
  {
   "cell_type": "code",
   "execution_count": null,
   "metadata": {},
   "outputs": [],
   "source": [
    "coords"
   ]
  },
  {
   "cell_type": "code",
   "execution_count": null,
   "metadata": {
    "tags": []
   },
   "outputs": [],
   "source": [
    "coords = list(np.divide(coords, [640,480,640,480]))"
   ]
  },
  {
   "cell_type": "code",
   "execution_count": null,
   "metadata": {},
   "outputs": [],
   "source": [
    "coords"
   ]
  },
  {
   "cell_type": "markdown",
   "metadata": {},
   "source": [
    "### 4.4 Apply Augmentations and View Results"
   ]
  },
  {
   "cell_type": "code",
   "execution_count": null,
   "metadata": {
    "tags": []
   },
   "outputs": [],
   "source": [
    "augmented = augmentor(image=img, bboxes=[coords], class_labels=['face'])"
   ]
  },
  {
   "cell_type": "code",
   "execution_count": null,
   "metadata": {
    "tags": []
   },
   "outputs": [],
   "source": [
    "augmented['bboxes'][0][2:]"
   ]
  },
  {
   "cell_type": "code",
   "execution_count": null,
   "metadata": {},
   "outputs": [],
   "source": [
    "augmented['bboxes']"
   ]
  },
  {
   "cell_type": "code",
   "execution_count": null,
   "metadata": {
    "tags": []
   },
   "outputs": [],
   "source": [
    "cv2.rectangle(augmented['image'], \n",
    "              tuple(np.multiply(augmented['bboxes'][0][:2], [450,450]).astype(int)),\n",
    "              tuple(np.multiply(augmented['bboxes'][0][2:], [450,450]).astype(int)), \n",
    "                    (255,0,0), 2)\n",
    "\n",
    "plt.imshow(augmented['image'])"
   ]
  },
  {
   "cell_type": "markdown",
   "metadata": {},
   "source": [
    "# 5. Build and Run Augmentation Pipeline"
   ]
  },
  {
   "cell_type": "markdown",
   "metadata": {},
   "source": [
    "### 5.1 Run Augmentation Pipeline"
   ]
  },
  {
   "cell_type": "code",
   "execution_count": null,
   "metadata": {
    "tags": []
   },
   "outputs": [],
   "source": [
    "for partition in ['train','test','val']: \n",
    "    for image in os.listdir(os.path.join('data', partition, 'images')):\n",
    "        img = cv2.imread(os.path.join('data', partition, 'images', image))\n",
    "\n",
    "        coords = [0,0,0.00001,0.00001]\n",
    "        label_path = os.path.join('data', partition, 'labels', f'{image.split(\".\")[0]}.json')\n",
    "        if os.path.exists(label_path):\n",
    "            with open(label_path, 'r') as f:\n",
    "                label = json.load(f)\n",
    "\n",
    "            coords[0] = label['shapes'][0]['points'][0][0]\n",
    "            coords[1] = label['shapes'][0]['points'][0][1]\n",
    "            coords[2] = label['shapes'][0]['points'][1][0]\n",
    "            coords[3] = label['shapes'][0]['points'][1][1]\n",
    "            coords = list(np.divide(coords, [640,480,640,480]))\n",
    "\n",
    "        try: \n",
    "            for x in range(60):\n",
    "                augmented = augmentor(image=img, bboxes=[coords], class_labels=['face'])\n",
    "                cv2.imwrite(os.path.join('aug_data', partition, 'images', f'{image.split(\".\")[0]}.{x}.jpg'), augmented['image'])\n",
    "\n",
    "                annotation = {}\n",
    "                annotation['image'] = image\n",
    "\n",
    "                if os.path.exists(label_path):\n",
    "                    if len(augmented['bboxes']) == 0: \n",
    "                        annotation['bbox'] = [0,0,0,0]\n",
    "                        annotation['class'] = 0 \n",
    "                    else: \n",
    "                        annotation['bbox'] = augmented['bboxes'][0]\n",
    "                        annotation['class'] = 1\n",
    "                else: \n",
    "                    annotation['bbox'] = [0,0,0,0]\n",
    "                    annotation['class'] = 0 \n",
    "\n",
    "\n",
    "                with open(os.path.join('aug_data', partition, 'labels', f'{image.split(\".\")[0]}.{x}.json'), 'w') as f:\n",
    "                    json.dump(annotation, f)\n",
    "\n",
    "        except Exception as e:\n",
    "            print(e)"
   ]
  },
  {
   "cell_type": "markdown",
   "metadata": {},
   "source": [
    "### 5.2 Load Augmented Images to Tensorflow Dataset"
   ]
  },
  {
   "cell_type": "code",
   "execution_count": null,
   "metadata": {
    "tags": []
   },
   "outputs": [],
   "source": [
    "train_images = tf.data.Dataset.list_files('aug_data\\\\train\\\\images\\\\*.jpg', shuffle=False)\n",
    "train_images = train_images.map(load_image)\n",
    "train_images = train_images.map(lambda x: tf.image.resize(x, (120,120)))\n",
    "train_images = train_images.map(lambda x: x/255)"
   ]
  },
  {
   "cell_type": "code",
   "execution_count": null,
   "metadata": {
    "tags": []
   },
   "outputs": [],
   "source": [
    "test_images = tf.data.Dataset.list_files('aug_data\\\\test\\\\images\\\\*.jpg', shuffle=False)\n",
    "test_images = test_images.map(load_image)\n",
    "test_images = test_images.map(lambda x: tf.image.resize(x, (120,120)))\n",
    "test_images = test_images.map(lambda x: x/255)"
   ]
  },
  {
   "cell_type": "code",
   "execution_count": null,
   "metadata": {
    "tags": []
   },
   "outputs": [],
   "source": [
    "val_images = tf.data.Dataset.list_files('aug_data\\\\val\\\\images\\\\*.jpg', shuffle=False)\n",
    "val_images = val_images.map(load_image)\n",
    "val_images = val_images.map(lambda x: tf.image.resize(x, (120,120)))\n",
    "val_images = val_images.map(lambda x: x/255)"
   ]
  },
  {
   "cell_type": "code",
   "execution_count": null,
   "metadata": {
    "tags": []
   },
   "outputs": [],
   "source": [
    "train_images.as_numpy_iterator().next()"
   ]
  },
  {
   "cell_type": "markdown",
   "metadata": {},
   "source": [
    "# 6. Prepare Labels"
   ]
  },
  {
   "cell_type": "markdown",
   "metadata": {},
   "source": [
    "### 6.1 Build Label Loading Function"
   ]
  },
  {
   "cell_type": "code",
   "execution_count": null,
   "metadata": {
    "tags": []
   },
   "outputs": [],
   "source": [
    "def load_labels(label_path):\n",
    "    with open(label_path.numpy(), 'r', encoding = \"utf-8\") as f:\n",
    "        label = json.load(f)\n",
    "        \n",
    "    return [label['class']], label['bbox']"
   ]
  },
  {
   "cell_type": "markdown",
   "metadata": {},
   "source": [
    "### 6.2 Load Labels to Tensorflow Dataset"
   ]
  },
  {
   "cell_type": "code",
   "execution_count": null,
   "metadata": {
    "tags": []
   },
   "outputs": [],
   "source": [
    "train_labels = tf.data.Dataset.list_files('aug_data\\\\train\\\\labels\\\\*.json', shuffle=False)\n",
    "train_labels = train_labels.map(lambda x: tf.py_function(load_labels, [x], [tf.uint8, tf.float16]))"
   ]
  },
  {
   "cell_type": "code",
   "execution_count": null,
   "metadata": {
    "tags": []
   },
   "outputs": [],
   "source": [
    "test_labels = tf.data.Dataset.list_files('aug_data\\\\test\\\\labels\\\\*.json', shuffle=False)\n",
    "test_labels = test_labels.map(lambda x: tf.py_function(load_labels, [x], [tf.uint8, tf.float16]))"
   ]
  },
  {
   "cell_type": "code",
   "execution_count": null,
   "metadata": {
    "tags": []
   },
   "outputs": [],
   "source": [
    "val_labels = tf.data.Dataset.list_files('aug_data\\\\val\\\\labels\\\\*.json', shuffle=False)\n",
    "val_labels = val_labels.map(lambda x: tf.py_function(load_labels, [x], [tf.uint8, tf.float16]))"
   ]
  },
  {
   "cell_type": "code",
   "execution_count": null,
   "metadata": {},
   "outputs": [],
   "source": [
    "train_labels.as_numpy_iterator().next()"
   ]
  },
  {
   "cell_type": "markdown",
   "metadata": {},
   "source": [
    "# 7. Combine Label and Image Samples"
   ]
  },
  {
   "cell_type": "markdown",
   "metadata": {},
   "source": [
    "### 7.1 Check Partition Lengths"
   ]
  },
  {
   "cell_type": "code",
   "execution_count": null,
   "metadata": {
    "tags": []
   },
   "outputs": [],
   "source": [
    "len(train_images), len(train_labels), len(test_images), len(test_labels), len(val_images), len(val_labels)"
   ]
  },
  {
   "cell_type": "markdown",
   "metadata": {},
   "source": [
    "### 7.2 Create Final Datasets (Images/Labels)"
   ]
  },
  {
   "cell_type": "code",
   "execution_count": null,
   "metadata": {
    "tags": []
   },
   "outputs": [],
   "source": [
    "train = tf.data.Dataset.zip((train_images, train_labels))\n",
    "train = train.shuffle(5000)\n",
    "train = train.batch(8)\n",
    "train = train.prefetch(4)"
   ]
  },
  {
   "cell_type": "code",
   "execution_count": null,
   "metadata": {
    "tags": []
   },
   "outputs": [],
   "source": [
    "test = tf.data.Dataset.zip((test_images, test_labels))\n",
    "test = test.shuffle(1300)\n",
    "test = test.batch(8)\n",
    "test = test.prefetch(4)"
   ]
  },
  {
   "cell_type": "code",
   "execution_count": null,
   "metadata": {
    "tags": []
   },
   "outputs": [],
   "source": [
    "val = tf.data.Dataset.zip((val_images, val_labels))\n",
    "val = val.shuffle(1000)\n",
    "val = val.batch(8)\n",
    "val = val.prefetch(4)"
   ]
  },
  {
   "cell_type": "code",
   "execution_count": null,
   "metadata": {
    "tags": []
   },
   "outputs": [],
   "source": [
    "train.as_numpy_iterator().next()[1]"
   ]
  },
  {
   "cell_type": "markdown",
   "metadata": {},
   "source": [
    "### 7.3 View Images and Annotations"
   ]
  },
  {
   "cell_type": "code",
   "execution_count": null,
   "metadata": {
    "scrolled": true,
    "tags": []
   },
   "outputs": [],
   "source": [
    "data_samples = train.as_numpy_iterator()"
   ]
  },
  {
   "cell_type": "code",
   "execution_count": null,
   "metadata": {
    "tags": []
   },
   "outputs": [],
   "source": [
    "res = data_samples.next()"
   ]
  },
  {
   "cell_type": "code",
   "execution_count": null,
   "metadata": {
    "tags": []
   },
   "outputs": [],
   "source": [
    "fig, ax = plt.subplots(ncols=4, figsize=(20,20))\n",
    "for idx in range(4): \n",
    "    sample_image = res[0][idx]\n",
    "    sample_coords = res[1][1][idx]\n",
    "    \n",
    "    cv2.rectangle(sample_image, \n",
    "                  tuple(np.multiply(sample_coords[:2], [120,120]).astype(int)),\n",
    "                  tuple(np.multiply(sample_coords[2:], [120,120]).astype(int)), \n",
    "                        (255,0,0), 2)\n",
    "\n",
    "    ax[idx].imshow(sample_image)"
   ]
  },
  {
   "cell_type": "markdown",
   "metadata": {},
   "source": [
    "# 8. Build Deep Learning using the Functional API"
   ]
  },
  {
   "cell_type": "markdown",
   "metadata": {},
   "source": [
    "### 8.1 Import Layers and Base Network"
   ]
  },
  {
   "cell_type": "code",
   "execution_count": null,
   "metadata": {
    "tags": []
   },
   "outputs": [],
   "source": [
    "from tensorflow.keras.models import Model\n",
    "from tensorflow.keras.layers import Input, Conv2D, Dense, GlobalMaxPooling2D\n",
    "from tensorflow.keras.applications import VGG16"
   ]
  },
  {
   "cell_type": "markdown",
   "metadata": {},
   "source": [
    "### 8.2 Download VGG16"
   ]
  },
  {
   "cell_type": "code",
   "execution_count": null,
   "metadata": {
    "tags": []
   },
   "outputs": [],
   "source": [
    "vgg = VGG16(include_top=False)"
   ]
  },
  {
   "cell_type": "code",
   "execution_count": null,
   "metadata": {
    "tags": []
   },
   "outputs": [],
   "source": [
    "vgg.summary()"
   ]
  },
  {
   "cell_type": "markdown",
   "metadata": {},
   "source": [
    "### 8.3 Build instance of Network"
   ]
  },
  {
   "cell_type": "code",
   "execution_count": null,
   "metadata": {
    "tags": []
   },
   "outputs": [],
   "source": [
    "def build_model(): \n",
    "    input_layer = Input(shape=(120,120,3))\n",
    "    \n",
    "    vgg = VGG16(include_top=False)(input_layer)\n",
    "\n",
    "    # Classification Model  \n",
    "    f1 = GlobalMaxPooling2D()(vgg)\n",
    "    class1 = Dense(2048, activation='relu')(f1)\n",
    "    class2 = Dense(1, activation='sigmoid')(class1)\n",
    "    \n",
    "    # Bounding box model\n",
    "    f2 = GlobalMaxPooling2D()(vgg)\n",
    "    regress1 = Dense(2048, activation='relu')(f2)\n",
    "    regress2 = Dense(4, activation='sigmoid')(regress1)\n",
    "    \n",
    "    facetracker = Model(inputs=input_layer, outputs=[class2, regress2])\n",
    "    return facetracker"
   ]
  },
  {
   "cell_type": "markdown",
   "metadata": {},
   "source": [
    "### 8.4 Test out Neural Network"
   ]
  },
  {
   "cell_type": "code",
   "execution_count": null,
   "metadata": {
    "tags": []
   },
   "outputs": [],
   "source": [
    "facetracker = build_model()"
   ]
  },
  {
   "cell_type": "code",
   "execution_count": null,
   "metadata": {
    "tags": []
   },
   "outputs": [],
   "source": [
    "facetracker.summary()"
   ]
  },
  {
   "cell_type": "code",
   "execution_count": null,
   "metadata": {
    "tags": []
   },
   "outputs": [],
   "source": [
    "X, y = train.as_numpy_iterator().next()"
   ]
  },
  {
   "cell_type": "code",
   "execution_count": null,
   "metadata": {
    "tags": []
   },
   "outputs": [],
   "source": [
    "X.shape"
   ]
  },
  {
   "cell_type": "code",
   "execution_count": null,
   "metadata": {
    "tags": []
   },
   "outputs": [],
   "source": [
    "classes, coords = facetracker.predict(X)"
   ]
  },
  {
   "cell_type": "code",
   "execution_count": null,
   "metadata": {
    "tags": []
   },
   "outputs": [],
   "source": [
    "classes, coords"
   ]
  },
  {
   "cell_type": "markdown",
   "metadata": {},
   "source": [
    "# 9. Define Losses and Optimizers"
   ]
  },
  {
   "cell_type": "markdown",
   "metadata": {},
   "source": [
    "### 9.1 Define Optimizer and LR"
   ]
  },
  {
   "cell_type": "code",
   "execution_count": null,
   "metadata": {
    "tags": []
   },
   "outputs": [],
   "source": [
    "batches_per_epoch = len(train)\n",
    "lr_decay = (1./0.75 -1)/batches_per_epoch"
   ]
  },
  {
   "cell_type": "code",
   "execution_count": null,
   "metadata": {
    "tags": []
   },
   "outputs": [],
   "source": [
    "opt = tf.keras.optimizers.Adam(learning_rate=0.0001, decay=lr_decay)"
   ]
  },
  {
   "cell_type": "markdown",
   "metadata": {},
   "source": [
    "### 9.2 Create Localization Loss and Classification Loss"
   ]
  },
  {
   "cell_type": "code",
   "execution_count": null,
   "metadata": {
    "tags": []
   },
   "outputs": [],
   "source": [
    "def localization_loss(y_true, yhat):            \n",
    "    delta_coord = tf.reduce_sum(tf.square(y_true[:,:2] - yhat[:,:2]))\n",
    "                  \n",
    "    h_true = y_true[:,3] - y_true[:,1] \n",
    "    w_true = y_true[:,2] - y_true[:,0] \n",
    "\n",
    "    h_pred = yhat[:,3] - yhat[:,1] \n",
    "    w_pred = yhat[:,2] - yhat[:,0] \n",
    "    \n",
    "    delta_size = tf.reduce_sum(tf.square(w_true - w_pred) + tf.square(h_true-h_pred))\n",
    "    \n",
    "    return delta_coord + delta_size"
   ]
  },
  {
   "cell_type": "code",
   "execution_count": null,
   "metadata": {
    "tags": []
   },
   "outputs": [],
   "source": [
    "classloss = tf.keras.losses.BinaryCrossentropy()\n",
    "regressloss = localization_loss"
   ]
  },
  {
   "cell_type": "markdown",
   "metadata": {},
   "source": [
    "### 9.3 Test out Loss Metrics"
   ]
  },
  {
   "cell_type": "code",
   "execution_count": null,
   "metadata": {
    "tags": []
   },
   "outputs": [],
   "source": [
    "localization_loss(y[1], coords)"
   ]
  },
  {
   "cell_type": "code",
   "execution_count": null,
   "metadata": {
    "tags": []
   },
   "outputs": [],
   "source": [
    "classloss(y[0], classes)"
   ]
  },
  {
   "cell_type": "code",
   "execution_count": null,
   "metadata": {
    "tags": []
   },
   "outputs": [],
   "source": [
    "regressloss(y[1], coords)"
   ]
  },
  {
   "cell_type": "markdown",
   "metadata": {},
   "source": [
    "# 10. Train Neural Network"
   ]
  },
  {
   "cell_type": "markdown",
   "metadata": {},
   "source": [
    "### 10.1 Create Custom Model Class"
   ]
  },
  {
   "cell_type": "code",
   "execution_count": null,
   "metadata": {
    "tags": []
   },
   "outputs": [],
   "source": [
    "class FaceTracker(Model): \n",
    "    def __init__(self, eyetracker,  **kwargs): \n",
    "        super().__init__(**kwargs)\n",
    "        self.model = eyetracker\n",
    "\n",
    "    def compile(self, opt, classloss, localizationloss, **kwargs):\n",
    "        super().compile(**kwargs)\n",
    "        self.closs = classloss\n",
    "        self.lloss = localizationloss\n",
    "        self.opt = opt\n",
    "    \n",
    "    def train_step(self, batch, **kwargs): \n",
    "        \n",
    "        X, y = batch\n",
    "        \n",
    "        with tf.GradientTape() as tape: \n",
    "            classes, coords = self.model(X, training=True)\n",
    "            \n",
    "            batch_classloss = self.closs(y[0], classes)\n",
    "            batch_localizationloss = self.lloss(tf.cast(y[1], tf.float32), coords)\n",
    "            \n",
    "            total_loss = batch_localizationloss+0.5*batch_classloss\n",
    "            \n",
    "            grad = tape.gradient(total_loss, self.model.trainable_variables)\n",
    "        \n",
    "        opt.apply_gradients(zip(grad, self.model.trainable_variables))\n",
    "        \n",
    "        return {\"total_loss\":total_loss, \"class_loss\":batch_classloss, \"regress_loss\":batch_localizationloss}\n",
    "    \n",
    "    def test_step(self, batch, **kwargs): \n",
    "        X, y = batch\n",
    "        \n",
    "        classes, coords = self.model(X, training=False)\n",
    "        \n",
    "        batch_classloss = self.closs(y[0], classes)\n",
    "        batch_localizationloss = self.lloss(tf.cast(y[1], tf.float32), coords)\n",
    "        total_loss = batch_localizationloss+0.5*batch_classloss\n",
    "        \n",
    "        return {\"total_loss\":total_loss, \"class_loss\":batch_classloss, \"regress_loss\":batch_localizationloss}\n",
    "        \n",
    "    def call(self, X, **kwargs): \n",
    "        return self.model(X, **kwargs)"
   ]
  },
  {
   "cell_type": "code",
   "execution_count": null,
   "metadata": {
    "tags": []
   },
   "outputs": [],
   "source": [
    "model = FaceTracker(facetracker)"
   ]
  },
  {
   "cell_type": "code",
   "execution_count": null,
   "metadata": {
    "tags": []
   },
   "outputs": [],
   "source": [
    "model.compile(opt, classloss, regressloss)"
   ]
  },
  {
   "cell_type": "markdown",
   "metadata": {},
   "source": [
    "### 10.2 Train"
   ]
  },
  {
   "cell_type": "code",
   "execution_count": null,
   "metadata": {
    "tags": []
   },
   "outputs": [],
   "source": [
    "logdir='logs'"
   ]
  },
  {
   "cell_type": "code",
   "execution_count": null,
   "metadata": {
    "tags": []
   },
   "outputs": [],
   "source": [
    "tensorboard_callback = tf.keras.callbacks.TensorBoard(log_dir=logdir)"
   ]
  },
  {
   "cell_type": "code",
   "execution_count": null,
   "metadata": {
    "scrolled": true,
    "tags": []
   },
   "outputs": [],
   "source": [
    "hist = model.fit(train, epochs=10, validation_data=val, callbacks=[tensorboard_callback])"
   ]
  },
  {
   "cell_type": "markdown",
   "metadata": {},
   "source": [
    "### 10.3 Plot Performance"
   ]
  },
  {
   "cell_type": "code",
   "execution_count": null,
   "metadata": {
    "scrolled": true,
    "tags": []
   },
   "outputs": [],
   "source": [
    "hist.history"
   ]
  },
  {
   "cell_type": "code",
   "execution_count": null,
   "metadata": {
    "tags": []
   },
   "outputs": [],
   "source": [
    "fig, ax = plt.subplots(ncols=3, figsize=(20,5))\n",
    "\n",
    "ax[0].plot(hist.history['total_loss'], color='teal', label='loss')\n",
    "ax[0].plot(hist.history['val_total_loss'], color='orange', label='val loss')\n",
    "ax[0].title.set_text('Loss')\n",
    "ax[0].legend()\n",
    "\n",
    "ax[1].plot(hist.history['class_loss'], color='teal', label='class loss')\n",
    "ax[1].plot(hist.history['val_class_loss'], color='orange', label='val class loss')\n",
    "ax[1].title.set_text('Classification Loss')\n",
    "ax[1].legend()\n",
    "\n",
    "ax[2].plot(hist.history['regress_loss'], color='teal', label='regress loss')\n",
    "ax[2].plot(hist.history['val_regress_loss'], color='orange', label='val regress loss')\n",
    "ax[2].title.set_text('Regression Loss')\n",
    "ax[2].legend()\n",
    "\n",
    "plt.show()"
   ]
  },
  {
   "cell_type": "markdown",
   "metadata": {},
   "source": [
    "# 11. Make Predictions"
   ]
  },
  {
   "cell_type": "markdown",
   "metadata": {},
   "source": [
    "### 11.1 Make Predictions on Test Set"
   ]
  },
  {
   "cell_type": "code",
   "execution_count": null,
   "metadata": {
    "tags": []
   },
   "outputs": [],
   "source": [
    "test_data = test.as_numpy_iterator()"
   ]
  },
  {
   "cell_type": "code",
   "execution_count": null,
   "metadata": {
    "tags": []
   },
   "outputs": [],
   "source": [
    "test_sample = test_data.next()"
   ]
  },
  {
   "cell_type": "code",
   "execution_count": null,
   "metadata": {
    "tags": []
   },
   "outputs": [],
   "source": [
    "yhat = facetracker.predict(test_sample[0])"
   ]
  },
  {
   "cell_type": "code",
   "execution_count": null,
   "metadata": {
    "tags": []
   },
   "outputs": [],
   "source": [
    "fig, ax = plt.subplots(ncols=4, figsize=(20,20))\n",
    "for idx in range(4): \n",
    "    sample_image = test_sample[0][idx]\n",
    "    sample_coords = yhat[1][idx]\n",
    "    \n",
    "    if yhat[0][idx] > 0.9:\n",
    "        cv2.rectangle(sample_image, \n",
    "                      tuple(np.multiply(sample_coords[:2], [120,120]).astype(int)),\n",
    "                      tuple(np.multiply(sample_coords[2:], [120,120]).astype(int)), \n",
    "                            (255,0,0), 2)\n",
    "    \n",
    "    ax[idx].imshow(sample_image)"
   ]
  },
  {
   "cell_type": "markdown",
   "metadata": {},
   "source": [
    "### 11.2 Save the Model"
   ]
  },
  {
   "cell_type": "code",
   "execution_count": null,
   "metadata": {
    "tags": []
   },
   "outputs": [],
   "source": [
    "from tensorflow.keras.models import load_model"
   ]
  },
  {
   "cell_type": "code",
   "execution_count": null,
   "metadata": {
    "tags": []
   },
   "outputs": [],
   "source": [
    "facetracker.save('facetracker.h5')"
   ]
  },
  {
   "cell_type": "code",
   "execution_count": null,
   "metadata": {
    "tags": []
   },
   "outputs": [],
   "source": [
    "facetracker = load_model('facetracker.h5')"
   ]
  },
  {
   "cell_type": "markdown",
   "metadata": {},
   "source": [
    "### 11.3 Real Time Detection"
   ]
  },
  {
   "cell_type": "code",
   "execution_count": null,
   "metadata": {
    "tags": []
   },
   "outputs": [],
   "source": [
    "cap = cv2.VideoCapture(1)\n",
    "while cap.isOpened():\n",
    "    _ , frame = cap.read()\n",
    "    frame = frame[50:500, 50:500,:]\n",
    "    \n",
    "    rgb = cv2.cvtColor(frame, cv2.COLOR_BGR2RGB)\n",
    "    resized = tf.image.resize(rgb, (120,120))\n",
    "    \n",
    "    yhat = facetracker.predict(np.expand_dims(resized/255,0))\n",
    "    sample_coords = yhat[1][0]\n",
    "    \n",
    "    if yhat[0] > 0.5: \n",
    "        # Controls the main rectangle\n",
    "        cv2.rectangle(frame, \n",
    "                      tuple(np.multiply(sample_coords[:2], [450,450]).astype(int)),\n",
    "                      tuple(np.multiply(sample_coords[2:], [450,450]).astype(int)), \n",
    "                            (255,0,0), 2)\n",
    "        # Controls the label rectangle\n",
    "        cv2.rectangle(frame, \n",
    "                      tuple(np.add(np.multiply(sample_coords[:2], [450,450]).astype(int), \n",
    "                                    [0,-30])),\n",
    "                      tuple(np.add(np.multiply(sample_coords[:2], [450,450]).astype(int),\n",
    "                                    [80,0])), \n",
    "                            (255,0,0), -1)\n",
    "        \n",
    "        # Controls the text rendered\n",
    "        cv2.putText(frame, 'face', tuple(np.add(np.multiply(sample_coords[:2], [450,450]).astype(int),\n",
    "                                               [0,-5])),\n",
    "                    cv2.FONT_HERSHEY_SIMPLEX, 1, (255,255,255), 2, cv2.LINE_AA)\n",
    "    \n",
    "    cv2.imshow('EyeTrack', frame)\n",
    "    \n",
    "    if cv2.waitKey(1) & 0xFF == ord('q'):\n",
    "        break\n",
    "cap.release()\n",
    "cv2.destroyAllWindows()"
   ]
  },
  {
   "cell_type": "code",
   "execution_count": null,
   "metadata": {},
   "outputs": [],
   "source": []
  }
 ],
 "metadata": {
  "kernelspec": {
   "display_name": "Python 3 (ipykernel)",
   "language": "python",
   "name": "python3"
  },
  "language_info": {
   "codemirror_mode": {
    "name": "ipython",
    "version": 3
   },
   "file_extension": ".py",
   "mimetype": "text/x-python",
   "name": "python",
   "nbconvert_exporter": "python",
   "pygments_lexer": "ipython3",
   "version": "3.8.18"
  }
 },
 "nbformat": 4,
 "nbformat_minor": 4
}
